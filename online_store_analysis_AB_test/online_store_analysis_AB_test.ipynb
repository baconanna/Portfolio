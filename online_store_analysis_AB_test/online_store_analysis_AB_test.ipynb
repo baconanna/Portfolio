{
  "cells": [
    {
      "cell_type": "markdown",
      "metadata": {
        "id": "m3mhOAl4Huod"
      },
      "source": [
        "# Анализ интернет-магазина: приоритезация гипотез и A/B-тест"
      ]
    },
    {
      "cell_type": "markdown",
      "metadata": {
        "id": "iwUKjxDjHuoe"
      },
      "source": [
        "## Описание проекта\n",
        "Вы — аналитик крупного интернет-магазина. Вместе с отделом маркетинга вы подготовили список гипотез для увеличения выручки. Приоритизируйте гипотезы, запустите A/B-тест и проанализируйте результаты."
      ]
    },
    {
      "cell_type": "markdown",
      "metadata": {
        "id": "ZsUyU3KMHuoe"
      },
      "source": [
        "### Описание данных\n",
        "**Данные для первой части**\n",
        "\n",
        "Файл /datasets/hypothesis.csv:\n",
        "- **Hypothesis** — краткое описание гипотезы;\n",
        "- **Reach** — охват пользователей по 10-балльной шкале;\n",
        "- **Impact** — влияние на пользователей по 10-балльной шкале;\n",
        "- **Confidence** — уверенность в гипотезе по 10-балльной шкале;\n",
        "- **Efforts** — затраты ресурсов на проверку гипотезы по 10-балльной шкале. Чем больше значение Efforts, тем дороже проверка гипотезы.\n",
        "\n",
        "**Данные для второй части**\n",
        "\n",
        "Файл /datasets/orders.csv:\n",
        "- **transactionId** — идентификатор заказа;\n",
        "- **visitorId** — идентификатор пользователя, совершившего заказ;\n",
        "- **date** — дата, когда был совершён заказ;\n",
        "- **revenue** — выручка заказа;\n",
        "- **group** — группа A/B-теста, в которую попал заказ.\n",
        "\n",
        "Файл /datasets/visitors.csv:\n",
        "- **date** — дата;\n",
        "- **group** — группа A/B-теста;\n",
        "- **visitors** — количество пользователей в указанную дату в указанной группе A/B-теста"
      ]
    },
    {
      "cell_type": "markdown",
      "metadata": {
        "id": "ChxhukyUHuog"
      },
      "source": [
        "### Подготовка данных"
      ]
    },
    {
      "cell_type": "code",
      "execution_count": null,
      "metadata": {
        "id": "XuQShSxOHuoh"
      },
      "outputs": [],
      "source": [
        "# импортируем библиотеки\n",
        "import pandas as pd\n",
        "import numpy as np\n",
        "import matplotlib.pyplot as plt\n",
        "from scipy import stats\n",
        "import datetime as dt"
      ]
    },
    {
      "cell_type": "code",
      "execution_count": null,
      "metadata": {
        "id": "3YFmFmg5Huoj",
        "outputId": "481e02e5-344c-406a-e9ae-53751abf4b37"
      },
      "outputs": [
        {
          "name": "stdout",
          "output_type": "stream",
          "text": [
            "<class 'pandas.core.frame.DataFrame'>\n",
            "RangeIndex: 9 entries, 0 to 8\n",
            "Data columns (total 5 columns):\n",
            " #   Column      Non-Null Count  Dtype \n",
            "---  ------      --------------  ----- \n",
            " 0   Hypothesis  9 non-null      object\n",
            " 1   Reach       9 non-null      int64 \n",
            " 2   Impact      9 non-null      int64 \n",
            " 3   Confidence  9 non-null      int64 \n",
            " 4   Efforts     9 non-null      int64 \n",
            "dtypes: int64(4), object(1)\n",
            "memory usage: 488.0+ bytes\n"
          ]
        },
        {
          "data": {
            "text/html": [
              "<div>\n",
              "<style scoped>\n",
              "    .dataframe tbody tr th:only-of-type {\n",
              "        vertical-align: middle;\n",
              "    }\n",
              "\n",
              "    .dataframe tbody tr th {\n",
              "        vertical-align: top;\n",
              "    }\n",
              "\n",
              "    .dataframe thead th {\n",
              "        text-align: right;\n",
              "    }\n",
              "</style>\n",
              "<table border=\"1\" class=\"dataframe\">\n",
              "  <thead>\n",
              "    <tr style=\"text-align: right;\">\n",
              "      <th></th>\n",
              "      <th>Hypothesis</th>\n",
              "      <th>Reach</th>\n",
              "      <th>Impact</th>\n",
              "      <th>Confidence</th>\n",
              "      <th>Efforts</th>\n",
              "    </tr>\n",
              "  </thead>\n",
              "  <tbody>\n",
              "    <tr>\n",
              "      <th>0</th>\n",
              "      <td>Добавить два новых канала привлечения трафика,...</td>\n",
              "      <td>3</td>\n",
              "      <td>10</td>\n",
              "      <td>8</td>\n",
              "      <td>6</td>\n",
              "    </tr>\n",
              "    <tr>\n",
              "      <th>1</th>\n",
              "      <td>Запустить собственную службу доставки, что сок...</td>\n",
              "      <td>2</td>\n",
              "      <td>5</td>\n",
              "      <td>4</td>\n",
              "      <td>10</td>\n",
              "    </tr>\n",
              "    <tr>\n",
              "      <th>2</th>\n",
              "      <td>Добавить блоки рекомендаций товаров на сайт ин...</td>\n",
              "      <td>8</td>\n",
              "      <td>3</td>\n",
              "      <td>7</td>\n",
              "      <td>3</td>\n",
              "    </tr>\n",
              "    <tr>\n",
              "      <th>3</th>\n",
              "      <td>Изменить структура категорий, что увеличит кон...</td>\n",
              "      <td>8</td>\n",
              "      <td>3</td>\n",
              "      <td>3</td>\n",
              "      <td>8</td>\n",
              "    </tr>\n",
              "    <tr>\n",
              "      <th>4</th>\n",
              "      <td>Изменить цвет фона главной страницы, чтобы уве...</td>\n",
              "      <td>3</td>\n",
              "      <td>1</td>\n",
              "      <td>1</td>\n",
              "      <td>1</td>\n",
              "    </tr>\n",
              "  </tbody>\n",
              "</table>\n",
              "</div>"
            ],
            "text/plain": [
              "                                          Hypothesis  Reach  Impact  \\\n",
              "0  Добавить два новых канала привлечения трафика,...      3      10   \n",
              "1  Запустить собственную службу доставки, что сок...      2       5   \n",
              "2  Добавить блоки рекомендаций товаров на сайт ин...      8       3   \n",
              "3  Изменить структура категорий, что увеличит кон...      8       3   \n",
              "4  Изменить цвет фона главной страницы, чтобы уве...      3       1   \n",
              "\n",
              "   Confidence  Efforts  \n",
              "0           8        6  \n",
              "1           4       10  \n",
              "2           7        3  \n",
              "3           3        8  \n",
              "4           1        1  "
            ]
          },
          "metadata": {},
          "output_type": "display_data"
        }
      ],
      "source": [
        "# подгрузим датасеты, проверим их на наличие пропусков и соответствие типам данных\n",
        "hypothesis = pd.read_csv('/datasets/hypothesis.csv')\n",
        "hypothesis.info()\n",
        "display(hypothesis.head())"
      ]
    },
    {
      "cell_type": "code",
      "execution_count": null,
      "metadata": {
        "id": "FlHQditaHuoo",
        "outputId": "93d70447-fd0c-4b30-b3d7-e865356cd9d6"
      },
      "outputs": [
        {
          "name": "stdout",
          "output_type": "stream",
          "text": [
            "\n",
            "Начальная дата 2019-08-01, конечная дата 2019-08-31\n",
            "\n",
            "<class 'pandas.core.frame.DataFrame'>\n",
            "RangeIndex: 1197 entries, 0 to 1196\n",
            "Data columns (total 5 columns):\n",
            " #   Column         Non-Null Count  Dtype         \n",
            "---  ------         --------------  -----         \n",
            " 0   transactionId  1197 non-null   int64         \n",
            " 1   visitorId      1197 non-null   int64         \n",
            " 2   date           1197 non-null   datetime64[ns]\n",
            " 3   revenue        1197 non-null   int64         \n",
            " 4   group          1197 non-null   object        \n",
            "dtypes: datetime64[ns](1), int64(3), object(1)\n",
            "memory usage: 46.9+ KB\n"
          ]
        },
        {
          "data": {
            "text/html": [
              "<div>\n",
              "<style scoped>\n",
              "    .dataframe tbody tr th:only-of-type {\n",
              "        vertical-align: middle;\n",
              "    }\n",
              "\n",
              "    .dataframe tbody tr th {\n",
              "        vertical-align: top;\n",
              "    }\n",
              "\n",
              "    .dataframe thead th {\n",
              "        text-align: right;\n",
              "    }\n",
              "</style>\n",
              "<table border=\"1\" class=\"dataframe\">\n",
              "  <thead>\n",
              "    <tr style=\"text-align: right;\">\n",
              "      <th></th>\n",
              "      <th>transactionId</th>\n",
              "      <th>visitorId</th>\n",
              "      <th>date</th>\n",
              "      <th>revenue</th>\n",
              "      <th>group</th>\n",
              "    </tr>\n",
              "  </thead>\n",
              "  <tbody>\n",
              "    <tr>\n",
              "      <th>0</th>\n",
              "      <td>3667963787</td>\n",
              "      <td>3312258926</td>\n",
              "      <td>2019-08-15</td>\n",
              "      <td>1650</td>\n",
              "      <td>B</td>\n",
              "    </tr>\n",
              "    <tr>\n",
              "      <th>1</th>\n",
              "      <td>2804400009</td>\n",
              "      <td>3642806036</td>\n",
              "      <td>2019-08-15</td>\n",
              "      <td>730</td>\n",
              "      <td>B</td>\n",
              "    </tr>\n",
              "    <tr>\n",
              "      <th>2</th>\n",
              "      <td>2961555356</td>\n",
              "      <td>4069496402</td>\n",
              "      <td>2019-08-15</td>\n",
              "      <td>400</td>\n",
              "      <td>A</td>\n",
              "    </tr>\n",
              "    <tr>\n",
              "      <th>3</th>\n",
              "      <td>3797467345</td>\n",
              "      <td>1196621759</td>\n",
              "      <td>2019-08-15</td>\n",
              "      <td>9759</td>\n",
              "      <td>B</td>\n",
              "    </tr>\n",
              "    <tr>\n",
              "      <th>4</th>\n",
              "      <td>2282983706</td>\n",
              "      <td>2322279887</td>\n",
              "      <td>2019-08-15</td>\n",
              "      <td>2308</td>\n",
              "      <td>B</td>\n",
              "    </tr>\n",
              "  </tbody>\n",
              "</table>\n",
              "</div>"
            ],
            "text/plain": [
              "   transactionId   visitorId       date  revenue group\n",
              "0     3667963787  3312258926 2019-08-15     1650     B\n",
              "1     2804400009  3642806036 2019-08-15      730     B\n",
              "2     2961555356  4069496402 2019-08-15      400     A\n",
              "3     3797467345  1196621759 2019-08-15     9759     B\n",
              "4     2282983706  2322279887 2019-08-15     2308     B"
            ]
          },
          "metadata": {},
          "output_type": "display_data"
        }
      ],
      "source": [
        "orders = pd.read_csv('/datasets/orders.csv')\n",
        "orders['date'] = orders['date'].astype('datetime64[D]')\n",
        "orders['date'] = orders['date'].map(lambda x: dt.datetime.strftime(x, '%Y-%m-%d'))\n",
        "print('\\nНачальная дата {}, конечная дата {}\\n'.format(orders['date'].min(), orders['date'].max()))\n",
        "orders['date'] = orders['date'].map(lambda x: dt.datetime.strptime(x, '%Y-%m-%d'))\n",
        "orders.info()\n",
        "display(orders.head())"
      ]
    },
    {
      "cell_type": "code",
      "execution_count": null,
      "metadata": {
        "id": "cxs6OSWmHuop",
        "outputId": "a3dd3f7e-bc68-43a2-e6a8-ec6c71fdc83a"
      },
      "outputs": [
        {
          "name": "stdout",
          "output_type": "stream",
          "text": [
            "\n",
            "Начальная дата 2019-08-01, конечная дата 2019-08-31\n",
            "\n",
            "<class 'pandas.core.frame.DataFrame'>\n",
            "RangeIndex: 62 entries, 0 to 61\n",
            "Data columns (total 3 columns):\n",
            " #   Column    Non-Null Count  Dtype         \n",
            "---  ------    --------------  -----         \n",
            " 0   date      62 non-null     datetime64[ns]\n",
            " 1   group     62 non-null     object        \n",
            " 2   visitors  62 non-null     int64         \n",
            "dtypes: datetime64[ns](1), int64(1), object(1)\n",
            "memory usage: 1.6+ KB\n"
          ]
        },
        {
          "data": {
            "text/html": [
              "<div>\n",
              "<style scoped>\n",
              "    .dataframe tbody tr th:only-of-type {\n",
              "        vertical-align: middle;\n",
              "    }\n",
              "\n",
              "    .dataframe tbody tr th {\n",
              "        vertical-align: top;\n",
              "    }\n",
              "\n",
              "    .dataframe thead th {\n",
              "        text-align: right;\n",
              "    }\n",
              "</style>\n",
              "<table border=\"1\" class=\"dataframe\">\n",
              "  <thead>\n",
              "    <tr style=\"text-align: right;\">\n",
              "      <th></th>\n",
              "      <th>date</th>\n",
              "      <th>group</th>\n",
              "      <th>visitors</th>\n",
              "    </tr>\n",
              "  </thead>\n",
              "  <tbody>\n",
              "    <tr>\n",
              "      <th>0</th>\n",
              "      <td>2019-08-01</td>\n",
              "      <td>A</td>\n",
              "      <td>719</td>\n",
              "    </tr>\n",
              "    <tr>\n",
              "      <th>1</th>\n",
              "      <td>2019-08-02</td>\n",
              "      <td>A</td>\n",
              "      <td>619</td>\n",
              "    </tr>\n",
              "    <tr>\n",
              "      <th>2</th>\n",
              "      <td>2019-08-03</td>\n",
              "      <td>A</td>\n",
              "      <td>507</td>\n",
              "    </tr>\n",
              "    <tr>\n",
              "      <th>3</th>\n",
              "      <td>2019-08-04</td>\n",
              "      <td>A</td>\n",
              "      <td>717</td>\n",
              "    </tr>\n",
              "    <tr>\n",
              "      <th>4</th>\n",
              "      <td>2019-08-05</td>\n",
              "      <td>A</td>\n",
              "      <td>756</td>\n",
              "    </tr>\n",
              "  </tbody>\n",
              "</table>\n",
              "</div>"
            ],
            "text/plain": [
              "        date group  visitors\n",
              "0 2019-08-01     A       719\n",
              "1 2019-08-02     A       619\n",
              "2 2019-08-03     A       507\n",
              "3 2019-08-04     A       717\n",
              "4 2019-08-05     A       756"
            ]
          },
          "metadata": {},
          "output_type": "display_data"
        }
      ],
      "source": [
        "visitors = pd.read_csv('/datasets/visitors.csv')\n",
        "visitors['date'] = visitors['date'].astype('datetime64[D]')\n",
        "visitors['date'] = visitors['date'].map(lambda x: dt.datetime.strftime(x, '%Y-%m-%d'))\n",
        "print('\\nНачальная дата {}, конечная дата {}\\n'.format(visitors['date'].min(), visitors['date'].max()))\n",
        "visitors['date'] = visitors['date'].map(lambda x: dt.datetime.strptime(x, '%Y-%m-%d'))\n",
        "visitors.info()\n",
        "display(visitors.head())"
      ]
    },
    {
      "cell_type": "markdown",
      "metadata": {
        "id": "1Kr2H8pkHuos"
      },
      "source": [
        "## Приоритезация гипотез"
      ]
    },
    {
      "cell_type": "code",
      "execution_count": null,
      "metadata": {
        "id": "nZHNAbPlHuos",
        "outputId": "c9227889-992c-4090-a0d9-2f6bfcc411f1"
      },
      "outputs": [
        {
          "data": {
            "text/html": [
              "<div>\n",
              "<style scoped>\n",
              "    .dataframe tbody tr th:only-of-type {\n",
              "        vertical-align: middle;\n",
              "    }\n",
              "\n",
              "    .dataframe tbody tr th {\n",
              "        vertical-align: top;\n",
              "    }\n",
              "\n",
              "    .dataframe thead th {\n",
              "        text-align: right;\n",
              "    }\n",
              "</style>\n",
              "<table border=\"1\" class=\"dataframe\">\n",
              "  <thead>\n",
              "    <tr style=\"text-align: right;\">\n",
              "      <th></th>\n",
              "      <th>Hypothesis</th>\n",
              "      <th>ICE</th>\n",
              "    </tr>\n",
              "  </thead>\n",
              "  <tbody>\n",
              "    <tr>\n",
              "      <th>8</th>\n",
              "      <td>Запустить акцию, дающую скидку на товар в день...</td>\n",
              "      <td>16.200000</td>\n",
              "    </tr>\n",
              "    <tr>\n",
              "      <th>0</th>\n",
              "      <td>Добавить два новых канала привлечения трафика,...</td>\n",
              "      <td>13.333333</td>\n",
              "    </tr>\n",
              "    <tr>\n",
              "      <th>7</th>\n",
              "      <td>Добавить форму подписки на все основные страни...</td>\n",
              "      <td>11.200000</td>\n",
              "    </tr>\n",
              "    <tr>\n",
              "      <th>6</th>\n",
              "      <td>Показать на главной странице баннеры с актуаль...</td>\n",
              "      <td>8.000000</td>\n",
              "    </tr>\n",
              "    <tr>\n",
              "      <th>2</th>\n",
              "      <td>Добавить блоки рекомендаций товаров на сайт ин...</td>\n",
              "      <td>7.000000</td>\n",
              "    </tr>\n",
              "    <tr>\n",
              "      <th>1</th>\n",
              "      <td>Запустить собственную службу доставки, что сок...</td>\n",
              "      <td>2.000000</td>\n",
              "    </tr>\n",
              "    <tr>\n",
              "      <th>5</th>\n",
              "      <td>Добавить страницу отзывов клиентов о магазине,...</td>\n",
              "      <td>1.333333</td>\n",
              "    </tr>\n",
              "    <tr>\n",
              "      <th>3</th>\n",
              "      <td>Изменить структура категорий, что увеличит кон...</td>\n",
              "      <td>1.125000</td>\n",
              "    </tr>\n",
              "    <tr>\n",
              "      <th>4</th>\n",
              "      <td>Изменить цвет фона главной страницы, чтобы уве...</td>\n",
              "      <td>1.000000</td>\n",
              "    </tr>\n",
              "  </tbody>\n",
              "</table>\n",
              "</div>"
            ],
            "text/plain": [
              "                                          Hypothesis        ICE\n",
              "8  Запустить акцию, дающую скидку на товар в день...  16.200000\n",
              "0  Добавить два новых канала привлечения трафика,...  13.333333\n",
              "7  Добавить форму подписки на все основные страни...  11.200000\n",
              "6  Показать на главной странице баннеры с актуаль...   8.000000\n",
              "2  Добавить блоки рекомендаций товаров на сайт ин...   7.000000\n",
              "1  Запустить собственную службу доставки, что сок...   2.000000\n",
              "5  Добавить страницу отзывов клиентов о магазине,...   1.333333\n",
              "3  Изменить структура категорий, что увеличит кон...   1.125000\n",
              "4  Изменить цвет фона главной страницы, чтобы уве...   1.000000"
            ]
          },
          "metadata": {},
          "output_type": "display_data"
        }
      ],
      "source": [
        "# метод ICE\n",
        "hypothesis['ICE'] = hypothesis['Impact'] * hypothesis['Confidence'] / hypothesis['Efforts']\n",
        "display(hypothesis[['Hypothesis', 'ICE']].sort_values(by='ICE', ascending =False))"
      ]
    },
    {
      "cell_type": "markdown",
      "metadata": {
        "id": "prK_zZIbHuot"
      },
      "source": [
        "Наиболее перспективные гипотезы 8, 0, 7."
      ]
    },
    {
      "cell_type": "code",
      "execution_count": null,
      "metadata": {
        "id": "9_maPcg5Huot",
        "outputId": "e859b218-84a8-4882-839f-15713a64c757"
      },
      "outputs": [
        {
          "data": {
            "text/html": [
              "<div>\n",
              "<style scoped>\n",
              "    .dataframe tbody tr th:only-of-type {\n",
              "        vertical-align: middle;\n",
              "    }\n",
              "\n",
              "    .dataframe tbody tr th {\n",
              "        vertical-align: top;\n",
              "    }\n",
              "\n",
              "    .dataframe thead th {\n",
              "        text-align: right;\n",
              "    }\n",
              "</style>\n",
              "<table border=\"1\" class=\"dataframe\">\n",
              "  <thead>\n",
              "    <tr style=\"text-align: right;\">\n",
              "      <th></th>\n",
              "      <th>Hypothesis</th>\n",
              "      <th>RICE</th>\n",
              "    </tr>\n",
              "  </thead>\n",
              "  <tbody>\n",
              "    <tr>\n",
              "      <th>7</th>\n",
              "      <td>Добавить форму подписки на все основные страни...</td>\n",
              "      <td>112.0</td>\n",
              "    </tr>\n",
              "    <tr>\n",
              "      <th>2</th>\n",
              "      <td>Добавить блоки рекомендаций товаров на сайт ин...</td>\n",
              "      <td>56.0</td>\n",
              "    </tr>\n",
              "    <tr>\n",
              "      <th>0</th>\n",
              "      <td>Добавить два новых канала привлечения трафика,...</td>\n",
              "      <td>40.0</td>\n",
              "    </tr>\n",
              "    <tr>\n",
              "      <th>6</th>\n",
              "      <td>Показать на главной странице баннеры с актуаль...</td>\n",
              "      <td>40.0</td>\n",
              "    </tr>\n",
              "    <tr>\n",
              "      <th>8</th>\n",
              "      <td>Запустить акцию, дающую скидку на товар в день...</td>\n",
              "      <td>16.2</td>\n",
              "    </tr>\n",
              "    <tr>\n",
              "      <th>3</th>\n",
              "      <td>Изменить структура категорий, что увеличит кон...</td>\n",
              "      <td>9.0</td>\n",
              "    </tr>\n",
              "    <tr>\n",
              "      <th>1</th>\n",
              "      <td>Запустить собственную службу доставки, что сок...</td>\n",
              "      <td>4.0</td>\n",
              "    </tr>\n",
              "    <tr>\n",
              "      <th>5</th>\n",
              "      <td>Добавить страницу отзывов клиентов о магазине,...</td>\n",
              "      <td>4.0</td>\n",
              "    </tr>\n",
              "    <tr>\n",
              "      <th>4</th>\n",
              "      <td>Изменить цвет фона главной страницы, чтобы уве...</td>\n",
              "      <td>3.0</td>\n",
              "    </tr>\n",
              "  </tbody>\n",
              "</table>\n",
              "</div>"
            ],
            "text/plain": [
              "                                          Hypothesis   RICE\n",
              "7  Добавить форму подписки на все основные страни...  112.0\n",
              "2  Добавить блоки рекомендаций товаров на сайт ин...   56.0\n",
              "0  Добавить два новых канала привлечения трафика,...   40.0\n",
              "6  Показать на главной странице баннеры с актуаль...   40.0\n",
              "8  Запустить акцию, дающую скидку на товар в день...   16.2\n",
              "3  Изменить структура категорий, что увеличит кон...    9.0\n",
              "1  Запустить собственную службу доставки, что сок...    4.0\n",
              "5  Добавить страницу отзывов клиентов о магазине,...    4.0\n",
              "4  Изменить цвет фона главной страницы, чтобы уве...    3.0"
            ]
          },
          "metadata": {},
          "output_type": "display_data"
        }
      ],
      "source": [
        "# метод RICE\n",
        "hypothesis['RICE'] = hypothesis['Reach'] * hypothesis['Impact'] * hypothesis['Confidence'] / hypothesis['Efforts']\n",
        "display(hypothesis[['Hypothesis', 'RICE']].sort_values(by='RICE', ascending =False))"
      ]
    },
    {
      "cell_type": "markdown",
      "metadata": {
        "id": "gIuV7gJCHuou"
      },
      "source": [
        "Здесь уже видим другую картину: наиболее перспективные гипотезы 7, 2, 0.\n",
        "\n",
        "Результаты отличаются, так как в случае ICE не учитывается охват изменений. Для нашего анализа это важная составляющая оценки гипотез, поэтому наиболее приоритетными гипотезами будут 7, 2, 0."
      ]
    },
    {
      "cell_type": "markdown",
      "metadata": {
        "id": "f5f8ZUf-Huow"
      },
      "source": [
        "## Анализ A/B-теста"
      ]
    },
    {
      "cell_type": "code",
      "execution_count": null,
      "metadata": {
        "id": "Fc0g31IAHuow",
        "outputId": "71aafd40-35c2-4b84-c671-2fe7a6470a37"
      },
      "outputs": [
        {
          "name": "stdout",
          "output_type": "stream",
          "text": [
            "Кол-во посетителей в группе А: 18736\n",
            "Кол-во посетителей в группе B: 18916\n",
            "Кол-во покупок в группе A: 557\n",
            "Кол-во покупок в группе B: 640\n"
          ]
        },
        {
          "data": {
            "image/png": "[encoded data removed]",
            "text/plain": [
              "<Figure size 432x288 with 1 Axes>"
            ]
          },
          "metadata": {
            "needs_background": "light"
          },
          "output_type": "display_data"
        },
        {
          "name": "stdout",
          "output_type": "stream",
          "text": [
            "P-value:0.7301376549390499\n",
            "Разница в количестве посетителей в группах A и B статистически НЕ значима\n",
            "\n",
            "Начальная конверсия: 0.030\n",
            "Полученная после изменений конверсия: 0.034\n",
            "Относительное изменение конверсии после изменений: 0.121\n"
          ]
        }
      ],
      "source": [
        "# проверим корректность распределения на группы A/B\n",
        "\n",
        "print('Кол-во посетителей в группе А: {}\\n'\n",
        "      'Кол-во посетителей в группе B: {}'.format(visitors[visitors['group']=='A']['visitors'].sum(), \n",
        "                                                 visitors[visitors['group']=='B']['visitors'].sum()))\n",
        "purchasesA = len(orders[orders['group']=='A'])\n",
        "purchasesB = len(orders[orders['group']=='B'])\n",
        "print('Кол-во покупок в группе A: {}'.format(purchasesA))\n",
        "print('Кол-во покупок в группе B: {}'.format(purchasesB))\n",
        "\n",
        "plt.hist(visitors[visitors['group']=='A']['visitors'], alpha = 0.8, label='A', bins = 30)\n",
        "plt.hist(visitors[visitors['group']=='B']['visitors'], alpha = 0.8, label='B', bins = 30)\n",
        "plt.legend()\n",
        "plt.title('Гистограммы кол-ва посетителей в день по группам A и B')\n",
        "plt.show()\n",
        "\n",
        "results = stats.mannwhitneyu(visitors[visitors['group']=='A']['visitors'], visitors[visitors['group']=='B']['visitors'])\n",
        "alpha = 0.05\n",
        "print('P-value:{}'.format(results.pvalue))\n",
        "\n",
        "if results.pvalue < alpha:\n",
        "    print('Разница в количестве посетителей в группах A и B статистически значима\\n')\n",
        "else:\n",
        "    print('Разница в количестве посетителей в группах A и B статистически НЕ значима\\n')\n",
        "\n",
        "initial_conversion = len(orders[orders['group']=='A']) / visitors[visitors['group']=='A']['visitors'].sum() \n",
        "resulting_conversion = len(orders[orders['group']=='B']) / visitors[visitors['group']=='B']['visitors'].sum()\n",
        "\n",
        "print('Начальная конверсия: {:.3f}'.format(initial_conversion))\n",
        "print('Полученная после изменений конверсия: {:.3f}'.format(resulting_conversion))\n",
        "print('Относительное изменение конверсии после изменений: {:.3f}'.format(abs(1-(initial_conversion/resulting_conversion))))"
      ]
    },
    {
      "cell_type": "markdown",
      "metadata": {
        "id": "4X-Uir_jHuox"
      },
      "source": [
        "Проверим в калькуляторе https://www.evanmiller.org/ab-testing/sample-size.html необходимое количество выборки для корректного проведения теста. Для этого вводим вводим в калькулятор начальную конверсию и относительное изменение конверсии и получаем, что необходимое количество выборки должно быть **35855**. У нас же количество **37652**. Это означает, что количество выборки для A/B-теста подобрано корректно, и статистически значимой разницы в количестве посещений между группами не обнаружено."
      ]
    },
    {
      "cell_type": "markdown",
      "metadata": {
        "id": "N5cE2ZKWHuoy"
      },
      "source": [
        "### Кумулятивные метрики"
      ]
    },
    {
      "cell_type": "code",
      "execution_count": null,
      "metadata": {
        "id": "DEpa1fjAHuoy",
        "outputId": "90f18ac0-11bc-403d-ea82-c1fdc8320b46"
      },
      "outputs": [
        {
          "data": {
            "text/html": [
              "<div>\n",
              "<style scoped>\n",
              "    .dataframe tbody tr th:only-of-type {\n",
              "        vertical-align: middle;\n",
              "    }\n",
              "\n",
              "    .dataframe tbody tr th {\n",
              "        vertical-align: top;\n",
              "    }\n",
              "\n",
              "    .dataframe thead th {\n",
              "        text-align: right;\n",
              "    }\n",
              "</style>\n",
              "<table border=\"1\" class=\"dataframe\">\n",
              "  <thead>\n",
              "    <tr style=\"text-align: right;\">\n",
              "      <th></th>\n",
              "      <th>date</th>\n",
              "      <th>group</th>\n",
              "      <th>orders</th>\n",
              "      <th>buyers</th>\n",
              "      <th>revenue</th>\n",
              "      <th>visitors</th>\n",
              "    </tr>\n",
              "  </thead>\n",
              "  <tbody>\n",
              "    <tr>\n",
              "      <th>0</th>\n",
              "      <td>2019-08-01</td>\n",
              "      <td>A</td>\n",
              "      <td>24</td>\n",
              "      <td>20</td>\n",
              "      <td>148579</td>\n",
              "      <td>719</td>\n",
              "    </tr>\n",
              "    <tr>\n",
              "      <th>1</th>\n",
              "      <td>2019-08-01</td>\n",
              "      <td>B</td>\n",
              "      <td>21</td>\n",
              "      <td>20</td>\n",
              "      <td>101217</td>\n",
              "      <td>713</td>\n",
              "    </tr>\n",
              "    <tr>\n",
              "      <th>2</th>\n",
              "      <td>2019-08-02</td>\n",
              "      <td>A</td>\n",
              "      <td>44</td>\n",
              "      <td>38</td>\n",
              "      <td>242401</td>\n",
              "      <td>1338</td>\n",
              "    </tr>\n",
              "    <tr>\n",
              "      <th>3</th>\n",
              "      <td>2019-08-02</td>\n",
              "      <td>B</td>\n",
              "      <td>45</td>\n",
              "      <td>43</td>\n",
              "      <td>266748</td>\n",
              "      <td>1294</td>\n",
              "    </tr>\n",
              "    <tr>\n",
              "      <th>4</th>\n",
              "      <td>2019-08-03</td>\n",
              "      <td>A</td>\n",
              "      <td>68</td>\n",
              "      <td>62</td>\n",
              "      <td>354874</td>\n",
              "      <td>1845</td>\n",
              "    </tr>\n",
              "  </tbody>\n",
              "</table>\n",
              "</div>"
            ],
            "text/plain": [
              "        date group  orders  buyers  revenue  visitors\n",
              "0 2019-08-01     A      24      20   148579       719\n",
              "1 2019-08-01     B      21      20   101217       713\n",
              "2 2019-08-02     A      44      38   242401      1338\n",
              "3 2019-08-02     B      45      43   266748      1294\n",
              "4 2019-08-03     A      68      62   354874      1845"
            ]
          },
          "metadata": {},
          "output_type": "display_data"
        }
      ],
      "source": [
        "#достаем уникальные значения дат и групп\n",
        "datesGroups = orders[['date','group']].drop_duplicates().sort_values(by=['date', 'group'])\n",
        "\n",
        "#выводим кумулятивные показатели из orders\n",
        "ordersAggregated = datesGroups.apply(lambda x: orders[np.logical_and(x['date'] >= orders['date'], x['group']==orders['group'])]\\\n",
        ".agg({'date':'max', 'group':'max', 'transactionId':'nunique', 'visitorId':'nunique', 'revenue':'sum'}), axis = 1)\n",
        "ordersAggregated.columns = ['date', 'group', 'orders', 'buyers', 'revenue']\n",
        "\n",
        "#выводим кумулятивные показатели из visitors\n",
        "visitorsAggregated = datesGroups.apply(lambda x: visitors[np.logical_and(x['date'] >= visitors['date'], x['group']==visitors['group'])]\\\n",
        ".agg({'date':'max', 'group':'max', 'visitors':'sum'}), axis = 1)\n",
        "\n",
        "#сводим все накопительные данные в одну таблицу\n",
        "cummulativeData = ordersAggregated.merge(visitorsAggregated, left_on=['date', 'group'], right_on=['date', 'group'])\n",
        "display(cummulativeData.head())"
      ]
    },
    {
      "cell_type": "code",
      "execution_count": null,
      "metadata": {
        "id": "F0YEkSVFHuoz",
        "outputId": "47fb0641-8a6c-4bc5-e566-30eaf05b7ab6"
      },
      "outputs": [
        {
          "data": {
            "image/png": "[encoded data removed]",
            "text/plain": [
              "<Figure size 720x288 with 1 Axes>"
            ]
          },
          "metadata": {
            "needs_background": "light"
          },
          "output_type": "display_data"
        }
      ],
      "source": [
        "# визуализируем\n",
        "\n",
        "cummulativeDataA = cummulativeData[cummulativeData['group']=='A']\n",
        "cummulativeDataB = cummulativeData[cummulativeData['group']=='B']\n",
        "\n",
        "plt.figure(figsize=(10,4))\n",
        "plt.plot(cummulativeDataA['date'], cummulativeDataA['revenue'], label = 'A')\n",
        "plt.plot(cummulativeDataB['date'], cummulativeDataB['revenue'], label = 'B')\n",
        "plt.ylabel('Выручка')\n",
        "plt.xlabel('Дата')\n",
        "plt.title('График кумулятивной выручки по группам A/B')\n",
        "plt.legend()\n",
        "plt.show()"
      ]
    },
    {
      "cell_type": "markdown",
      "metadata": {
        "id": "fWlQOogbHuo0"
      },
      "source": [
        "По графику видно, что группа B стабильно показывает большую выручку чем группа A."
      ]
    },
    {
      "cell_type": "code",
      "execution_count": null,
      "metadata": {
        "id": "qsp8OGJcHuo0",
        "outputId": "c8d1cfc9-facb-43db-b53a-37378f5f2f3d"
      },
      "outputs": [
        {
          "data": {
            "image/png": "[encoded data removed]",
            "text/plain": [
              "<Figure size 720x288 with 1 Axes>"
            ]
          },
          "metadata": {
            "needs_background": "light"
          },
          "output_type": "display_data"
        }
      ],
      "source": [
        "# построим график кумулятивного среднего чека по группам\n",
        "\n",
        "plt.figure(figsize=(10,4))\n",
        "plt.plot(cummulativeDataA['date'], cummulativeDataA['revenue']/cummulativeDataA['orders'], label = 'A')\n",
        "plt.plot(cummulativeDataB['date'], cummulativeDataB['revenue']/cummulativeDataB['orders'], label = 'B')\n",
        "plt.title('График кумулятивного среднего чека по группам A/B')\n",
        "plt.ylabel('Средний чек')\n",
        "plt.xlabel('Дата')\n",
        "plt.legend()\n",
        "plt.show()"
      ]
    },
    {
      "cell_type": "markdown",
      "metadata": {
        "id": "wqVFe_ZoHuo1"
      },
      "source": [
        "Средний чек в группе B почти всё время был выше, чем в группе A. Однако есть резкий скачок в середине графика, который может быть обусловлен аномалиями."
      ]
    },
    {
      "cell_type": "code",
      "execution_count": null,
      "metadata": {
        "id": "o9wbyuDfHuo1",
        "outputId": "2e17d8f3-b4fd-4957-96e9-bce470a65e29"
      },
      "outputs": [
        {
          "data": {
            "image/png": "[encoded data removed]",
            "text/plain": [
              "<Figure size 720x288 with 1 Axes>"
            ]
          },
          "metadata": {
            "needs_background": "light"
          },
          "output_type": "display_data"
        }
      ],
      "source": [
        "# построим график относительного изменения кумулятивного среднего чека группы B к группе A\n",
        "\n",
        "mergedCummulativeData = cummulativeDataA.merge(cummulativeDataB, left_on='date', right_on='date', suffixes=['A', 'B'])\n",
        "\n",
        "plt.figure(figsize=(10,4))\n",
        "plt.plot(mergedCummulativeData['date'], ((mergedCummulativeData['revenueB']/mergedCummulativeData['ordersB'])/\n",
        "                                       (mergedCummulativeData['revenueA']/mergedCummulativeData['ordersA'])-1))\n",
        "plt.axhline(y=0, color='black', linestyle = '--')\n",
        "plt.title('График относительного изменения кумулятивного среднего чека группы B к группе A')\n",
        "plt.xlabel('Дата')\n",
        "plt.show()"
      ]
    },
    {
      "cell_type": "markdown",
      "metadata": {
        "id": "ybSs0UHnHuo2"
      },
      "source": [
        "Колебания слишком резкие, необходимо проверить данные на наличие аномальных пользователей."
      ]
    },
    {
      "cell_type": "code",
      "execution_count": null,
      "metadata": {
        "id": "VNDfR8PwHuo2",
        "outputId": "741d9bb4-d45c-4672-e6cd-fdef046fa8cf"
      },
      "outputs": [
        {
          "data": {
            "image/png": "[encoded data removed]",
            "text/plain": [
              "<Figure size 720x288 with 1 Axes>"
            ]
          },
          "metadata": {
            "needs_background": "light"
          },
          "output_type": "display_data"
        }
      ],
      "source": [
        "# построим график кумулятивной конверсии по группам\n",
        "\n",
        "mergedCummulativeData['conversionA'] =  mergedCummulativeData['ordersA'] / mergedCummulativeData['visitorsA'] \n",
        "mergedCummulativeData['conversionB'] =  mergedCummulativeData['ordersB'] / mergedCummulativeData['visitorsB']\n",
        "\n",
        "plt.figure(figsize=(10,4))\n",
        "plt.plot(mergedCummulativeData['date'], mergedCummulativeData['conversionA'], label='A')\n",
        "plt.plot(mergedCummulativeData['date'], mergedCummulativeData['conversionB'], label='B')\n",
        "plt.title('График кумулятивной конверсии по группам A/B')\n",
        "plt.xlabel('Дата')\n",
        "plt.ylabel('Конверсия')\n",
        "plt.legend()\n",
        "plt.show()"
      ]
    },
    {
      "cell_type": "markdown",
      "metadata": {
        "id": "Tm5jTrsDHuo3"
      },
      "source": [
        "У группы B стабильно конверсия лучше, чем у группы A."
      ]
    },
    {
      "cell_type": "code",
      "execution_count": null,
      "metadata": {
        "id": "tHtumvNgHuo4",
        "outputId": "c9d4cd2c-b949-432e-8290-5caeef38ac1c"
      },
      "outputs": [
        {
          "data": {
            "image/png": "[encoded data removed]",
            "text/plain": [
              "<Figure size 720x288 with 1 Axes>"
            ]
          },
          "metadata": {
            "needs_background": "light"
          },
          "output_type": "display_data"
        }
      ],
      "source": [
        "# построим график относительного изменения кумулятивной конверсии группы B к группе A\n",
        "\n",
        "plt.figure(figsize=(10,4))\n",
        "plt.plot(mergedCummulativeData['date'], ((mergedCummulativeData['conversionB']/mergedCummulativeData['conversionA'])-1))\n",
        "plt.title('График относительного изменения кумулятивной конверсии группы B к группе A')\n",
        "plt.axhline(y=0, color='black', linestyle='--')\n",
        "plt.axhline(y=0.1, color='grey', linestyle='--')\n",
        "plt.xlabel('Дата')\n",
        "plt.show()"
      ]
    },
    {
      "cell_type": "markdown",
      "metadata": {
        "id": "6e9zWoZxHuo4"
      },
      "source": [
        "Конверсия группы B стабильно лучше конверсии группы A на 10% по просшествии 1 недели после начала."
      ]
    },
    {
      "cell_type": "markdown",
      "metadata": {
        "id": "AFDgKx3QHuo5"
      },
      "source": [
        "### Статистическая значимость различий"
      ]
    },
    {
      "cell_type": "code",
      "execution_count": null,
      "metadata": {
        "id": "d1g7nYZ_Huo5",
        "outputId": "17bb3086-d9aa-4f54-a998-f3aa4b94e292"
      },
      "outputs": [
        {
          "data": {
            "text/html": [
              "<div>\n",
              "<style scoped>\n",
              "    .dataframe tbody tr th:only-of-type {\n",
              "        vertical-align: middle;\n",
              "    }\n",
              "\n",
              "    .dataframe tbody tr th {\n",
              "        vertical-align: top;\n",
              "    }\n",
              "\n",
              "    .dataframe thead th {\n",
              "        text-align: right;\n",
              "    }\n",
              "</style>\n",
              "<table border=\"1\" class=\"dataframe\">\n",
              "  <thead>\n",
              "    <tr style=\"text-align: right;\">\n",
              "      <th></th>\n",
              "      <th>visitorId</th>\n",
              "      <th>orders</th>\n",
              "    </tr>\n",
              "  </thead>\n",
              "  <tbody>\n",
              "    <tr>\n",
              "      <th>1023</th>\n",
              "      <td>4256040402</td>\n",
              "      <td>11</td>\n",
              "    </tr>\n",
              "    <tr>\n",
              "      <th>591</th>\n",
              "      <td>2458001652</td>\n",
              "      <td>11</td>\n",
              "    </tr>\n",
              "    <tr>\n",
              "      <th>569</th>\n",
              "      <td>2378935119</td>\n",
              "      <td>9</td>\n",
              "    </tr>\n",
              "    <tr>\n",
              "      <th>487</th>\n",
              "      <td>2038680547</td>\n",
              "      <td>8</td>\n",
              "    </tr>\n",
              "    <tr>\n",
              "      <th>44</th>\n",
              "      <td>199603092</td>\n",
              "      <td>5</td>\n",
              "    </tr>\n",
              "  </tbody>\n",
              "</table>\n",
              "</div>"
            ],
            "text/plain": [
              "       visitorId  orders\n",
              "1023  4256040402      11\n",
              "591   2458001652      11\n",
              "569   2378935119       9\n",
              "487   2038680547       8\n",
              "44     199603092       5"
            ]
          },
          "metadata": {},
          "output_type": "display_data"
        },
        {
          "data": {
            "image/png": "[encoded data removed]",
            "text/plain": [
              "<Figure size 720x288 with 1 Axes>"
            ]
          },
          "metadata": {
            "needs_background": "light"
          },
          "output_type": "display_data"
        },
        {
          "data": {
            "image/png": "[encoded data removed]",
            "text/plain": [
              "<Figure size 720x288 with 1 Axes>"
            ]
          },
          "metadata": {
            "needs_background": "light"
          },
          "output_type": "display_data"
        }
      ],
      "source": [
        "# построим точечный график количества заказов по пользователям\n",
        "\n",
        "ordersByUsers = orders.groupby('visitorId', as_index = False).agg({'transactionId':'nunique'}).sort_values(by='transactionId', ascending = False)\n",
        "ordersByUsers.columns = ['visitorId', 'orders']\n",
        "display(ordersByUsers.head())\n",
        "\n",
        "plt.figure(figsize=(10,4))\n",
        "plt.hist(ordersByUsers['orders'], bins = 10)\n",
        "plt.title('Гистрограмма распределения количества заказов на одного пользователя')\n",
        "plt.show()\n",
        "\n",
        "x_values = pd.Series(range(0, len(ordersByUsers)))\n",
        "\n",
        "plt.figure(figsize=(10,4))\n",
        "plt.scatter(x_values, ordersByUsers['orders'])\n",
        "plt.title('Точечная диаграмма числа заказов на одного пользователя')\n",
        "plt.show()"
      ]
    },
    {
      "cell_type": "markdown",
      "metadata": {
        "id": "Y5W4-vekHuo6"
      },
      "source": [
        "По графикам видно, что большая часть пользователей совершает не больше 2 заказов."
      ]
    },
    {
      "cell_type": "code",
      "execution_count": null,
      "metadata": {
        "id": "QrvtFMqcHuo6",
        "outputId": "964a45c9-b9f2-44bd-dbaa-bc62fe6bd783"
      },
      "outputs": [
        {
          "name": "stdout",
          "output_type": "stream",
          "text": [
            "[2. 4.]\n"
          ]
        }
      ],
      "source": [
        "# посчитаем 95-й и 99-й перцентили количества заказов на пользователя, чтобы найти границу для определения аномальных пользователей\n",
        "\n",
        "print(np.percentile(ordersByUsers['orders'], [95, 99]))"
      ]
    },
    {
      "cell_type": "markdown",
      "metadata": {
        "id": "6yX3RFmMHuo7"
      },
      "source": [
        "Больше двух заказов совершают только 5% пользователей."
      ]
    },
    {
      "cell_type": "code",
      "execution_count": null,
      "metadata": {
        "id": "7KxMGbplHuo7",
        "outputId": "cb840c4c-7512-4afd-9754-604befc63bc6"
      },
      "outputs": [
        {
          "data": {
            "image/png": "[encoded data removed]",
            "text/plain": [
              "<Figure size 720x288 with 1 Axes>"
            ]
          },
          "metadata": {
            "needs_background": "light"
          },
          "output_type": "display_data"
        },
        {
          "data": {
            "image/png": "[encoded data removed]",
            "text/plain": [
              "<Figure size 720x288 with 1 Axes>"
            ]
          },
          "metadata": {
            "needs_background": "light"
          },
          "output_type": "display_data"
        }
      ],
      "source": [
        "# построим точечный график стоимостей заказов\n",
        "\n",
        "plt.figure(figsize=(10,4))\n",
        "plt.hist(orders['revenue'], range=(0,100000), bins = 100)\n",
        "plt.title('Гистрограмма распределения сумм заказов на одного пользователя')\n",
        "plt.show()\n",
        "\n",
        "x_values = pd.Series(range(0, len(orders)))\n",
        "\n",
        "plt.figure(figsize=(10,4))\n",
        "plt.scatter(x_values, orders['revenue'])\n",
        "plt.title('Точечная диаграмма сумм заказов на одного пользователя')\n",
        "plt.axis([0, 1200, 0, 200000])\n",
        "plt.show()"
      ]
    },
    {
      "cell_type": "markdown",
      "metadata": {
        "id": "zAZkYwnzHuo8"
      },
      "source": [
        "На графиках видно, что большая часть пользователей делает покупки суммой не больше 25-30 тысяч рублей."
      ]
    },
    {
      "cell_type": "code",
      "execution_count": null,
      "metadata": {
        "id": "YaOgJs_uHuo8",
        "outputId": "42617527-dd96-40f6-deb8-da3782ae6fce"
      },
      "outputs": [
        {
          "name": "stdout",
          "output_type": "stream",
          "text": [
            "[28000.  58233.2]\n"
          ]
        }
      ],
      "source": [
        "# посчитаем 95-й и 99-й перцентили сумм заказов на пользователя и выберем границу для определения аномальных пользователей\n",
        "\n",
        "print(np.percentile(orders['revenue'], [95, 99]))"
      ]
    },
    {
      "cell_type": "markdown",
      "metadata": {
        "id": "id1MVzdtHuo9"
      },
      "source": [
        "Только 5% пользователей совершают покупку стоимостью свыше 28 000 рублей."
      ]
    },
    {
      "cell_type": "markdown",
      "metadata": {
        "id": "dLYc-BuFHuo_"
      },
      "source": [
        "Зафиксируем границы, по которым дальше отбросим аномальные значения:\n",
        "- пользователи, совершившие более 3 заказов;\n",
        "- пользователи, совершившие покупку дороже 35 000 рублей."
      ]
    },
    {
      "cell_type": "markdown",
      "metadata": {
        "id": "ydO-4kONHupA"
      },
      "source": [
        "Посчитаем статистическую значимость различий в конверсии и среднем чеке заказа между группами по **сырым** данным:"
      ]
    },
    {
      "cell_type": "code",
      "execution_count": null,
      "metadata": {
        "id": "rdZee0AdHupA",
        "outputId": "710af4b3-51da-4614-b946-0a96e9f33922"
      },
      "outputs": [
        {
          "data": {
            "text/html": [
              "<div>\n",
              "<style scoped>\n",
              "    .dataframe tbody tr th:only-of-type {\n",
              "        vertical-align: middle;\n",
              "    }\n",
              "\n",
              "    .dataframe tbody tr th {\n",
              "        vertical-align: top;\n",
              "    }\n",
              "\n",
              "    .dataframe thead th {\n",
              "        text-align: right;\n",
              "    }\n",
              "</style>\n",
              "<table border=\"1\" class=\"dataframe\">\n",
              "  <thead>\n",
              "    <tr style=\"text-align: right;\">\n",
              "      <th></th>\n",
              "      <th>date</th>\n",
              "      <th>ordersPerDateA</th>\n",
              "      <th>revenuePerDateA</th>\n",
              "      <th>ordersPerDateB</th>\n",
              "      <th>revenuePerDateB</th>\n",
              "      <th>ordersCummulativeA</th>\n",
              "      <th>revenueCummulativeA</th>\n",
              "      <th>ordersCummulativeB</th>\n",
              "      <th>revenueCummulativeB</th>\n",
              "      <th>visitorsPerDateA</th>\n",
              "      <th>visitorsPerDateB</th>\n",
              "      <th>visitorsCummulativeA</th>\n",
              "      <th>visitorsCummulativeB</th>\n",
              "    </tr>\n",
              "  </thead>\n",
              "  <tbody>\n",
              "    <tr>\n",
              "      <th>0</th>\n",
              "      <td>2019-08-01</td>\n",
              "      <td>24</td>\n",
              "      <td>148579</td>\n",
              "      <td>21</td>\n",
              "      <td>101217</td>\n",
              "      <td>24</td>\n",
              "      <td>148579</td>\n",
              "      <td>21</td>\n",
              "      <td>101217</td>\n",
              "      <td>719</td>\n",
              "      <td>713</td>\n",
              "      <td>719</td>\n",
              "      <td>713</td>\n",
              "    </tr>\n",
              "    <tr>\n",
              "      <th>1</th>\n",
              "      <td>2019-08-02</td>\n",
              "      <td>20</td>\n",
              "      <td>93822</td>\n",
              "      <td>24</td>\n",
              "      <td>165531</td>\n",
              "      <td>44</td>\n",
              "      <td>242401</td>\n",
              "      <td>45</td>\n",
              "      <td>266748</td>\n",
              "      <td>619</td>\n",
              "      <td>581</td>\n",
              "      <td>1338</td>\n",
              "      <td>1294</td>\n",
              "    </tr>\n",
              "    <tr>\n",
              "      <th>2</th>\n",
              "      <td>2019-08-03</td>\n",
              "      <td>24</td>\n",
              "      <td>112473</td>\n",
              "      <td>16</td>\n",
              "      <td>114248</td>\n",
              "      <td>68</td>\n",
              "      <td>354874</td>\n",
              "      <td>61</td>\n",
              "      <td>380996</td>\n",
              "      <td>507</td>\n",
              "      <td>509</td>\n",
              "      <td>1845</td>\n",
              "      <td>1803</td>\n",
              "    </tr>\n",
              "    <tr>\n",
              "      <th>3</th>\n",
              "      <td>2019-08-04</td>\n",
              "      <td>16</td>\n",
              "      <td>70825</td>\n",
              "      <td>17</td>\n",
              "      <td>108571</td>\n",
              "      <td>84</td>\n",
              "      <td>425699</td>\n",
              "      <td>78</td>\n",
              "      <td>489567</td>\n",
              "      <td>717</td>\n",
              "      <td>770</td>\n",
              "      <td>2562</td>\n",
              "      <td>2573</td>\n",
              "    </tr>\n",
              "    <tr>\n",
              "      <th>4</th>\n",
              "      <td>2019-08-05</td>\n",
              "      <td>25</td>\n",
              "      <td>124218</td>\n",
              "      <td>23</td>\n",
              "      <td>92428</td>\n",
              "      <td>109</td>\n",
              "      <td>549917</td>\n",
              "      <td>101</td>\n",
              "      <td>581995</td>\n",
              "      <td>756</td>\n",
              "      <td>707</td>\n",
              "      <td>3318</td>\n",
              "      <td>3280</td>\n",
              "    </tr>\n",
              "  </tbody>\n",
              "</table>\n",
              "</div>"
            ],
            "text/plain": [
              "        date  ordersPerDateA  revenuePerDateA  ordersPerDateB  \\\n",
              "0 2019-08-01              24           148579              21   \n",
              "1 2019-08-02              20            93822              24   \n",
              "2 2019-08-03              24           112473              16   \n",
              "3 2019-08-04              16            70825              17   \n",
              "4 2019-08-05              25           124218              23   \n",
              "\n",
              "   revenuePerDateB  ordersCummulativeA  revenueCummulativeA  \\\n",
              "0           101217                  24               148579   \n",
              "1           165531                  44               242401   \n",
              "2           114248                  68               354874   \n",
              "3           108571                  84               425699   \n",
              "4            92428                 109               549917   \n",
              "\n",
              "   ordersCummulativeB  revenueCummulativeB  visitorsPerDateA  \\\n",
              "0                  21               101217               719   \n",
              "1                  45               266748               619   \n",
              "2                  61               380996               507   \n",
              "3                  78               489567               717   \n",
              "4                 101               581995               756   \n",
              "\n",
              "   visitorsPerDateB  visitorsCummulativeA  visitorsCummulativeB  \n",
              "0               713                   719                   713  \n",
              "1               581                  1338                  1294  \n",
              "2               509                  1845                  1803  \n",
              "3               770                  2562                  2573  \n",
              "4               707                  3318                  3280  "
            ]
          },
          "metadata": {},
          "output_type": "display_data"
        }
      ],
      "source": [
        "# датафрейм с посетителями по дням в группе А\n",
        "visitorsADaily = visitors[visitors['group']=='A'][['date', 'visitors']]\n",
        "visitorsADaily.columns = ['date', 'visitorsPerDateA']\n",
        "\n",
        "# соберём кумулятивные по дням данные о количестве пользователей в группе A\n",
        "visitorsACummulative = visitorsADaily.apply(lambda x: visitorsADaily[visitorsADaily['date'] <= x['date']].agg({'date' : 'max', \n",
        "                                                                                                               'visitorsPerDateA' : 'sum'}), axis=1)\n",
        "visitorsACummulative.columns = ['date', 'visitorsCummulativeA']\n",
        "\n",
        "# датафрейм с посетителями по дням в группе В\n",
        "visitorsBDaily = visitors[visitors['group']=='B'][['date', 'visitors']]\n",
        "visitorsBDaily.columns = ['date', 'visitorsPerDateB']\n",
        "\n",
        "# cоберём кумулятивные по дням данные о количестве пользователей в группе В\n",
        "visitorsBCummulative = visitorsBDaily.apply(lambda x: visitorsBDaily[visitorsBDaily['date'] <= x['date']].agg({'date' : 'max', \n",
        "                                                                                                               'visitorsPerDateB' : 'sum'}), axis=1)\n",
        "visitorsBCummulative.columns = ['date', 'visitorsCummulativeB']\n",
        "\n",
        "# соберем данные о количестве заказов, суммарной выручке по дням в группе А\n",
        "ordersADaily = orders[orders['group']=='A'][['date', 'transactionId', 'visitorId', 'revenue']]\\\n",
        "    .groupby('date', as_index=False)\\\n",
        "    .agg({'transactionId' : pd.Series.nunique, 'revenue' : 'sum'})\n",
        "ordersADaily.columns = ['date', 'ordersPerDateA', 'revenuePerDateA']\n",
        "\n",
        "# соберем данные о суммарном количестве заказов, суммарной выручке по дням в группе А\n",
        "ordersACummulative = ordersADaily.apply(\n",
        "    lambda x: \\\n",
        "        ordersADaily[ordersADaily['date'] <= x['date']]\\\n",
        "            .agg({\n",
        "                'date' : 'max',\n",
        "                'ordersPerDateA' : 'sum',\n",
        "                'revenuePerDateA' : 'sum'}), axis=1).sort_values(by=['date'])\n",
        "ordersACummulative.columns = ['date', 'ordersCummulativeA', 'revenueCummulativeA']\n",
        "\n",
        "# соберем данные о количестве заказов, суммарной выручке по дням в группе В\n",
        "ordersBDaily = orders[orders['group']=='B'][['date', 'transactionId', 'visitorId', 'revenue']]\\\n",
        "    .groupby('date', as_index=False)\\\n",
        "    .agg({'transactionId' : pd.Series.nunique, 'revenue' : 'sum'})\n",
        "ordersBDaily.columns = ['date', 'ordersPerDateB', 'revenuePerDateB']\n",
        "\n",
        "# соберем данные о суммерном (коммулятивном) количестве заказов, суммарной выручке по дням в группе В\n",
        "ordersBCummulative = ordersBDaily.apply(\n",
        "    lambda x: \\\n",
        "        ordersBDaily[ordersBDaily['date'] <= x['date']]\\\n",
        "            .agg({\n",
        "                'date' : 'max',\n",
        "                'ordersPerDateB' : 'sum',\n",
        "                'revenuePerDateB' : 'sum'}), axis=1).sort_values(by=['date'])\n",
        "ordersBCummulative.columns = ['date', 'ordersCummulativeB', 'revenueCummulativeB']\n",
        "\n",
        "# объеденим полученные данные в один датафрейм\n",
        "data = ordersADaily.merge(ordersBDaily, left_on='date', right_on='date', how='left')\\\n",
        "    .merge(ordersACummulative, left_on='date', right_on='date', how='left')\\\n",
        "    .merge(ordersBCummulative, left_on='date', right_on='date', how='left')\\\n",
        "    .merge(visitorsADaily, left_on='date', right_on='date', how='left')\\\n",
        "    .merge(visitorsBDaily, left_on='date', right_on='date', how='left')\\\n",
        "    .merge(visitorsACummulative, left_on='date', right_on='date', how='left')\\\n",
        "    .merge(visitorsBCummulative, left_on='date', right_on='date', how='left')\n",
        "\n",
        "display(data.head())"
      ]
    },
    {
      "cell_type": "code",
      "execution_count": null,
      "metadata": {
        "id": "FE2XAz2sHupC"
      },
      "outputs": [],
      "source": [
        "# создадим переменные ordersByUsersA и ordersByUsersB со столбцами, в которых для пользователей, которые заказывали хотя бы 1 раз, укажем число совершённых заказов\n",
        "\n",
        "ordersByUsersA = orders[orders['group']=='A'].groupby('visitorId', as_index=False).agg({'transactionId' : pd.Series.nunique})\n",
        "ordersByUsersA.columns = ['userId', 'orders']\n",
        "\n",
        "ordersByUsersB = orders[orders['group']=='B'].groupby('visitorId', as_index=False).agg({'transactionId' : pd.Series.nunique})\n",
        "ordersByUsersB.columns = ['userId', 'orders']"
      ]
    },
    {
      "cell_type": "code",
      "execution_count": null,
      "metadata": {
        "id": "cWMKiGHfHupC"
      },
      "outputs": [],
      "source": [
        "# объявим переменные sampleA и sampleB, в которых пользователям из разных групп будет соответствовать количество заказов. Тем, кто ничего не заказал, будут соответствовать нули.\n",
        "\n",
        "sampleA = pd.concat([ordersByUsersA['orders'],pd.Series(0, index=np.arange(data['visitorsPerDateA'].sum() - len(ordersByUsersA['orders'])), name='orders')],axis=0)\n",
        "sampleB = pd.concat([ordersByUsersB['orders'],pd.Series(0, index=np.arange(data['visitorsPerDateB'].sum() - len(ordersByUsersB['orders'])), name='orders')],axis=0)"
      ]
    },
    {
      "cell_type": "code",
      "execution_count": null,
      "metadata": {
        "id": "PqZLHVq1HupC"
      },
      "outputs": [],
      "source": [
        "# выведем относительный прирост конверсии группы B: конверсия группы B / конверсия группы A - 1. Округлим до трёх знаков после запятой\n",
        "\n",
        "ordersByUsersA = orders[orders['group']=='A'].groupby('visitorId', as_index=False).agg({'transactionId' : pd.Series.nunique})\n",
        "ordersByUsersA.columns = ['userId', 'orders']\n",
        "\n",
        "ordersByUsersB = orders[orders['group']=='B'].groupby('visitorId', as_index=False).agg({'transactionId' : pd.Series.nunique})\n",
        "ordersByUsersB.columns = ['userId', 'orders']\n",
        "\n",
        "sampleA = pd.concat([ordersByUsersA['orders'],pd.Series(0, index=np.arange(data['visitorsPerDateA'].sum() - len(ordersByUsersA['orders'])), name='orders')],axis=0)\n",
        "sampleB = pd.concat([ordersByUsersB['orders'],pd.Series(0, index=np.arange(data['visitorsPerDateB'].sum() - len(ordersByUsersB['orders'])), name='orders')],axis=0)"
      ]
    },
    {
      "cell_type": "markdown",
      "metadata": {
        "id": "dJLvnfCIHupD"
      },
      "source": [
        "Проверим гипотезы на конверсии:\n",
        "- **Нулевая гипотеза** - по сырым данным конверсия группы A НЕ превышает конверсию группы B;\n",
        "- **Альтернативная гипотеза** - по сырым данным конверсия группы A превышает конверсию группы B."
      ]
    },
    {
      "cell_type": "code",
      "execution_count": null,
      "metadata": {
        "id": "IzX_Tg3RHupD",
        "outputId": "72d942bc-deb6-4f43-ddb8-a1b89af8c853"
      },
      "outputs": [
        {
          "name": "stdout",
          "output_type": "stream",
          "text": [
            "Значение p-value: 0.017\n",
            "Относительный прирост конверсии группы B по отношению к конверсии группы А по очищенным данным: 0.138\n"
          ]
        }
      ],
      "source": [
        "print(\"Значение p-value: {0:.3f}\".format(stats.mannwhitneyu(sampleA, sampleB)[1]))\n",
        "print(\"Относительный прирост конверсии группы B по отношению к конверсии группы А по очищенным данным: {0:.3f}\".format(sampleB.mean()/sampleA.mean()-1))"
      ]
    },
    {
      "cell_type": "markdown",
      "metadata": {
        "id": "6Ib353ymHupD"
      },
      "source": [
        "P-value < 0.05: нулевую гипотезу отвергаем, и в конверсии между группами есть статистически значимые различия. \n",
        "\n",
        "Относительный прирост конверсии группы B равен 13.8%"
      ]
    },
    {
      "cell_type": "markdown",
      "metadata": {
        "id": "8bWmZ4E8HupE"
      },
      "source": [
        "Проверим гипотезы на среднем чеке:\n",
        "- **Нулевая гипотеза** - по сырым данным средний чек группы A НЕ превышает средний чек группы B;\n",
        "- **Альтернативная гипотеза** - по сырым данным средний чек группы A превышает средний чек группы B."
      ]
    },
    {
      "cell_type": "code",
      "execution_count": null,
      "metadata": {
        "id": "cCuFREnHHupE",
        "outputId": "7f7ae836-baf9-48a4-c333-a37ee9290d4f"
      },
      "outputs": [
        {
          "name": "stdout",
          "output_type": "stream",
          "text": [
            "Значение p-value: 0.729\n",
            "Относительный прирост среднего чека группы B по отношению к среднему чеку группы А по сырым данным: 0.259\n"
          ]
        }
      ],
      "source": [
        "# найдём относительные различия в среднем чеке между группами\n",
        "\n",
        "print(\"Значение p-value: {0:.3f}\".format(stats.mannwhitneyu(orders[orders['group']=='A']['revenue'], orders[orders['group']=='B']['revenue'])[1]))\n",
        "print(\"Относительный прирост среднего чека группы B по отношению к среднему чеку группы А по сырым данным: {0:.3f}\".format(orders[orders['group']=='B']['revenue'].mean()/orders[orders['group']=='A']['revenue'].mean()-1))"
      ]
    },
    {
      "cell_type": "markdown",
      "metadata": {
        "id": "G-scJqbDHupF"
      },
      "source": [
        "P-value > 0.05: статистически значимых различий в среднем чеке между группами нет, но различие среднего чека между сегментами 25.9%. Нулевую гипотезу принимаем."
      ]
    },
    {
      "cell_type": "markdown",
      "metadata": {
        "id": "URNieJEuHupF"
      },
      "source": [
        "Посчитаем статистическую значимость различий в конверсии и среднем чеке заказа между группами по **очищенным** данным. Отбросим все аномальные значения:\n",
        "- пользователей, совершивших более 3 заказов;\n",
        "- пользователей, совершивших покупку дороже 35 000 рублей."
      ]
    },
    {
      "cell_type": "code",
      "execution_count": null,
      "metadata": {
        "id": "cM64gnr8HupG",
        "outputId": "7fff7861-04c6-4a53-ca21-46e78ac67edc"
      },
      "outputs": [
        {
          "data": {
            "text/plain": [
              "1099    148427295\n",
              "18      199603092\n",
              "23      237748145\n",
              "684     358944393\n",
              "648     382846391\n",
              "dtype: int64"
            ]
          },
          "metadata": {},
          "output_type": "display_data"
        },
        {
          "name": "stdout",
          "output_type": "stream",
          "text": [
            "42\n"
          ]
        }
      ],
      "source": [
        "# узнаем количество аномальных пользователей\n",
        "\n",
        "usersWithManyOrders = pd.concat(\n",
        "    [\n",
        "        ordersByUsersA[ordersByUsersA['orders'] > 3]['userId'],\n",
        "        ordersByUsersB[ordersByUsersB['orders'] > 3]['userId'],\n",
        "    ],\n",
        "    axis=0,\n",
        ")\n",
        "usersWithExpensiveOrders = orders[orders['revenue'] > 35000]['visitorId']\n",
        "abnormalUsers = (\n",
        "    pd.concat([usersWithManyOrders, usersWithExpensiveOrders], axis=0)\n",
        "    .drop_duplicates()\n",
        "    .sort_values()\n",
        ")\n",
        "display(abnormalUsers.head())\n",
        "print(abnormalUsers.shape[0]) "
      ]
    },
    {
      "cell_type": "markdown",
      "metadata": {
        "id": "RmdV9GKqHupG"
      },
      "source": [
        "Всего 42 аномальных пользователя.\n",
        "Узнаем, как их действия повлияли на результаты теста.\n",
        "\n",
        "Проверим гипотезы на конверсии:\n",
        "- **Нулевая гипотеза** - по очищенным данным конверсия группы A НЕ превышает коверсию группы B;\n",
        "- **Альтернативная гипотеза** - по очищенным данным конверсия группы A превышает конверсию группы B."
      ]
    },
    {
      "cell_type": "code",
      "execution_count": null,
      "metadata": {
        "id": "Pl1ywPNgHupH",
        "outputId": "207f4d4b-ff43-4684-be38-58eb37218c35"
      },
      "outputs": [
        {
          "name": "stdout",
          "output_type": "stream",
          "text": [
            "Значение p-value: 0.014\n",
            "Относительный прирост конверсии группы B по отношению к конверсии группы А по очищенным данным: 0.155\n"
          ]
        }
      ],
      "source": [
        "# конверсия\n",
        "\n",
        "sampleAFiltered = pd.concat([ordersByUsersA[np.logical_not(ordersByUsersA['userId'].isin(abnormalUsers))]['orders'],pd.Series(0, index=np.arange(data['visitorsPerDateA'].sum() - len(ordersByUsersA['orders'])),name='orders')],axis=0)\n",
        "sampleBFiltered = pd.concat([ordersByUsersB[np.logical_not(ordersByUsersB['userId'].isin(abnormalUsers))]['orders'],pd.Series(0, index=np.arange(data['visitorsPerDateB'].sum() - len(ordersByUsersB['orders'])),name='orders')],axis=0)\n",
        "\n",
        "# применим статистический критерий Манна-Уитни к полученным выборкам\n",
        "print(\"Значение p-value: {0:.3f}\".format(stats.mannwhitneyu(sampleAFiltered, sampleBFiltered)[1]))\n",
        "print(\"Относительный прирост конверсии группы B по отношению к конверсии группы А по очищенным данным: {0:.3f}\".format(sampleBFiltered.mean()/sampleAFiltered.mean()-1))"
      ]
    },
    {
      "cell_type": "markdown",
      "metadata": {
        "id": "QfOnBfPpHupI"
      },
      "source": [
        "Как и в случае с сырыми данными, статистическая значимость достигнута. Сегмент В значительно лучше сегмента А. Нулевую гипотезу отвергаем."
      ]
    },
    {
      "cell_type": "markdown",
      "metadata": {
        "id": "rBwpqEfuHupI"
      },
      "source": [
        "Проверим гипотезы на среднем чеке:\n",
        "- **Нулевая гипотеза** - по очищенным данным средний чек группы A НЕ превышает средний чек группы B;\n",
        "- **Альтернативная гипотеза** - по очищенным данным средний чек группы A превышает средний чек группы B."
      ]
    },
    {
      "cell_type": "code",
      "execution_count": null,
      "metadata": {
        "id": "Ik8ebyG4HupJ",
        "outputId": "20e28512-12c3-400f-ed7b-5d7cd8dc1114"
      },
      "outputs": [
        {
          "name": "stdout",
          "output_type": "stream",
          "text": [
            "Значение p-value: 0.874\n",
            "Относительный прирост среднего чека группы B по отношению к среднему чеку группы А по очищенным данным: 0.025\n"
          ]
        }
      ],
      "source": [
        "# средний чек\n",
        "\n",
        "print(\"Значение p-value: {0:.3f}\".format(stats.mannwhitneyu(\n",
        "    orders[np.logical_and(\n",
        "        orders['group']=='A',\n",
        "        np.logical_not(orders['visitorId'].isin(abnormalUsers)))]['revenue'],\n",
        "    orders[np.logical_and(\n",
        "        orders['group']=='B',\n",
        "        np.logical_not(orders['visitorId'].isin(abnormalUsers)))]['revenue'])[1]))\n",
        "\n",
        "print(\"Относительный прирост среднего чека группы B по отношению к среднему чеку группы А по очищенным данным: {0:.3f}\".format(\n",
        "    orders[np.logical_and(orders['group']=='B',np.logical_not(orders['visitorId'].isin(abnormalUsers)))]['revenue'].mean()/\n",
        "    orders[np.logical_and(\n",
        "        orders['group']=='A',\n",
        "        np.logical_not(orders['visitorId'].isin(abnormalUsers)))]['revenue'].mean() - 1))"
      ]
    },
    {
      "cell_type": "markdown",
      "metadata": {
        "id": "TleWLVE_HupJ"
      },
      "source": [
        "P-value увеличился, разница между сегментами сократилась с 25.9% до 2.5%. Статистически значимых различий в среднем чеке между группыми нет. Нулевую гипотезу принимаем."
      ]
    },
    {
      "cell_type": "markdown",
      "metadata": {
        "id": "Y7-7c1WnHupM"
      },
      "source": [
        "## Общий вывод"
      ]
    },
    {
      "cell_type": "markdown",
      "metadata": {
        "id": "dV61e6FRHupM"
      },
      "source": [
        "1. С самого начала выручка увеличивалась почти равномерно, но с 2019-08-17 группы В начала очень резко расти.\n",
        "2. Конверсия группы В почти сразу стала выше и зафиксировалась с небольшими колебаниями, а группа А просела и так же зафиксировалась.\n",
        "3. Не более 5% пользователей оформляли больше чем 2 заказа. И 1% пользователей заказывали более четырёх раз.\n",
        "4. Большая часть пользователей совершала заказы стоимость до 40 000 рублей, но есть и аномально дорогие заказы, например, стоимостью 60 000, 80 000 и 90 000 рублей.\n",
        "5. Статистическая значимость достигнута. Сегмент В значительно лучше сегмента А. После сравнения по среднему чеку р-value увеличился, но и разница между сегментами сократилась с 25.9% до 2.5%.\n",
        "\n",
        "Исходя их обнаруженных фактов, тест следует остановить и признать его успешным."
      ]
    }
  ],
  "metadata": {
    "ExecuteTimeLog": [
      {
        "duration": 1327,
        "start_time": "2022-06-05T12:34:07.580Z"
      },
      {
        "duration": 74,
        "start_time": "2022-06-05T12:38:19.738Z"
      },
      {
        "duration": 53,
        "start_time": "2022-06-05T12:38:33.038Z"
      },
      {
        "duration": 134,
        "start_time": "2022-06-05T12:38:48.995Z"
      },
      {
        "duration": 78,
        "start_time": "2022-06-05T12:39:48.176Z"
      },
      {
        "duration": 160,
        "start_time": "2022-06-05T12:40:32.583Z"
      },
      {
        "duration": 36,
        "start_time": "2022-06-05T12:40:40.776Z"
      },
      {
        "duration": 37,
        "start_time": "2022-06-05T12:42:53.893Z"
      },
      {
        "duration": 17,
        "start_time": "2022-06-05T12:44:26.277Z"
      },
      {
        "duration": 18,
        "start_time": "2022-06-05T12:44:33.401Z"
      },
      {
        "duration": 4,
        "start_time": "2022-06-05T12:45:21.106Z"
      },
      {
        "duration": 47,
        "start_time": "2022-06-05T12:45:21.112Z"
      },
      {
        "duration": 84,
        "start_time": "2022-06-05T12:45:21.161Z"
      },
      {
        "duration": 48,
        "start_time": "2022-06-05T12:45:21.248Z"
      },
      {
        "duration": 12,
        "start_time": "2022-06-05T12:45:21.299Z"
      },
      {
        "duration": 24,
        "start_time": "2022-06-05T12:45:21.313Z"
      },
      {
        "duration": 14,
        "start_time": "2022-06-05T12:49:49.384Z"
      },
      {
        "duration": 19,
        "start_time": "2022-06-05T12:50:02.077Z"
      },
      {
        "duration": 11,
        "start_time": "2022-06-05T12:50:09.647Z"
      },
      {
        "duration": 11,
        "start_time": "2022-06-05T12:50:31.743Z"
      },
      {
        "duration": 308,
        "start_time": "2022-06-05T12:59:18.380Z"
      },
      {
        "duration": 344,
        "start_time": "2022-06-05T13:00:02.482Z"
      },
      {
        "duration": 303,
        "start_time": "2022-06-05T13:13:57.411Z"
      },
      {
        "duration": 285,
        "start_time": "2022-06-05T13:14:30.106Z"
      },
      {
        "duration": 274,
        "start_time": "2022-06-05T13:14:42.475Z"
      },
      {
        "duration": 303,
        "start_time": "2022-06-05T13:14:50.874Z"
      },
      {
        "duration": 324,
        "start_time": "2022-06-05T13:15:39.593Z"
      },
      {
        "duration": 197,
        "start_time": "2022-06-05T13:16:52.042Z"
      },
      {
        "duration": 197,
        "start_time": "2022-06-05T13:17:23.079Z"
      },
      {
        "duration": 323,
        "start_time": "2022-06-05T13:19:58.383Z"
      },
      {
        "duration": 252,
        "start_time": "2022-06-05T13:23:24.340Z"
      },
      {
        "duration": 278,
        "start_time": "2022-06-05T13:24:54.781Z"
      },
      {
        "duration": 228,
        "start_time": "2022-06-05T13:26:42.537Z"
      },
      {
        "duration": 386,
        "start_time": "2022-06-05T13:26:49.439Z"
      },
      {
        "duration": 278,
        "start_time": "2022-06-05T13:28:57.541Z"
      },
      {
        "duration": 5,
        "start_time": "2022-06-05T13:31:19.648Z"
      },
      {
        "duration": 397,
        "start_time": "2022-06-05T13:32:32.404Z"
      },
      {
        "duration": 5,
        "start_time": "2022-06-05T13:34:02.880Z"
      },
      {
        "duration": 54,
        "start_time": "2022-06-05T13:40:42.391Z"
      },
      {
        "duration": 61,
        "start_time": "2022-06-05T13:48:33.736Z"
      },
      {
        "duration": 56,
        "start_time": "2022-06-05T13:51:49.920Z"
      },
      {
        "duration": 19,
        "start_time": "2022-06-05T13:51:54.260Z"
      },
      {
        "duration": 468,
        "start_time": "2022-06-05T13:58:05.347Z"
      },
      {
        "duration": 499,
        "start_time": "2022-06-05T13:58:36.802Z"
      },
      {
        "duration": 398,
        "start_time": "2022-06-05T13:58:40.593Z"
      },
      {
        "duration": 10,
        "start_time": "2022-06-05T14:00:02.580Z"
      },
      {
        "duration": 15,
        "start_time": "2022-06-05T14:02:07.280Z"
      },
      {
        "duration": 10,
        "start_time": "2022-06-05T14:07:54.926Z"
      },
      {
        "duration": 49,
        "start_time": "2022-06-05T14:08:06.575Z"
      },
      {
        "duration": 30,
        "start_time": "2022-06-05T14:08:50.273Z"
      },
      {
        "duration": 40,
        "start_time": "2022-06-05T14:09:06.937Z"
      },
      {
        "duration": 14,
        "start_time": "2022-06-05T14:10:12.376Z"
      },
      {
        "duration": 49,
        "start_time": "2022-06-05T14:12:06.843Z"
      },
      {
        "duration": 55,
        "start_time": "2022-06-05T14:12:21.806Z"
      },
      {
        "duration": 5,
        "start_time": "2022-06-05T14:25:07.907Z"
      },
      {
        "duration": 16,
        "start_time": "2022-06-05T14:25:17.184Z"
      },
      {
        "duration": 4,
        "start_time": "2022-06-05T14:25:31.614Z"
      },
      {
        "duration": 5,
        "start_time": "2022-06-05T14:25:46.521Z"
      },
      {
        "duration": 13,
        "start_time": "2022-06-05T14:26:15.686Z"
      },
      {
        "duration": 15,
        "start_time": "2022-06-05T14:30:56.688Z"
      },
      {
        "duration": 17,
        "start_time": "2022-06-05T14:31:35.483Z"
      },
      {
        "duration": 269,
        "start_time": "2022-06-05T14:32:25.356Z"
      },
      {
        "duration": 10,
        "start_time": "2022-06-05T14:33:53.745Z"
      },
      {
        "duration": 137,
        "start_time": "2022-06-05T14:34:10.318Z"
      },
      {
        "duration": 6,
        "start_time": "2022-06-05T14:34:52.344Z"
      },
      {
        "duration": 201,
        "start_time": "2022-06-05T14:36:18.617Z"
      },
      {
        "duration": 11,
        "start_time": "2022-06-05T14:38:28.645Z"
      },
      {
        "duration": 486,
        "start_time": "2022-06-05T14:43:30.144Z"
      },
      {
        "duration": 518,
        "start_time": "2022-06-05T14:44:02.583Z"
      },
      {
        "duration": 4,
        "start_time": "2022-06-05T14:44:49.245Z"
      },
      {
        "duration": 78,
        "start_time": "2022-06-05T14:44:49.251Z"
      },
      {
        "duration": 81,
        "start_time": "2022-06-05T14:44:49.330Z"
      },
      {
        "duration": 29,
        "start_time": "2022-06-05T14:44:49.413Z"
      },
      {
        "duration": 10,
        "start_time": "2022-06-05T14:44:49.444Z"
      },
      {
        "duration": 47,
        "start_time": "2022-06-05T14:44:49.455Z"
      },
      {
        "duration": 283,
        "start_time": "2022-06-05T14:44:49.504Z"
      },
      {
        "duration": 307,
        "start_time": "2022-06-05T14:44:49.790Z"
      },
      {
        "duration": 219,
        "start_time": "2022-06-05T14:44:50.100Z"
      },
      {
        "duration": 225,
        "start_time": "2022-06-05T14:44:50.320Z"
      },
      {
        "duration": 468,
        "start_time": "2022-06-05T14:44:50.547Z"
      },
      {
        "duration": 233,
        "start_time": "2022-06-05T14:44:51.017Z"
      },
      {
        "duration": 353,
        "start_time": "2022-06-05T14:44:51.251Z"
      },
      {
        "duration": 280,
        "start_time": "2022-06-05T14:44:51.606Z"
      },
      {
        "duration": 6,
        "start_time": "2022-06-05T14:44:51.888Z"
      },
      {
        "duration": 449,
        "start_time": "2022-06-05T14:44:51.897Z"
      },
      {
        "duration": 4,
        "start_time": "2022-06-05T14:44:52.348Z"
      },
      {
        "duration": 273,
        "start_time": "2022-06-05T14:44:52.362Z"
      },
      {
        "duration": 170,
        "start_time": "2022-06-05T14:44:52.637Z"
      },
      {
        "duration": 7,
        "start_time": "2022-06-05T14:44:52.809Z"
      },
      {
        "duration": 205,
        "start_time": "2022-06-05T14:44:52.817Z"
      },
      {
        "duration": 14,
        "start_time": "2022-06-05T14:44:53.024Z"
      },
      {
        "duration": 615,
        "start_time": "2022-06-05T14:44:53.040Z"
      },
      {
        "duration": 11,
        "start_time": "2022-06-05T14:45:37.990Z"
      },
      {
        "duration": 54,
        "start_time": "2022-06-05T14:46:28.544Z"
      },
      {
        "duration": 33,
        "start_time": "2022-06-05T14:47:07.584Z"
      },
      {
        "duration": 17,
        "start_time": "2022-06-05T14:47:25.679Z"
      },
      {
        "duration": 17,
        "start_time": "2022-06-05T14:48:12.004Z"
      },
      {
        "duration": 1164,
        "start_time": "2022-06-05T14:52:38.634Z"
      },
      {
        "duration": 42,
        "start_time": "2022-06-05T14:52:39.801Z"
      },
      {
        "duration": 107,
        "start_time": "2022-06-05T14:52:39.845Z"
      },
      {
        "duration": 62,
        "start_time": "2022-06-05T14:52:39.955Z"
      },
      {
        "duration": 13,
        "start_time": "2022-06-05T14:52:40.018Z"
      },
      {
        "duration": 34,
        "start_time": "2022-06-05T14:52:40.033Z"
      },
      {
        "duration": 312,
        "start_time": "2022-06-05T14:52:40.069Z"
      },
      {
        "duration": 345,
        "start_time": "2022-06-05T14:52:40.389Z"
      },
      {
        "duration": 470,
        "start_time": "2022-06-05T14:52:40.736Z"
      },
      {
        "duration": 235,
        "start_time": "2022-06-05T14:52:41.209Z"
      },
      {
        "duration": 380,
        "start_time": "2022-06-05T14:52:41.446Z"
      },
      {
        "duration": 290,
        "start_time": "2022-06-05T14:52:41.828Z"
      },
      {
        "duration": 338,
        "start_time": "2022-06-05T14:52:42.120Z"
      },
      {
        "duration": 330,
        "start_time": "2022-06-05T14:52:42.464Z"
      },
      {
        "duration": 12,
        "start_time": "2022-06-05T14:52:42.796Z"
      },
      {
        "duration": 524,
        "start_time": "2022-06-05T14:52:42.809Z"
      },
      {
        "duration": 5,
        "start_time": "2022-06-05T14:52:43.335Z"
      },
      {
        "duration": 284,
        "start_time": "2022-06-05T14:52:43.342Z"
      },
      {
        "duration": 163,
        "start_time": "2022-06-05T14:52:43.629Z"
      },
      {
        "duration": 9,
        "start_time": "2022-06-05T14:52:43.795Z"
      },
      {
        "duration": 204,
        "start_time": "2022-06-05T14:52:43.807Z"
      },
      {
        "duration": 13,
        "start_time": "2022-06-05T14:52:44.013Z"
      },
      {
        "duration": 18,
        "start_time": "2022-06-05T14:52:44.028Z"
      },
      {
        "duration": 66,
        "start_time": "2022-06-05T14:52:44.047Z"
      },
      {
        "duration": 15,
        "start_time": "2022-06-05T14:52:44.115Z"
      },
      {
        "duration": 1149,
        "start_time": "2022-06-05T15:11:57.651Z"
      },
      {
        "duration": 40,
        "start_time": "2022-06-05T15:11:58.802Z"
      },
      {
        "duration": 82,
        "start_time": "2022-06-05T15:11:58.844Z"
      },
      {
        "duration": 32,
        "start_time": "2022-06-05T15:11:58.928Z"
      },
      {
        "duration": 19,
        "start_time": "2022-06-05T15:11:58.969Z"
      },
      {
        "duration": 10,
        "start_time": "2022-06-05T15:11:58.990Z"
      },
      {
        "duration": 275,
        "start_time": "2022-06-05T15:11:59.002Z"
      },
      {
        "duration": 338,
        "start_time": "2022-06-05T15:11:59.280Z"
      },
      {
        "duration": 398,
        "start_time": "2022-06-05T15:11:59.620Z"
      },
      {
        "duration": 210,
        "start_time": "2022-06-05T15:12:00.020Z"
      },
      {
        "duration": 343,
        "start_time": "2022-06-05T15:12:00.232Z"
      },
      {
        "duration": 233,
        "start_time": "2022-06-05T15:12:00.583Z"
      },
      {
        "duration": 287,
        "start_time": "2022-06-05T15:12:00.817Z"
      },
      {
        "duration": 290,
        "start_time": "2022-06-05T15:12:01.107Z"
      },
      {
        "duration": 4,
        "start_time": "2022-06-05T15:12:01.398Z"
      },
      {
        "duration": 438,
        "start_time": "2022-06-05T15:12:01.404Z"
      },
      {
        "duration": 5,
        "start_time": "2022-06-05T15:12:01.844Z"
      },
      {
        "duration": 300,
        "start_time": "2022-06-05T15:12:01.864Z"
      },
      {
        "duration": 161,
        "start_time": "2022-06-05T15:12:02.166Z"
      },
      {
        "duration": 6,
        "start_time": "2022-06-05T15:12:02.329Z"
      },
      {
        "duration": 202,
        "start_time": "2022-06-05T15:12:02.337Z"
      },
      {
        "duration": 20,
        "start_time": "2022-06-05T15:12:02.541Z"
      },
      {
        "duration": 13,
        "start_time": "2022-06-05T15:12:02.564Z"
      },
      {
        "duration": 42,
        "start_time": "2022-06-05T15:12:02.579Z"
      },
      {
        "duration": 14,
        "start_time": "2022-06-05T15:12:02.622Z"
      },
      {
        "duration": 48,
        "start_time": "2022-06-08T18:20:45.298Z"
      },
      {
        "duration": 8,
        "start_time": "2022-06-08T18:47:35.695Z"
      },
      {
        "duration": 1087,
        "start_time": "2022-06-08T18:47:41.367Z"
      },
      {
        "duration": 72,
        "start_time": "2022-06-08T18:47:42.456Z"
      },
      {
        "duration": 104,
        "start_time": "2022-06-08T18:47:42.530Z"
      },
      {
        "duration": 64,
        "start_time": "2022-06-08T18:47:42.636Z"
      },
      {
        "duration": 10,
        "start_time": "2022-06-08T18:47:42.701Z"
      },
      {
        "duration": 13,
        "start_time": "2022-06-08T18:47:42.712Z"
      },
      {
        "duration": 241,
        "start_time": "2022-06-08T18:47:42.726Z"
      },
      {
        "duration": 278,
        "start_time": "2022-06-08T18:47:42.969Z"
      },
      {
        "duration": 259,
        "start_time": "2022-06-08T18:47:43.249Z"
      },
      {
        "duration": 176,
        "start_time": "2022-06-08T18:47:43.511Z"
      },
      {
        "duration": 359,
        "start_time": "2022-06-08T18:47:43.689Z"
      },
      {
        "duration": 189,
        "start_time": "2022-06-08T18:47:44.050Z"
      },
      {
        "duration": 299,
        "start_time": "2022-06-08T18:47:44.241Z"
      },
      {
        "duration": 268,
        "start_time": "2022-06-08T18:47:44.541Z"
      },
      {
        "duration": 4,
        "start_time": "2022-06-08T18:47:44.811Z"
      },
      {
        "duration": 439,
        "start_time": "2022-06-08T18:47:44.827Z"
      },
      {
        "duration": 4,
        "start_time": "2022-06-08T18:47:45.268Z"
      },
      {
        "duration": 227,
        "start_time": "2022-06-08T18:47:45.274Z"
      },
      {
        "duration": 125,
        "start_time": "2022-06-08T18:47:45.502Z"
      },
      {
        "duration": 5,
        "start_time": "2022-06-08T18:47:45.629Z"
      },
      {
        "duration": 126,
        "start_time": "2022-06-08T18:47:45.636Z"
      },
      {
        "duration": 21,
        "start_time": "2022-06-08T18:47:45.763Z"
      },
      {
        "duration": 9,
        "start_time": "2022-06-08T18:47:45.785Z"
      },
      {
        "duration": 8,
        "start_time": "2022-06-08T18:47:45.796Z"
      },
      {
        "duration": 26,
        "start_time": "2022-06-08T18:47:45.827Z"
      },
      {
        "duration": 12,
        "start_time": "2022-06-08T18:47:45.854Z"
      },
      {
        "duration": 25,
        "start_time": "2022-06-08T18:48:37.923Z"
      },
      {
        "duration": 10,
        "start_time": "2022-06-08T18:49:10.144Z"
      },
      {
        "duration": 21,
        "start_time": "2022-06-08T18:49:41.076Z"
      },
      {
        "duration": 12,
        "start_time": "2022-06-08T18:54:09.611Z"
      },
      {
        "duration": 11,
        "start_time": "2022-06-08T18:54:28.606Z"
      },
      {
        "duration": 10,
        "start_time": "2022-06-08T18:55:31.077Z"
      },
      {
        "duration": 67,
        "start_time": "2022-06-08T18:56:49.877Z"
      },
      {
        "duration": 8,
        "start_time": "2022-06-08T19:06:34.975Z"
      },
      {
        "duration": 13,
        "start_time": "2022-06-08T19:07:13.188Z"
      },
      {
        "duration": 7,
        "start_time": "2022-06-08T19:07:26.569Z"
      },
      {
        "duration": 13,
        "start_time": "2022-06-08T19:07:27.389Z"
      },
      {
        "duration": 3,
        "start_time": "2022-06-08T19:07:45.717Z"
      },
      {
        "duration": 46,
        "start_time": "2022-06-08T19:07:45.724Z"
      },
      {
        "duration": 63,
        "start_time": "2022-06-08T19:07:45.772Z"
      },
      {
        "duration": 32,
        "start_time": "2022-06-08T19:07:45.837Z"
      },
      {
        "duration": 7,
        "start_time": "2022-06-08T19:07:45.871Z"
      },
      {
        "duration": 16,
        "start_time": "2022-06-08T19:07:45.880Z"
      },
      {
        "duration": 0,
        "start_time": "2022-06-08T19:07:45.897Z"
      },
      {
        "duration": 0,
        "start_time": "2022-06-08T19:07:45.899Z"
      },
      {
        "duration": 0,
        "start_time": "2022-06-08T19:07:45.900Z"
      },
      {
        "duration": 0,
        "start_time": "2022-06-08T19:07:45.901Z"
      },
      {
        "duration": 0,
        "start_time": "2022-06-08T19:07:45.902Z"
      },
      {
        "duration": 0,
        "start_time": "2022-06-08T19:07:45.903Z"
      },
      {
        "duration": 0,
        "start_time": "2022-06-08T19:07:45.904Z"
      },
      {
        "duration": 0,
        "start_time": "2022-06-08T19:07:45.927Z"
      },
      {
        "duration": 0,
        "start_time": "2022-06-08T19:07:45.928Z"
      },
      {
        "duration": 0,
        "start_time": "2022-06-08T19:07:45.930Z"
      },
      {
        "duration": 0,
        "start_time": "2022-06-08T19:07:45.931Z"
      },
      {
        "duration": 0,
        "start_time": "2022-06-08T19:07:45.933Z"
      },
      {
        "duration": 0,
        "start_time": "2022-06-08T19:07:45.934Z"
      },
      {
        "duration": 0,
        "start_time": "2022-06-08T19:07:45.936Z"
      },
      {
        "duration": 0,
        "start_time": "2022-06-08T19:07:45.937Z"
      },
      {
        "duration": 0,
        "start_time": "2022-06-08T19:07:45.938Z"
      },
      {
        "duration": 0,
        "start_time": "2022-06-08T19:07:45.940Z"
      },
      {
        "duration": 0,
        "start_time": "2022-06-08T19:07:45.941Z"
      },
      {
        "duration": 0,
        "start_time": "2022-06-08T19:07:45.942Z"
      },
      {
        "duration": 0,
        "start_time": "2022-06-08T19:07:45.943Z"
      },
      {
        "duration": 0,
        "start_time": "2022-06-08T19:07:45.944Z"
      },
      {
        "duration": 0,
        "start_time": "2022-06-08T19:07:45.945Z"
      },
      {
        "duration": 57,
        "start_time": "2022-06-08T20:25:37.642Z"
      },
      {
        "duration": 1193,
        "start_time": "2022-06-08T20:25:44.905Z"
      },
      {
        "duration": 88,
        "start_time": "2022-06-08T20:25:46.100Z"
      },
      {
        "duration": 98,
        "start_time": "2022-06-08T20:25:46.190Z"
      },
      {
        "duration": 74,
        "start_time": "2022-06-08T20:25:46.289Z"
      },
      {
        "duration": 9,
        "start_time": "2022-06-08T20:25:46.366Z"
      },
      {
        "duration": 70,
        "start_time": "2022-06-08T20:25:46.377Z"
      },
      {
        "duration": 0,
        "start_time": "2022-06-08T20:25:46.450Z"
      },
      {
        "duration": 0,
        "start_time": "2022-06-08T20:25:46.451Z"
      },
      {
        "duration": 0,
        "start_time": "2022-06-08T20:25:46.452Z"
      },
      {
        "duration": 0,
        "start_time": "2022-06-08T20:25:46.454Z"
      },
      {
        "duration": 0,
        "start_time": "2022-06-08T20:25:46.455Z"
      },
      {
        "duration": 0,
        "start_time": "2022-06-08T20:25:46.457Z"
      },
      {
        "duration": 0,
        "start_time": "2022-06-08T20:25:46.458Z"
      },
      {
        "duration": 1,
        "start_time": "2022-06-08T20:25:46.459Z"
      },
      {
        "duration": 0,
        "start_time": "2022-06-08T20:25:46.461Z"
      },
      {
        "duration": 0,
        "start_time": "2022-06-08T20:25:46.463Z"
      },
      {
        "duration": 0,
        "start_time": "2022-06-08T20:25:46.464Z"
      },
      {
        "duration": 0,
        "start_time": "2022-06-08T20:25:46.471Z"
      },
      {
        "duration": 0,
        "start_time": "2022-06-08T20:25:46.475Z"
      },
      {
        "duration": 0,
        "start_time": "2022-06-08T20:25:46.477Z"
      },
      {
        "duration": 0,
        "start_time": "2022-06-08T20:25:46.478Z"
      },
      {
        "duration": 0,
        "start_time": "2022-06-08T20:25:46.479Z"
      },
      {
        "duration": 0,
        "start_time": "2022-06-08T20:25:46.481Z"
      },
      {
        "duration": 0,
        "start_time": "2022-06-08T20:25:46.482Z"
      },
      {
        "duration": 0,
        "start_time": "2022-06-08T20:25:46.483Z"
      },
      {
        "duration": 0,
        "start_time": "2022-06-08T20:25:46.484Z"
      },
      {
        "duration": 0,
        "start_time": "2022-06-08T20:25:46.486Z"
      },
      {
        "duration": 0,
        "start_time": "2022-06-08T20:25:46.486Z"
      },
      {
        "duration": 8,
        "start_time": "2022-06-08T20:26:44.408Z"
      },
      {
        "duration": 14,
        "start_time": "2022-06-08T20:26:48.195Z"
      },
      {
        "duration": 3,
        "start_time": "2022-06-08T20:27:39.718Z"
      },
      {
        "duration": 46,
        "start_time": "2022-06-08T20:27:39.722Z"
      },
      {
        "duration": 63,
        "start_time": "2022-06-08T20:27:39.770Z"
      },
      {
        "duration": 34,
        "start_time": "2022-06-08T20:27:39.835Z"
      },
      {
        "duration": 10,
        "start_time": "2022-06-08T20:27:39.872Z"
      },
      {
        "duration": 16,
        "start_time": "2022-06-08T20:27:39.884Z"
      },
      {
        "duration": 30,
        "start_time": "2022-06-08T20:27:39.901Z"
      },
      {
        "duration": 13,
        "start_time": "2022-06-08T20:27:39.933Z"
      },
      {
        "duration": 454,
        "start_time": "2022-06-08T20:27:39.948Z"
      },
      {
        "duration": 0,
        "start_time": "2022-06-08T20:27:40.404Z"
      },
      {
        "duration": 0,
        "start_time": "2022-06-08T20:27:40.405Z"
      },
      {
        "duration": 0,
        "start_time": "2022-06-08T20:27:40.406Z"
      },
      {
        "duration": 0,
        "start_time": "2022-06-08T20:27:40.407Z"
      },
      {
        "duration": 0,
        "start_time": "2022-06-08T20:27:40.408Z"
      },
      {
        "duration": 0,
        "start_time": "2022-06-08T20:27:40.409Z"
      },
      {
        "duration": 0,
        "start_time": "2022-06-08T20:27:40.410Z"
      },
      {
        "duration": 0,
        "start_time": "2022-06-08T20:27:40.411Z"
      },
      {
        "duration": 0,
        "start_time": "2022-06-08T20:27:40.412Z"
      },
      {
        "duration": 0,
        "start_time": "2022-06-08T20:27:40.413Z"
      },
      {
        "duration": 0,
        "start_time": "2022-06-08T20:27:40.414Z"
      },
      {
        "duration": 0,
        "start_time": "2022-06-08T20:27:40.415Z"
      },
      {
        "duration": 0,
        "start_time": "2022-06-08T20:27:40.416Z"
      },
      {
        "duration": 0,
        "start_time": "2022-06-08T20:27:40.417Z"
      },
      {
        "duration": 0,
        "start_time": "2022-06-08T20:27:40.418Z"
      },
      {
        "duration": 0,
        "start_time": "2022-06-08T20:27:40.419Z"
      },
      {
        "duration": 0,
        "start_time": "2022-06-08T20:27:40.420Z"
      },
      {
        "duration": 0,
        "start_time": "2022-06-08T20:27:40.421Z"
      },
      {
        "duration": 0,
        "start_time": "2022-06-08T20:27:40.422Z"
      },
      {
        "duration": 16,
        "start_time": "2022-06-08T20:30:07.825Z"
      },
      {
        "duration": 3,
        "start_time": "2022-06-08T20:30:15.251Z"
      },
      {
        "duration": 43,
        "start_time": "2022-06-08T20:30:15.256Z"
      },
      {
        "duration": 72,
        "start_time": "2022-06-08T20:30:15.300Z"
      },
      {
        "duration": 33,
        "start_time": "2022-06-08T20:30:15.373Z"
      },
      {
        "duration": 11,
        "start_time": "2022-06-08T20:30:15.409Z"
      },
      {
        "duration": 20,
        "start_time": "2022-06-08T20:30:15.427Z"
      },
      {
        "duration": 11,
        "start_time": "2022-06-08T20:30:15.449Z"
      },
      {
        "duration": 14,
        "start_time": "2022-06-08T20:30:15.462Z"
      },
      {
        "duration": 477,
        "start_time": "2022-06-08T20:30:15.478Z"
      },
      {
        "duration": 0,
        "start_time": "2022-06-08T20:30:15.958Z"
      },
      {
        "duration": 0,
        "start_time": "2022-06-08T20:30:15.960Z"
      },
      {
        "duration": 0,
        "start_time": "2022-06-08T20:30:15.961Z"
      },
      {
        "duration": 0,
        "start_time": "2022-06-08T20:30:15.963Z"
      },
      {
        "duration": 1,
        "start_time": "2022-06-08T20:30:15.965Z"
      },
      {
        "duration": 0,
        "start_time": "2022-06-08T20:30:15.967Z"
      },
      {
        "duration": 0,
        "start_time": "2022-06-08T20:30:15.968Z"
      },
      {
        "duration": 0,
        "start_time": "2022-06-08T20:30:15.970Z"
      },
      {
        "duration": 0,
        "start_time": "2022-06-08T20:30:15.972Z"
      },
      {
        "duration": 0,
        "start_time": "2022-06-08T20:30:15.973Z"
      },
      {
        "duration": 0,
        "start_time": "2022-06-08T20:30:15.977Z"
      },
      {
        "duration": 0,
        "start_time": "2022-06-08T20:30:15.979Z"
      },
      {
        "duration": 0,
        "start_time": "2022-06-08T20:30:15.981Z"
      },
      {
        "duration": 0,
        "start_time": "2022-06-08T20:30:15.985Z"
      },
      {
        "duration": 0,
        "start_time": "2022-06-08T20:30:15.986Z"
      },
      {
        "duration": 0,
        "start_time": "2022-06-08T20:30:15.988Z"
      },
      {
        "duration": 0,
        "start_time": "2022-06-08T20:30:15.990Z"
      },
      {
        "duration": 0,
        "start_time": "2022-06-08T20:30:15.992Z"
      },
      {
        "duration": 0,
        "start_time": "2022-06-08T20:30:15.994Z"
      },
      {
        "duration": 13,
        "start_time": "2022-06-08T20:31:37.711Z"
      },
      {
        "duration": 3,
        "start_time": "2022-06-08T20:31:47.904Z"
      },
      {
        "duration": 54,
        "start_time": "2022-06-08T20:31:47.908Z"
      },
      {
        "duration": 64,
        "start_time": "2022-06-08T20:31:47.963Z"
      },
      {
        "duration": 38,
        "start_time": "2022-06-08T20:31:48.028Z"
      },
      {
        "duration": 9,
        "start_time": "2022-06-08T20:31:48.069Z"
      },
      {
        "duration": 492,
        "start_time": "2022-06-08T20:31:48.080Z"
      },
      {
        "duration": 0,
        "start_time": "2022-06-08T20:31:48.573Z"
      },
      {
        "duration": 0,
        "start_time": "2022-06-08T20:31:48.575Z"
      },
      {
        "duration": 0,
        "start_time": "2022-06-08T20:31:48.576Z"
      },
      {
        "duration": 0,
        "start_time": "2022-06-08T20:31:48.577Z"
      },
      {
        "duration": 0,
        "start_time": "2022-06-08T20:31:48.577Z"
      },
      {
        "duration": 0,
        "start_time": "2022-06-08T20:31:48.578Z"
      },
      {
        "duration": 0,
        "start_time": "2022-06-08T20:31:48.580Z"
      },
      {
        "duration": 0,
        "start_time": "2022-06-08T20:31:48.580Z"
      },
      {
        "duration": 0,
        "start_time": "2022-06-08T20:31:48.581Z"
      },
      {
        "duration": 0,
        "start_time": "2022-06-08T20:31:48.582Z"
      },
      {
        "duration": 0,
        "start_time": "2022-06-08T20:31:48.583Z"
      },
      {
        "duration": 0,
        "start_time": "2022-06-08T20:31:48.584Z"
      },
      {
        "duration": 0,
        "start_time": "2022-06-08T20:31:48.585Z"
      },
      {
        "duration": 0,
        "start_time": "2022-06-08T20:31:48.586Z"
      },
      {
        "duration": 0,
        "start_time": "2022-06-08T20:31:48.587Z"
      },
      {
        "duration": 0,
        "start_time": "2022-06-08T20:31:48.588Z"
      },
      {
        "duration": 0,
        "start_time": "2022-06-08T20:31:48.589Z"
      },
      {
        "duration": 0,
        "start_time": "2022-06-08T20:31:48.591Z"
      },
      {
        "duration": 0,
        "start_time": "2022-06-08T20:31:48.591Z"
      },
      {
        "duration": 0,
        "start_time": "2022-06-08T20:31:48.592Z"
      },
      {
        "duration": 0,
        "start_time": "2022-06-08T20:31:48.593Z"
      },
      {
        "duration": 0,
        "start_time": "2022-06-08T20:31:48.594Z"
      },
      {
        "duration": 245,
        "start_time": "2022-06-08T20:32:48.501Z"
      },
      {
        "duration": 5,
        "start_time": "2022-06-08T20:33:44.037Z"
      },
      {
        "duration": 10,
        "start_time": "2022-06-08T20:34:24.051Z"
      },
      {
        "duration": 418,
        "start_time": "2022-06-08T20:34:31.739Z"
      },
      {
        "duration": 3,
        "start_time": "2022-06-08T20:34:41.406Z"
      },
      {
        "duration": 36,
        "start_time": "2022-06-08T20:34:41.420Z"
      },
      {
        "duration": 61,
        "start_time": "2022-06-08T20:34:41.457Z"
      },
      {
        "duration": 27,
        "start_time": "2022-06-08T20:34:41.520Z"
      },
      {
        "duration": 7,
        "start_time": "2022-06-08T20:34:41.548Z"
      },
      {
        "duration": 394,
        "start_time": "2022-06-08T20:34:41.557Z"
      },
      {
        "duration": 0,
        "start_time": "2022-06-08T20:34:41.952Z"
      },
      {
        "duration": 0,
        "start_time": "2022-06-08T20:34:41.953Z"
      },
      {
        "duration": 0,
        "start_time": "2022-06-08T20:34:41.955Z"
      },
      {
        "duration": 0,
        "start_time": "2022-06-08T20:34:41.955Z"
      },
      {
        "duration": 0,
        "start_time": "2022-06-08T20:34:41.956Z"
      },
      {
        "duration": 0,
        "start_time": "2022-06-08T20:34:41.957Z"
      },
      {
        "duration": 0,
        "start_time": "2022-06-08T20:34:41.958Z"
      },
      {
        "duration": 0,
        "start_time": "2022-06-08T20:34:41.959Z"
      },
      {
        "duration": 0,
        "start_time": "2022-06-08T20:34:41.960Z"
      },
      {
        "duration": 0,
        "start_time": "2022-06-08T20:34:41.961Z"
      },
      {
        "duration": 0,
        "start_time": "2022-06-08T20:34:41.962Z"
      },
      {
        "duration": 0,
        "start_time": "2022-06-08T20:34:41.963Z"
      },
      {
        "duration": 0,
        "start_time": "2022-06-08T20:34:41.964Z"
      },
      {
        "duration": 0,
        "start_time": "2022-06-08T20:34:41.965Z"
      },
      {
        "duration": 0,
        "start_time": "2022-06-08T20:34:41.966Z"
      },
      {
        "duration": 0,
        "start_time": "2022-06-08T20:34:41.967Z"
      },
      {
        "duration": 0,
        "start_time": "2022-06-08T20:34:41.968Z"
      },
      {
        "duration": 0,
        "start_time": "2022-06-08T20:34:41.969Z"
      },
      {
        "duration": 0,
        "start_time": "2022-06-08T20:34:41.970Z"
      },
      {
        "duration": 0,
        "start_time": "2022-06-08T20:34:41.970Z"
      },
      {
        "duration": 0,
        "start_time": "2022-06-08T20:34:41.971Z"
      },
      {
        "duration": 0,
        "start_time": "2022-06-08T20:34:41.972Z"
      },
      {
        "duration": 979,
        "start_time": "2022-06-08T20:35:13.567Z"
      },
      {
        "duration": 41,
        "start_time": "2022-06-08T20:35:14.548Z"
      },
      {
        "duration": 62,
        "start_time": "2022-06-08T20:35:14.591Z"
      },
      {
        "duration": 28,
        "start_time": "2022-06-08T20:35:14.655Z"
      },
      {
        "duration": 10,
        "start_time": "2022-06-08T20:35:14.685Z"
      },
      {
        "duration": 117,
        "start_time": "2022-06-08T20:35:14.697Z"
      },
      {
        "duration": 0,
        "start_time": "2022-06-08T20:35:14.816Z"
      },
      {
        "duration": 0,
        "start_time": "2022-06-08T20:35:14.817Z"
      },
      {
        "duration": 0,
        "start_time": "2022-06-08T20:35:14.818Z"
      },
      {
        "duration": 0,
        "start_time": "2022-06-08T20:35:14.819Z"
      },
      {
        "duration": 0,
        "start_time": "2022-06-08T20:35:14.824Z"
      },
      {
        "duration": 0,
        "start_time": "2022-06-08T20:35:14.825Z"
      },
      {
        "duration": 0,
        "start_time": "2022-06-08T20:35:14.826Z"
      },
      {
        "duration": 0,
        "start_time": "2022-06-08T20:35:14.827Z"
      },
      {
        "duration": 0,
        "start_time": "2022-06-08T20:35:14.828Z"
      },
      {
        "duration": 0,
        "start_time": "2022-06-08T20:35:14.830Z"
      },
      {
        "duration": 0,
        "start_time": "2022-06-08T20:35:14.830Z"
      },
      {
        "duration": 0,
        "start_time": "2022-06-08T20:35:14.831Z"
      },
      {
        "duration": 0,
        "start_time": "2022-06-08T20:35:14.832Z"
      },
      {
        "duration": 0,
        "start_time": "2022-06-08T20:35:14.833Z"
      },
      {
        "duration": 0,
        "start_time": "2022-06-08T20:35:14.834Z"
      },
      {
        "duration": 0,
        "start_time": "2022-06-08T20:35:14.835Z"
      },
      {
        "duration": 0,
        "start_time": "2022-06-08T20:35:14.836Z"
      },
      {
        "duration": 0,
        "start_time": "2022-06-08T20:35:14.837Z"
      },
      {
        "duration": 0,
        "start_time": "2022-06-08T20:35:14.838Z"
      },
      {
        "duration": 0,
        "start_time": "2022-06-08T20:35:14.838Z"
      },
      {
        "duration": 0,
        "start_time": "2022-06-08T20:35:14.839Z"
      },
      {
        "duration": 0,
        "start_time": "2022-06-08T20:35:14.840Z"
      },
      {
        "duration": 14,
        "start_time": "2022-06-08T20:35:52.464Z"
      },
      {
        "duration": 436,
        "start_time": "2022-06-08T20:38:00.943Z"
      },
      {
        "duration": 3,
        "start_time": "2022-06-08T20:38:31.850Z"
      },
      {
        "duration": 39,
        "start_time": "2022-06-08T20:38:31.857Z"
      },
      {
        "duration": 67,
        "start_time": "2022-06-08T20:38:31.898Z"
      },
      {
        "duration": 30,
        "start_time": "2022-06-08T20:38:31.967Z"
      },
      {
        "duration": 9,
        "start_time": "2022-06-08T20:38:31.999Z"
      },
      {
        "duration": 23,
        "start_time": "2022-06-08T20:38:32.011Z"
      },
      {
        "duration": 10,
        "start_time": "2022-06-08T20:38:32.036Z"
      },
      {
        "duration": 20,
        "start_time": "2022-06-08T20:38:32.047Z"
      },
      {
        "duration": 286,
        "start_time": "2022-06-08T20:38:32.069Z"
      },
      {
        "duration": 274,
        "start_time": "2022-06-08T20:38:32.357Z"
      },
      {
        "duration": 273,
        "start_time": "2022-06-08T20:38:32.632Z"
      },
      {
        "duration": 193,
        "start_time": "2022-06-08T20:38:32.907Z"
      },
      {
        "duration": 289,
        "start_time": "2022-06-08T20:38:33.102Z"
      },
      {
        "duration": 189,
        "start_time": "2022-06-08T20:38:33.393Z"
      },
      {
        "duration": 253,
        "start_time": "2022-06-08T20:38:33.585Z"
      },
      {
        "duration": 287,
        "start_time": "2022-06-08T20:38:33.840Z"
      },
      {
        "duration": 5,
        "start_time": "2022-06-08T20:38:34.128Z"
      },
      {
        "duration": 451,
        "start_time": "2022-06-08T20:38:34.134Z"
      },
      {
        "duration": 3,
        "start_time": "2022-06-08T20:38:34.587Z"
      },
      {
        "duration": 229,
        "start_time": "2022-06-08T20:38:34.592Z"
      },
      {
        "duration": 132,
        "start_time": "2022-06-08T20:38:34.823Z"
      },
      {
        "duration": 5,
        "start_time": "2022-06-08T20:38:34.957Z"
      },
      {
        "duration": 136,
        "start_time": "2022-06-08T20:38:34.964Z"
      },
      {
        "duration": 30,
        "start_time": "2022-06-08T20:38:35.101Z"
      },
      {
        "duration": 8,
        "start_time": "2022-06-08T20:38:35.132Z"
      },
      {
        "duration": 9,
        "start_time": "2022-06-08T20:38:35.142Z"
      },
      {
        "duration": 29,
        "start_time": "2022-06-08T20:38:35.152Z"
      },
      {
        "duration": 13,
        "start_time": "2022-06-08T20:38:35.182Z"
      },
      {
        "duration": 35,
        "start_time": "2022-06-08T20:39:17.502Z"
      },
      {
        "duration": 963,
        "start_time": "2022-06-08T20:48:42.595Z"
      },
      {
        "duration": 39,
        "start_time": "2022-06-08T20:48:43.560Z"
      },
      {
        "duration": 63,
        "start_time": "2022-06-08T20:48:43.601Z"
      },
      {
        "duration": 28,
        "start_time": "2022-06-08T20:48:43.666Z"
      },
      {
        "duration": 11,
        "start_time": "2022-06-08T20:48:43.697Z"
      },
      {
        "duration": 9,
        "start_time": "2022-06-08T20:48:43.709Z"
      },
      {
        "duration": 217,
        "start_time": "2022-06-08T20:48:43.720Z"
      },
      {
        "duration": 316,
        "start_time": "2022-06-08T20:48:43.939Z"
      },
      {
        "duration": 269,
        "start_time": "2022-06-08T20:48:44.256Z"
      },
      {
        "duration": 183,
        "start_time": "2022-06-08T20:48:44.527Z"
      },
      {
        "duration": 307,
        "start_time": "2022-06-08T20:48:44.712Z"
      },
      {
        "duration": 194,
        "start_time": "2022-06-08T20:48:45.020Z"
      },
      {
        "duration": 278,
        "start_time": "2022-06-08T20:48:45.216Z"
      },
      {
        "duration": 237,
        "start_time": "2022-06-08T20:48:45.496Z"
      },
      {
        "duration": 4,
        "start_time": "2022-06-08T20:48:45.734Z"
      },
      {
        "duration": 414,
        "start_time": "2022-06-08T20:48:45.739Z"
      },
      {
        "duration": 3,
        "start_time": "2022-06-08T20:48:46.155Z"
      },
      {
        "duration": 229,
        "start_time": "2022-06-08T20:48:46.160Z"
      },
      {
        "duration": 161,
        "start_time": "2022-06-08T20:48:46.391Z"
      },
      {
        "duration": 9,
        "start_time": "2022-06-08T20:48:46.554Z"
      },
      {
        "duration": 233,
        "start_time": "2022-06-08T20:48:46.566Z"
      },
      {
        "duration": 41,
        "start_time": "2022-06-08T20:48:46.802Z"
      },
      {
        "duration": 14,
        "start_time": "2022-06-08T20:48:46.846Z"
      },
      {
        "duration": 13,
        "start_time": "2022-06-08T20:48:46.862Z"
      },
      {
        "duration": 54,
        "start_time": "2022-06-08T20:48:46.878Z"
      },
      {
        "duration": 16,
        "start_time": "2022-06-08T20:48:46.933Z"
      },
      {
        "duration": 1158,
        "start_time": "2022-06-09T06:09:27.921Z"
      },
      {
        "duration": 81,
        "start_time": "2022-06-09T06:09:29.081Z"
      },
      {
        "duration": 117,
        "start_time": "2022-06-09T06:09:29.164Z"
      },
      {
        "duration": 72,
        "start_time": "2022-06-09T06:09:29.283Z"
      },
      {
        "duration": 10,
        "start_time": "2022-06-09T06:09:29.357Z"
      },
      {
        "duration": 11,
        "start_time": "2022-06-09T06:09:29.368Z"
      },
      {
        "duration": 253,
        "start_time": "2022-06-09T06:09:29.380Z"
      },
      {
        "duration": 278,
        "start_time": "2022-06-09T06:09:29.635Z"
      },
      {
        "duration": 281,
        "start_time": "2022-06-09T06:09:29.915Z"
      },
      {
        "duration": 208,
        "start_time": "2022-06-09T06:09:30.199Z"
      },
      {
        "duration": 365,
        "start_time": "2022-06-09T06:09:30.410Z"
      },
      {
        "duration": 209,
        "start_time": "2022-06-09T06:09:30.776Z"
      },
      {
        "duration": 268,
        "start_time": "2022-06-09T06:09:30.987Z"
      },
      {
        "duration": 258,
        "start_time": "2022-06-09T06:09:31.256Z"
      },
      {
        "duration": 4,
        "start_time": "2022-06-09T06:09:31.517Z"
      },
      {
        "duration": 483,
        "start_time": "2022-06-09T06:09:31.523Z"
      },
      {
        "duration": 5,
        "start_time": "2022-06-09T06:09:32.008Z"
      },
      {
        "duration": 238,
        "start_time": "2022-06-09T06:09:32.015Z"
      },
      {
        "duration": 136,
        "start_time": "2022-06-09T06:09:32.255Z"
      },
      {
        "duration": 6,
        "start_time": "2022-06-09T06:09:32.393Z"
      },
      {
        "duration": 163,
        "start_time": "2022-06-09T06:09:32.401Z"
      },
      {
        "duration": 23,
        "start_time": "2022-06-09T06:09:32.566Z"
      },
      {
        "duration": 12,
        "start_time": "2022-06-09T06:09:32.591Z"
      },
      {
        "duration": 16,
        "start_time": "2022-06-09T06:09:32.605Z"
      },
      {
        "duration": 46,
        "start_time": "2022-06-09T06:09:32.623Z"
      },
      {
        "duration": 12,
        "start_time": "2022-06-09T06:09:32.671Z"
      },
      {
        "duration": 1098,
        "start_time": "2022-12-01T14:30:20.808Z"
      },
      {
        "duration": 99,
        "start_time": "2022-12-01T14:30:21.908Z"
      },
      {
        "duration": 114,
        "start_time": "2022-12-01T14:30:22.009Z"
      },
      {
        "duration": 87,
        "start_time": "2022-12-01T14:30:22.125Z"
      },
      {
        "duration": 11,
        "start_time": "2022-12-01T14:30:22.213Z"
      },
      {
        "duration": 11,
        "start_time": "2022-12-01T14:30:22.225Z"
      },
      {
        "duration": 249,
        "start_time": "2022-12-01T14:30:22.238Z"
      },
      {
        "duration": 294,
        "start_time": "2022-12-01T14:30:22.488Z"
      },
      {
        "duration": 323,
        "start_time": "2022-12-01T14:30:22.784Z"
      },
      {
        "duration": 190,
        "start_time": "2022-12-01T14:30:23.109Z"
      },
      {
        "duration": 267,
        "start_time": "2022-12-01T14:30:23.301Z"
      },
      {
        "duration": 207,
        "start_time": "2022-12-01T14:30:23.569Z"
      },
      {
        "duration": 340,
        "start_time": "2022-12-01T14:30:23.778Z"
      },
      {
        "duration": 287,
        "start_time": "2022-12-01T14:30:24.121Z"
      },
      {
        "duration": 3,
        "start_time": "2022-12-01T14:30:24.410Z"
      },
      {
        "duration": 470,
        "start_time": "2022-12-01T14:30:24.415Z"
      },
      {
        "duration": 4,
        "start_time": "2022-12-01T14:30:24.887Z"
      },
      {
        "duration": 235,
        "start_time": "2022-12-01T14:30:24.893Z"
      },
      {
        "duration": 137,
        "start_time": "2022-12-01T14:30:25.130Z"
      },
      {
        "duration": 13,
        "start_time": "2022-12-01T14:30:25.269Z"
      },
      {
        "duration": 154,
        "start_time": "2022-12-01T14:30:25.284Z"
      },
      {
        "duration": 21,
        "start_time": "2022-12-01T14:30:25.440Z"
      },
      {
        "duration": 23,
        "start_time": "2022-12-01T14:30:25.463Z"
      },
      {
        "duration": 13,
        "start_time": "2022-12-01T14:30:25.488Z"
      },
      {
        "duration": 43,
        "start_time": "2022-12-01T14:30:25.502Z"
      },
      {
        "duration": 42,
        "start_time": "2022-12-01T14:30:25.547Z"
      }
    ],
    "kernelspec": {
      "display_name": "Python 3 (ipykernel)",
      "language": "python",
      "name": "python3"
    },
    "language_info": {
      "codemirror_mode": {
        "name": "ipython",
        "version": 3
      },
      "file_extension": ".py",
      "mimetype": "text/x-python",
      "name": "python",
      "nbconvert_exporter": "python",
      "pygments_lexer": "ipython3",
      "version": "3.9.5"
    },
    "toc": {
      "base_numbering": 1,
      "nav_menu": {},
      "number_sections": true,
      "sideBar": true,
      "skip_h1_title": true,
      "title_cell": "Содержание",
      "title_sidebar": "Contents",
      "toc_cell": true,
      "toc_position": {
        "height": "calc(100% - 180px)",
        "left": "10px",
        "top": "150px",
        "width": "165px"
      },
      "toc_section_display": true,
      "toc_window_display": false
    },
    "colab": {
      "provenance": [],
      "toc_visible": true
    }
  },
  "nbformat": 4,
  "nbformat_minor": 0
}