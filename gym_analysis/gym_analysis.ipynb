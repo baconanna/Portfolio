{
  "cells": [
    {
      "cell_type": "markdown",
      "metadata": {
        "toc": true,
        "id": "LKM2bRAbkom4"
      },
      "source": [
        "<h1>Содержание<span class=\"tocSkip\"></span></h1>\n",
        "<div class=\"toc\"><ul class=\"toc-item\"><li><span><a href=\"#Описание-проекта\" data-toc-modified-id=\"Описание-проекта-1\"><span class=\"toc-item-num\">1&nbsp;&nbsp;</span>Описание проекта</a></span></li><li><span><a href=\"#Описание-данных\" data-toc-modified-id=\"Описание-данных-2\"><span class=\"toc-item-num\">2&nbsp;&nbsp;</span>Описание данных</a></span></li><li><span><a href=\"#Изучение-и-предобработка-данных\" data-toc-modified-id=\"Изучение-и-предобработка-данных-3\"><span class=\"toc-item-num\">3&nbsp;&nbsp;</span>Изучение и предобработка данных</a></span></li><li><span><a href=\"#Исследовательский-анализ-данных\" data-toc-modified-id=\"Исследовательский-анализ-данных-4\"><span class=\"toc-item-num\">4&nbsp;&nbsp;</span>Исследовательский анализ данных</a></span><ul class=\"toc-item\"><li><span><a href=\"#Изучим-средние-значения-и-стандартные-отклонения\" data-toc-modified-id=\"Изучим-средние-значения-и-стандартные-отклонения-4.1\"><span class=\"toc-item-num\">4.1&nbsp;&nbsp;</span>Изучим средние значения и стандартные отклонения</a></span></li><li><span><a href=\"#Построим-столбчатые-гистограммы-и-распределения-признаков-для-тех,-кто-ушёл-(отток)-и-тех,-кто-остался-(не-попали-в-отток)\" data-toc-modified-id=\"Построим-столбчатые-гистограммы-и-распределения-признаков-для-тех,-кто-ушёл-(отток)-и-тех,-кто-остался-(не-попали-в-отток)-4.2\"><span class=\"toc-item-num\">4.2&nbsp;&nbsp;</span>Построим столбчатые гистограммы и распределения признаков для тех, кто ушёл (отток) и тех, кто остался (не попали в отток)</a></span></li><li><span><a href=\"#Построим-матрицу-корреляций-и-визуализируем-её\" data-toc-modified-id=\"Построим-матрицу-корреляций-и-визуализируем-её-4.3\"><span class=\"toc-item-num\">4.3&nbsp;&nbsp;</span>Построим матрицу корреляций и визуализируем её</a></span></li></ul></li><li><span><a href=\"#Построение-модели-прогнозирования-оттока-клиентов\" data-toc-modified-id=\"Построение-модели-прогнозирования-оттока-клиентов-5\"><span class=\"toc-item-num\">5&nbsp;&nbsp;</span>Построение модели прогнозирования оттока клиентов</a></span><ul class=\"toc-item\"><li><span><a href=\"#Разобьем-данные-на-обучающую-и-валидационную-выборку\" data-toc-modified-id=\"Разобьем-данные-на-обучающую-и-валидационную-выборку-5.1\"><span class=\"toc-item-num\">5.1&nbsp;&nbsp;</span>Разобьем данные на обучающую и валидационную выборку</a></span></li><li><span><a href=\"#Обучим-модель-на-train-выборке-двумя-способами:-логистической-регрессией-и-случайным-лесом\" data-toc-modified-id=\"Обучим-модель-на-train-выборке-двумя-способами:-логистической-регрессией-и-случайным-лесом-5.2\"><span class=\"toc-item-num\">5.2&nbsp;&nbsp;</span>Обучим модель на train-выборке двумя способами: логистической регрессией и случайным лесом</a></span></li></ul></li><li><span><a href=\"#Кластеризация-клиентов\" data-toc-modified-id=\"Кластеризация-клиентов-6\"><span class=\"toc-item-num\">6&nbsp;&nbsp;</span>Кластеризация клиентов</a></span><ul class=\"toc-item\"><li><span><a href=\"#Стандартизация-данных\" data-toc-modified-id=\"Стандартизация-данных-6.1\"><span class=\"toc-item-num\">6.1&nbsp;&nbsp;</span>Стандартизация данных</a></span></li><li><span><a href=\"#Построим-матрицу-расстояний-на-стандартизованной-матрице-признаков-и-нарисуем-дендрограмму\" data-toc-modified-id=\"Построим-матрицу-расстояний-на-стандартизованной-матрице-признаков-и-нарисуем-дендрограмму-6.2\"><span class=\"toc-item-num\">6.2&nbsp;&nbsp;</span>Построим матрицу расстояний на стандартизованной матрице признаков и нарисуем дендрограмму</a></span></li><li><span><a href=\"#Обучим-модель-кластеризации-на-основании-алгоритма-K-Means-и-прогнозируем-кластеры-клиентов\" data-toc-modified-id=\"Обучим-модель-кластеризации-на-основании-алгоритма-K-Means-и-прогнозируем-кластеры-клиентов-6.3\"><span class=\"toc-item-num\">6.3&nbsp;&nbsp;</span>Обучим модель кластеризации на основании алгоритма K-Means и прогнозируем кластеры клиентов</a></span></li><li><span><a href=\"#Строим-распределения-признаков-для-кластеров\" data-toc-modified-id=\"Строим-распределения-признаков-для-кластеров-6.4\"><span class=\"toc-item-num\">6.4&nbsp;&nbsp;</span>Строим распределения признаков для кластеров</a></span></li><li><span><a href=\"#Считаем-долю-оттока-для-каждого-полученного-кластера\" data-toc-modified-id=\"Считаем-долю-оттока-для-каждого-полученного-кластера-6.5\"><span class=\"toc-item-num\">6.5&nbsp;&nbsp;</span>Считаем долю оттока для каждого полученного кластера</a></span></li></ul></li><li><span><a href=\"#Общий-вывод\" data-toc-modified-id=\"Общий-вывод-7\"><span class=\"toc-item-num\">7&nbsp;&nbsp;</span>Общий вывод</a></span></li><li><span><a href=\"#Рекомендации\" data-toc-modified-id=\"Рекомендации-8\"><span class=\"toc-item-num\">8&nbsp;&nbsp;</span>Рекомендации</a></span></li></ul></div>"
      ]
    },
    {
      "cell_type": "markdown",
      "metadata": {
        "id": "A0MEs875kom7"
      },
      "source": [
        "# Анализ оттока клиентов из сети фитнес-центров \"Культурист-датасаентис\""
      ]
    },
    {
      "cell_type": "markdown",
      "metadata": {
        "id": "7lA7H2kzkom8"
      },
      "source": [
        "## Описание проекта\n",
        "\n",
        "Сеть фитнес-центров «Культурист-датасаентист» разрабатывает стратегию взаимодействия с клиентами на основе аналитических данных.\n",
        "\n",
        "Распространённая проблема фитнес-клубов и других сервисов — отток клиентов. Для фитнес-центра можно считать, что клиент попал в отток, если за последний месяц ни разу не посетил спортзал. Чтобы бороться с оттоком, нужно провести анализ и подготовить план действий по удержанию клиентов. А именно:\n",
        "- научиться прогнозировать вероятность оттока (на уровне следующего месяца) для каждого клиента;\n",
        "- сформировать типичные портреты клиентов: выделить несколько наиболее ярких групп и охарактеризовать их основные свойства;\n",
        "- проанализировать основные признаки, наиболее сильно влияющие на отток;\n",
        "- сформулировать основные выводы и разработать рекомендации по повышению качества работы с клиентами:\n",
        " - выделить целевые группы клиентов;\n",
        " - предложить меры по снижению оттока;\n",
        " - определить другие особенности взаимодействия с клиентами."
      ]
    },
    {
      "cell_type": "markdown",
      "metadata": {
        "id": "x3RvUOsskom-"
      },
      "source": [
        "## Описание данных\n",
        "\n",
        "Набор данных содержат информацию на месяц до оттока и факт оттока на определённый месяц. Данные включают следующие поля:\n",
        "\n",
        "1. Данные клиента за предыдущий до проверки факта оттока месяц:\n",
        "- **gender** — пол;\n",
        "- **Near_Location** — проживание или работа в районе, где находится фитнес-центр;\n",
        "- **Partner** — сотрудник компании-партнёра клуба (сотрудничество с компаниями, чьи сотрудники могут получать скидки на абонемент — в таком случае фитнес-центр хранит информацию о работодателе клиента);\n",
        "- **Promo_friends** — факт первоначальной записи в рамках акции «приведи друга» (использовал промо-код от знакомого при оплате первого абонемента);\n",
        "- **Phone** — наличие контактного телефона;\n",
        "- **Age** — возраст;\n",
        "- **Lifetime** — время с момента первого обращения в фитнес-центр (в месяцах).\n",
        "\n",
        "2. Информация на основе журнала посещений, покупок и информация о текущем статусе абонемента клиента:\n",
        "- **Contract_period** — длительность текущего действующего абонемента (месяц, 6 месяцев, год);\n",
        "- **Month_to_end_contract** — срок до окончания текущего действующего абонемента (в месяцах);\n",
        "- **Group_visits** — факт посещения групповых занятий;\n",
        "- **Avg_class_frequency_total** — средняя частота посещений в неделю за все время с начала действия абонемента;\n",
        "- **Avg_class_frequency_current_month** — средняя частота посещений в неделю за предыдущий месяц;\n",
        "- **Avg_additional_charges_total** — суммарная выручка от других услуг фитнес-центра: кафе, спорттовары, косметический и массажный салон;\n",
        "- **Churn** — факт оттока в текущем месяце."
      ]
    },
    {
      "cell_type": "markdown",
      "metadata": {
        "id": "djsoIyyDkonB"
      },
      "source": [
        "## Изучение и предобработка данных"
      ]
    },
    {
      "cell_type": "code",
      "execution_count": null,
      "metadata": {
        "id": "yoPlOD7ZkonC"
      },
      "outputs": [],
      "source": [
        "# Импорт библиотек\n",
        "\n",
        "import pandas as pd\n",
        "import math as mth\n",
        "import matplotlib.pyplot as plt\n",
        "from scipy import stats as st\n",
        "import numpy as np\n",
        "\n",
        "# Визуализация\n",
        "import seaborn as sns; sns.set()\n",
        "\n",
        "\n",
        "# ML\n",
        "from sklearn.preprocessing import StandardScaler\n",
        "from sklearn.model_selection import train_test_split\n",
        "\n",
        "from sklearn.linear_model import LogisticRegression\n",
        "from sklearn.metrics import accuracy_score, precision_score, recall_score, f1_score, roc_auc_score\n",
        "\n",
        "from sklearn.tree import DecisionTreeRegressor, DecisionTreeClassifier\n",
        "from sklearn.ensemble import RandomForestRegressor, GradientBoostingRegressor\n",
        "from sklearn.ensemble import RandomForestClassifier, GradientBoostingClassifier\n",
        "from sklearn.metrics import accuracy_score, precision_score, recall_score\n",
        "from sklearn.cluster import KMeans\n",
        "from scipy.cluster.hierarchy import dendrogram, linkage\n",
        "\n",
        "# Дополнительные настройки\n",
        "pd.options.display.expand_frame_repr = False\n",
        "import warnings\n",
        "warnings.filterwarnings('ignore')"
      ]
    },
    {
      "cell_type": "code",
      "execution_count": null,
      "metadata": {
        "scrolled": false,
        "id": "YONc1IzAkonH",
        "outputId": "2d553892-131d-4fba-e0e7-e8140948e320"
      },
      "outputs": [
        {
          "name": "stdout",
          "output_type": "stream",
          "text": [
            "<class 'pandas.core.frame.DataFrame'>\n",
            "RangeIndex: 4000 entries, 0 to 3999\n",
            "Data columns (total 14 columns):\n",
            " #   Column                             Non-Null Count  Dtype  \n",
            "---  ------                             --------------  -----  \n",
            " 0   gender                             4000 non-null   int64  \n",
            " 1   Near_Location                      4000 non-null   int64  \n",
            " 2   Partner                            4000 non-null   int64  \n",
            " 3   Promo_friends                      4000 non-null   int64  \n",
            " 4   Phone                              4000 non-null   int64  \n",
            " 5   Contract_period                    4000 non-null   int64  \n",
            " 6   Group_visits                       4000 non-null   int64  \n",
            " 7   Age                                4000 non-null   int64  \n",
            " 8   Avg_additional_charges_total       4000 non-null   float64\n",
            " 9   Month_to_end_contract              4000 non-null   float64\n",
            " 10  Lifetime                           4000 non-null   int64  \n",
            " 11  Avg_class_frequency_total          4000 non-null   float64\n",
            " 12  Avg_class_frequency_current_month  4000 non-null   float64\n",
            " 13  Churn                              4000 non-null   int64  \n",
            "dtypes: float64(4), int64(10)\n",
            "memory usage: 437.6 KB\n"
          ]
        },
        {
          "data": {
            "text/plain": [
              "None"
            ]
          },
          "metadata": {},
          "output_type": "display_data"
        },
        {
          "data": {
            "text/html": [
              "<div>\n",
              "<style scoped>\n",
              "    .dataframe tbody tr th:only-of-type {\n",
              "        vertical-align: middle;\n",
              "    }\n",
              "\n",
              "    .dataframe tbody tr th {\n",
              "        vertical-align: top;\n",
              "    }\n",
              "\n",
              "    .dataframe thead th {\n",
              "        text-align: right;\n",
              "    }\n",
              "</style>\n",
              "<table border=\"1\" class=\"dataframe\">\n",
              "  <thead>\n",
              "    <tr style=\"text-align: right;\">\n",
              "      <th></th>\n",
              "      <th>gender</th>\n",
              "      <th>Near_Location</th>\n",
              "      <th>Partner</th>\n",
              "      <th>Promo_friends</th>\n",
              "      <th>Phone</th>\n",
              "      <th>Contract_period</th>\n",
              "      <th>Group_visits</th>\n",
              "      <th>Age</th>\n",
              "      <th>Avg_additional_charges_total</th>\n",
              "      <th>Month_to_end_contract</th>\n",
              "      <th>Lifetime</th>\n",
              "      <th>Avg_class_frequency_total</th>\n",
              "      <th>Avg_class_frequency_current_month</th>\n",
              "      <th>Churn</th>\n",
              "    </tr>\n",
              "  </thead>\n",
              "  <tbody>\n",
              "    <tr>\n",
              "      <th>0</th>\n",
              "      <td>1</td>\n",
              "      <td>1</td>\n",
              "      <td>1</td>\n",
              "      <td>1</td>\n",
              "      <td>0</td>\n",
              "      <td>6</td>\n",
              "      <td>1</td>\n",
              "      <td>29</td>\n",
              "      <td>14.227470</td>\n",
              "      <td>5.0</td>\n",
              "      <td>3</td>\n",
              "      <td>0.020398</td>\n",
              "      <td>0.000000</td>\n",
              "      <td>0</td>\n",
              "    </tr>\n",
              "    <tr>\n",
              "      <th>1</th>\n",
              "      <td>0</td>\n",
              "      <td>1</td>\n",
              "      <td>0</td>\n",
              "      <td>0</td>\n",
              "      <td>1</td>\n",
              "      <td>12</td>\n",
              "      <td>1</td>\n",
              "      <td>31</td>\n",
              "      <td>113.202938</td>\n",
              "      <td>12.0</td>\n",
              "      <td>7</td>\n",
              "      <td>1.922936</td>\n",
              "      <td>1.910244</td>\n",
              "      <td>0</td>\n",
              "    </tr>\n",
              "    <tr>\n",
              "      <th>2</th>\n",
              "      <td>0</td>\n",
              "      <td>1</td>\n",
              "      <td>1</td>\n",
              "      <td>0</td>\n",
              "      <td>1</td>\n",
              "      <td>1</td>\n",
              "      <td>0</td>\n",
              "      <td>28</td>\n",
              "      <td>129.448479</td>\n",
              "      <td>1.0</td>\n",
              "      <td>2</td>\n",
              "      <td>1.859098</td>\n",
              "      <td>1.736502</td>\n",
              "      <td>0</td>\n",
              "    </tr>\n",
              "    <tr>\n",
              "      <th>3</th>\n",
              "      <td>0</td>\n",
              "      <td>1</td>\n",
              "      <td>1</td>\n",
              "      <td>1</td>\n",
              "      <td>1</td>\n",
              "      <td>12</td>\n",
              "      <td>1</td>\n",
              "      <td>33</td>\n",
              "      <td>62.669863</td>\n",
              "      <td>12.0</td>\n",
              "      <td>2</td>\n",
              "      <td>3.205633</td>\n",
              "      <td>3.357215</td>\n",
              "      <td>0</td>\n",
              "    </tr>\n",
              "    <tr>\n",
              "      <th>4</th>\n",
              "      <td>1</td>\n",
              "      <td>1</td>\n",
              "      <td>1</td>\n",
              "      <td>1</td>\n",
              "      <td>1</td>\n",
              "      <td>1</td>\n",
              "      <td>0</td>\n",
              "      <td>26</td>\n",
              "      <td>198.362265</td>\n",
              "      <td>1.0</td>\n",
              "      <td>3</td>\n",
              "      <td>1.113884</td>\n",
              "      <td>1.120078</td>\n",
              "      <td>0</td>\n",
              "    </tr>\n",
              "  </tbody>\n",
              "</table>\n",
              "</div>"
            ],
            "text/plain": [
              "   gender  Near_Location  Partner  Promo_friends  Phone  Contract_period  Group_visits  Age  Avg_additional_charges_total  Month_to_end_contract  Lifetime  Avg_class_frequency_total  Avg_class_frequency_current_month  Churn\n",
              "0       1              1        1              1      0                6             1   29                     14.227470                    5.0         3                   0.020398                           0.000000      0\n",
              "1       0              1        0              0      1               12             1   31                    113.202938                   12.0         7                   1.922936                           1.910244      0\n",
              "2       0              1        1              0      1                1             0   28                    129.448479                    1.0         2                   1.859098                           1.736502      0\n",
              "3       0              1        1              1      1               12             1   33                     62.669863                   12.0         2                   3.205633                           3.357215      0\n",
              "4       1              1        1              1      1                1             0   26                    198.362265                    1.0         3                   1.113884                           1.120078      0"
            ]
          },
          "metadata": {},
          "output_type": "display_data"
        },
        {
          "data": {
            "text/html": [
              "<div>\n",
              "<style scoped>\n",
              "    .dataframe tbody tr th:only-of-type {\n",
              "        vertical-align: middle;\n",
              "    }\n",
              "\n",
              "    .dataframe tbody tr th {\n",
              "        vertical-align: top;\n",
              "    }\n",
              "\n",
              "    .dataframe thead th {\n",
              "        text-align: right;\n",
              "    }\n",
              "</style>\n",
              "<table border=\"1\" class=\"dataframe\">\n",
              "  <thead>\n",
              "    <tr style=\"text-align: right;\">\n",
              "      <th></th>\n",
              "      <th>gender</th>\n",
              "      <th>Near_Location</th>\n",
              "      <th>Partner</th>\n",
              "      <th>Promo_friends</th>\n",
              "      <th>Phone</th>\n",
              "      <th>Contract_period</th>\n",
              "      <th>Group_visits</th>\n",
              "      <th>Age</th>\n",
              "      <th>Avg_additional_charges_total</th>\n",
              "      <th>Month_to_end_contract</th>\n",
              "      <th>Lifetime</th>\n",
              "      <th>Avg_class_frequency_total</th>\n",
              "      <th>Avg_class_frequency_current_month</th>\n",
              "      <th>Churn</th>\n",
              "    </tr>\n",
              "  </thead>\n",
              "  <tbody>\n",
              "    <tr>\n",
              "      <th>3995</th>\n",
              "      <td>1</td>\n",
              "      <td>1</td>\n",
              "      <td>1</td>\n",
              "      <td>0</td>\n",
              "      <td>1</td>\n",
              "      <td>12</td>\n",
              "      <td>0</td>\n",
              "      <td>33</td>\n",
              "      <td>2.406023</td>\n",
              "      <td>12.0</td>\n",
              "      <td>8</td>\n",
              "      <td>2.284497</td>\n",
              "      <td>2.349070</td>\n",
              "      <td>0</td>\n",
              "    </tr>\n",
              "    <tr>\n",
              "      <th>3996</th>\n",
              "      <td>0</td>\n",
              "      <td>1</td>\n",
              "      <td>0</td>\n",
              "      <td>0</td>\n",
              "      <td>1</td>\n",
              "      <td>1</td>\n",
              "      <td>1</td>\n",
              "      <td>29</td>\n",
              "      <td>68.883764</td>\n",
              "      <td>1.0</td>\n",
              "      <td>1</td>\n",
              "      <td>1.277168</td>\n",
              "      <td>0.292859</td>\n",
              "      <td>1</td>\n",
              "    </tr>\n",
              "    <tr>\n",
              "      <th>3997</th>\n",
              "      <td>1</td>\n",
              "      <td>1</td>\n",
              "      <td>1</td>\n",
              "      <td>1</td>\n",
              "      <td>1</td>\n",
              "      <td>12</td>\n",
              "      <td>0</td>\n",
              "      <td>28</td>\n",
              "      <td>78.250542</td>\n",
              "      <td>11.0</td>\n",
              "      <td>2</td>\n",
              "      <td>2.786146</td>\n",
              "      <td>2.831439</td>\n",
              "      <td>0</td>\n",
              "    </tr>\n",
              "    <tr>\n",
              "      <th>3998</th>\n",
              "      <td>0</td>\n",
              "      <td>1</td>\n",
              "      <td>1</td>\n",
              "      <td>1</td>\n",
              "      <td>1</td>\n",
              "      <td>6</td>\n",
              "      <td>0</td>\n",
              "      <td>32</td>\n",
              "      <td>61.912657</td>\n",
              "      <td>5.0</td>\n",
              "      <td>3</td>\n",
              "      <td>1.630108</td>\n",
              "      <td>1.596237</td>\n",
              "      <td>0</td>\n",
              "    </tr>\n",
              "    <tr>\n",
              "      <th>3999</th>\n",
              "      <td>1</td>\n",
              "      <td>0</td>\n",
              "      <td>1</td>\n",
              "      <td>0</td>\n",
              "      <td>0</td>\n",
              "      <td>12</td>\n",
              "      <td>1</td>\n",
              "      <td>30</td>\n",
              "      <td>178.861814</td>\n",
              "      <td>12.0</td>\n",
              "      <td>1</td>\n",
              "      <td>1.101832</td>\n",
              "      <td>1.035270</td>\n",
              "      <td>0</td>\n",
              "    </tr>\n",
              "  </tbody>\n",
              "</table>\n",
              "</div>"
            ],
            "text/plain": [
              "      gender  Near_Location  Partner  Promo_friends  Phone  Contract_period  Group_visits  Age  Avg_additional_charges_total  Month_to_end_contract  Lifetime  Avg_class_frequency_total  Avg_class_frequency_current_month  Churn\n",
              "3995       1              1        1              0      1               12             0   33                      2.406023                   12.0         8                   2.284497                           2.349070      0\n",
              "3996       0              1        0              0      1                1             1   29                     68.883764                    1.0         1                   1.277168                           0.292859      1\n",
              "3997       1              1        1              1      1               12             0   28                     78.250542                   11.0         2                   2.786146                           2.831439      0\n",
              "3998       0              1        1              1      1                6             0   32                     61.912657                    5.0         3                   1.630108                           1.596237      0\n",
              "3999       1              0        1              0      0               12             1   30                    178.861814                   12.0         1                   1.101832                           1.035270      0"
            ]
          },
          "metadata": {},
          "output_type": "display_data"
        }
      ],
      "source": [
        "# Загрузим и изучим данные\n",
        "\n",
        "gym_churn = pd.read_csv('/datasets/gym_churn.csv')\n",
        "\n",
        "display(gym_churn.info())\n",
        "display(gym_churn.head())\n",
        "display(gym_churn.tail())"
      ]
    },
    {
      "cell_type": "markdown",
      "metadata": {
        "id": "XDT7JUglkonK"
      },
      "source": [
        "**Вывод по данным:**\n",
        "\n",
        "- Данные представлены в виде таблицы, включающей в себя 4 000 строк и 14 столбцов, тип данных у десяти столбцов - целочисленный **int**, у четырёх остальных - **float**.\n",
        "- Количество строк в каждом столбце одинаково, что говорит о том, что в таблице, скорее всего, нет пропущенных данных.\n",
        "- Столбец **Month_to_end_contract** - это столбец с информацией о количестве месяцев, который принимает целые значения, поэтому необходимо его преобразование.\n",
        "- Чтобы избежать важные различия отдельных пользователей, округлять данные с плавающей точкой в столбцах **Avg_additional_charges_total**, **Avg_class_frequency_total** и **Avg_class_frequency_current_month** не будем.\n",
        "- Большинство столбцов являются бинарными: принимают значения 0 или 1.\n",
        "- Для удобства анализа следует привести названия столбцов к нижнему регистру."
      ]
    },
    {
      "cell_type": "code",
      "execution_count": null,
      "metadata": {
        "id": "1aTZW11ckonM",
        "outputId": "363cae92-e6b2-488f-9192-62164cf2430b"
      },
      "outputs": [
        {
          "name": "stdout",
          "output_type": "stream",
          "text": [
            "Количество дубликатов: 0\n",
            "\n",
            "\n",
            "Количество пропусков: \n"
          ]
        },
        {
          "data": {
            "text/plain": [
              "gender                               0\n",
              "near_location                        0\n",
              "partner                              0\n",
              "promo_friends                        0\n",
              "phone                                0\n",
              "contract_period                      0\n",
              "group_visits                         0\n",
              "age                                  0\n",
              "avg_additional_charges_total         0\n",
              "month_to_end_contract                0\n",
              "lifetime                             0\n",
              "avg_class_frequency_total            0\n",
              "avg_class_frequency_current_month    0\n",
              "churn                                0\n",
              "dtype: int64"
            ]
          },
          "metadata": {},
          "output_type": "display_data"
        },
        {
          "name": "stdout",
          "output_type": "stream",
          "text": [
            "<class 'pandas.core.frame.DataFrame'>\n",
            "RangeIndex: 4000 entries, 0 to 3999\n",
            "Data columns (total 14 columns):\n",
            " #   Column                             Non-Null Count  Dtype  \n",
            "---  ------                             --------------  -----  \n",
            " 0   gender                             4000 non-null   int64  \n",
            " 1   near_location                      4000 non-null   int64  \n",
            " 2   partner                            4000 non-null   int64  \n",
            " 3   promo_friends                      4000 non-null   int64  \n",
            " 4   phone                              4000 non-null   int64  \n",
            " 5   contract_period                    4000 non-null   int64  \n",
            " 6   group_visits                       4000 non-null   int64  \n",
            " 7   age                                4000 non-null   int64  \n",
            " 8   avg_additional_charges_total       4000 non-null   float64\n",
            " 9   month_to_end_contract              4000 non-null   int64  \n",
            " 10  lifetime                           4000 non-null   int64  \n",
            " 11  avg_class_frequency_total          4000 non-null   float64\n",
            " 12  avg_class_frequency_current_month  4000 non-null   float64\n",
            " 13  churn                              4000 non-null   int64  \n",
            "dtypes: float64(3), int64(11)\n",
            "memory usage: 437.6 KB\n"
          ]
        },
        {
          "data": {
            "text/plain": [
              "None"
            ]
          },
          "metadata": {},
          "output_type": "display_data"
        },
        {
          "data": {
            "text/html": [
              "<div>\n",
              "<style scoped>\n",
              "    .dataframe tbody tr th:only-of-type {\n",
              "        vertical-align: middle;\n",
              "    }\n",
              "\n",
              "    .dataframe tbody tr th {\n",
              "        vertical-align: top;\n",
              "    }\n",
              "\n",
              "    .dataframe thead th {\n",
              "        text-align: right;\n",
              "    }\n",
              "</style>\n",
              "<table border=\"1\" class=\"dataframe\">\n",
              "  <thead>\n",
              "    <tr style=\"text-align: right;\">\n",
              "      <th></th>\n",
              "      <th>gender</th>\n",
              "      <th>near_location</th>\n",
              "      <th>partner</th>\n",
              "      <th>promo_friends</th>\n",
              "      <th>phone</th>\n",
              "      <th>contract_period</th>\n",
              "      <th>group_visits</th>\n",
              "      <th>age</th>\n",
              "      <th>avg_additional_charges_total</th>\n",
              "      <th>month_to_end_contract</th>\n",
              "      <th>lifetime</th>\n",
              "      <th>avg_class_frequency_total</th>\n",
              "      <th>avg_class_frequency_current_month</th>\n",
              "      <th>churn</th>\n",
              "    </tr>\n",
              "  </thead>\n",
              "  <tbody>\n",
              "    <tr>\n",
              "      <th>441</th>\n",
              "      <td>1</td>\n",
              "      <td>1</td>\n",
              "      <td>1</td>\n",
              "      <td>1</td>\n",
              "      <td>1</td>\n",
              "      <td>1</td>\n",
              "      <td>1</td>\n",
              "      <td>23</td>\n",
              "      <td>92.614338</td>\n",
              "      <td>1</td>\n",
              "      <td>0</td>\n",
              "      <td>1.019297</td>\n",
              "      <td>0.967577</td>\n",
              "      <td>1</td>\n",
              "    </tr>\n",
              "    <tr>\n",
              "      <th>1627</th>\n",
              "      <td>0</td>\n",
              "      <td>1</td>\n",
              "      <td>1</td>\n",
              "      <td>1</td>\n",
              "      <td>1</td>\n",
              "      <td>12</td>\n",
              "      <td>0</td>\n",
              "      <td>29</td>\n",
              "      <td>281.539784</td>\n",
              "      <td>12</td>\n",
              "      <td>2</td>\n",
              "      <td>1.746411</td>\n",
              "      <td>1.776478</td>\n",
              "      <td>0</td>\n",
              "    </tr>\n",
              "    <tr>\n",
              "      <th>2216</th>\n",
              "      <td>0</td>\n",
              "      <td>1</td>\n",
              "      <td>0</td>\n",
              "      <td>0</td>\n",
              "      <td>1</td>\n",
              "      <td>1</td>\n",
              "      <td>0</td>\n",
              "      <td>30</td>\n",
              "      <td>177.759353</td>\n",
              "      <td>1</td>\n",
              "      <td>2</td>\n",
              "      <td>1.994393</td>\n",
              "      <td>1.597329</td>\n",
              "      <td>1</td>\n",
              "    </tr>\n",
              "    <tr>\n",
              "      <th>866</th>\n",
              "      <td>0</td>\n",
              "      <td>1</td>\n",
              "      <td>0</td>\n",
              "      <td>0</td>\n",
              "      <td>1</td>\n",
              "      <td>6</td>\n",
              "      <td>0</td>\n",
              "      <td>31</td>\n",
              "      <td>260.222897</td>\n",
              "      <td>6</td>\n",
              "      <td>3</td>\n",
              "      <td>1.450755</td>\n",
              "      <td>0.811941</td>\n",
              "      <td>1</td>\n",
              "    </tr>\n",
              "    <tr>\n",
              "      <th>1469</th>\n",
              "      <td>1</td>\n",
              "      <td>1</td>\n",
              "      <td>0</td>\n",
              "      <td>0</td>\n",
              "      <td>1</td>\n",
              "      <td>1</td>\n",
              "      <td>1</td>\n",
              "      <td>30</td>\n",
              "      <td>226.744335</td>\n",
              "      <td>1</td>\n",
              "      <td>1</td>\n",
              "      <td>1.905820</td>\n",
              "      <td>2.047298</td>\n",
              "      <td>0</td>\n",
              "    </tr>\n",
              "  </tbody>\n",
              "</table>\n",
              "</div>"
            ],
            "text/plain": [
              "      gender  near_location  partner  promo_friends  phone  contract_period  group_visits  age  avg_additional_charges_total  month_to_end_contract  lifetime  avg_class_frequency_total  avg_class_frequency_current_month  churn\n",
              "441        1              1        1              1      1                1             1   23                     92.614338                      1         0                   1.019297                           0.967577      1\n",
              "1627       0              1        1              1      1               12             0   29                    281.539784                     12         2                   1.746411                           1.776478      0\n",
              "2216       0              1        0              0      1                1             0   30                    177.759353                      1         2                   1.994393                           1.597329      1\n",
              "866        0              1        0              0      1                6             0   31                    260.222897                      6         3                   1.450755                           0.811941      1\n",
              "1469       1              1        0              0      1                1             1   30                    226.744335                      1         1                   1.905820                           2.047298      0"
            ]
          },
          "metadata": {},
          "output_type": "display_data"
        }
      ],
      "source": [
        "# Приведём названия столбцов к нижнему регистру\n",
        "gym_churn.columns = gym_churn.columns.str.lower()\n",
        "\n",
        "# Проверим на дубликаты и пропуски\n",
        "print('Количество дубликатов: {}\\n'.format(gym_churn.duplicated().sum()))\n",
        "print('\\nКоличество пропусков: ')\n",
        "display(gym_churn.isna().sum())\n",
        "\n",
        "# Меняем тип данных у столбца с количеством месяцев\n",
        "gym_churn['month_to_end_contract'] = gym_churn['month_to_end_contract'].astype('int')\n",
        "\n",
        "display(gym_churn.info())\n",
        "display(gym_churn.sample(5)) # Вывод произвольного семпла из таблицы"
      ]
    },
    {
      "cell_type": "markdown",
      "metadata": {
        "id": "cXnnstjtkonO"
      },
      "source": [
        "Данные приведены в порядок, можно приступать к их исследованию."
      ]
    },
    {
      "cell_type": "markdown",
      "metadata": {
        "id": "nHs5K3zhkonP"
      },
      "source": [
        "## Исследовательский анализ данных"
      ]
    },
    {
      "cell_type": "markdown",
      "metadata": {
        "id": "mJTx6GkwkonP"
      },
      "source": [
        "### Изучим средние значения и стандартные отклонения"
      ]
    },
    {
      "cell_type": "code",
      "execution_count": null,
      "metadata": {
        "id": "jgvqDL3mkonQ",
        "outputId": "60babcb0-2f1b-43e2-a4cd-353071fdac28"
      },
      "outputs": [
        {
          "data": {
            "text/html": [
              "<div>\n",
              "<style scoped>\n",
              "    .dataframe tbody tr th:only-of-type {\n",
              "        vertical-align: middle;\n",
              "    }\n",
              "\n",
              "    .dataframe tbody tr th {\n",
              "        vertical-align: top;\n",
              "    }\n",
              "\n",
              "    .dataframe thead th {\n",
              "        text-align: right;\n",
              "    }\n",
              "</style>\n",
              "<table border=\"1\" class=\"dataframe\">\n",
              "  <thead>\n",
              "    <tr style=\"text-align: right;\">\n",
              "      <th></th>\n",
              "      <th>count</th>\n",
              "      <th>mean</th>\n",
              "      <th>std</th>\n",
              "      <th>min</th>\n",
              "      <th>25%</th>\n",
              "      <th>50%</th>\n",
              "      <th>75%</th>\n",
              "      <th>max</th>\n",
              "    </tr>\n",
              "  </thead>\n",
              "  <tbody>\n",
              "    <tr>\n",
              "      <th>gender</th>\n",
              "      <td>4000.0</td>\n",
              "      <td>0.510250</td>\n",
              "      <td>0.499957</td>\n",
              "      <td>0.000000</td>\n",
              "      <td>0.000000</td>\n",
              "      <td>1.000000</td>\n",
              "      <td>1.000000</td>\n",
              "      <td>1.000000</td>\n",
              "    </tr>\n",
              "    <tr>\n",
              "      <th>near_location</th>\n",
              "      <td>4000.0</td>\n",
              "      <td>0.845250</td>\n",
              "      <td>0.361711</td>\n",
              "      <td>0.000000</td>\n",
              "      <td>1.000000</td>\n",
              "      <td>1.000000</td>\n",
              "      <td>1.000000</td>\n",
              "      <td>1.000000</td>\n",
              "    </tr>\n",
              "    <tr>\n",
              "      <th>partner</th>\n",
              "      <td>4000.0</td>\n",
              "      <td>0.486750</td>\n",
              "      <td>0.499887</td>\n",
              "      <td>0.000000</td>\n",
              "      <td>0.000000</td>\n",
              "      <td>0.000000</td>\n",
              "      <td>1.000000</td>\n",
              "      <td>1.000000</td>\n",
              "    </tr>\n",
              "    <tr>\n",
              "      <th>promo_friends</th>\n",
              "      <td>4000.0</td>\n",
              "      <td>0.308500</td>\n",
              "      <td>0.461932</td>\n",
              "      <td>0.000000</td>\n",
              "      <td>0.000000</td>\n",
              "      <td>0.000000</td>\n",
              "      <td>1.000000</td>\n",
              "      <td>1.000000</td>\n",
              "    </tr>\n",
              "    <tr>\n",
              "      <th>phone</th>\n",
              "      <td>4000.0</td>\n",
              "      <td>0.903500</td>\n",
              "      <td>0.295313</td>\n",
              "      <td>0.000000</td>\n",
              "      <td>1.000000</td>\n",
              "      <td>1.000000</td>\n",
              "      <td>1.000000</td>\n",
              "      <td>1.000000</td>\n",
              "    </tr>\n",
              "    <tr>\n",
              "      <th>contract_period</th>\n",
              "      <td>4000.0</td>\n",
              "      <td>4.681250</td>\n",
              "      <td>4.549706</td>\n",
              "      <td>1.000000</td>\n",
              "      <td>1.000000</td>\n",
              "      <td>1.000000</td>\n",
              "      <td>6.000000</td>\n",
              "      <td>12.000000</td>\n",
              "    </tr>\n",
              "    <tr>\n",
              "      <th>group_visits</th>\n",
              "      <td>4000.0</td>\n",
              "      <td>0.412250</td>\n",
              "      <td>0.492301</td>\n",
              "      <td>0.000000</td>\n",
              "      <td>0.000000</td>\n",
              "      <td>0.000000</td>\n",
              "      <td>1.000000</td>\n",
              "      <td>1.000000</td>\n",
              "    </tr>\n",
              "    <tr>\n",
              "      <th>age</th>\n",
              "      <td>4000.0</td>\n",
              "      <td>29.184250</td>\n",
              "      <td>3.258367</td>\n",
              "      <td>18.000000</td>\n",
              "      <td>27.000000</td>\n",
              "      <td>29.000000</td>\n",
              "      <td>31.000000</td>\n",
              "      <td>41.000000</td>\n",
              "    </tr>\n",
              "    <tr>\n",
              "      <th>avg_additional_charges_total</th>\n",
              "      <td>4000.0</td>\n",
              "      <td>146.943728</td>\n",
              "      <td>96.355602</td>\n",
              "      <td>0.148205</td>\n",
              "      <td>68.868830</td>\n",
              "      <td>136.220159</td>\n",
              "      <td>210.949625</td>\n",
              "      <td>552.590740</td>\n",
              "    </tr>\n",
              "    <tr>\n",
              "      <th>month_to_end_contract</th>\n",
              "      <td>4000.0</td>\n",
              "      <td>4.322750</td>\n",
              "      <td>4.191297</td>\n",
              "      <td>1.000000</td>\n",
              "      <td>1.000000</td>\n",
              "      <td>1.000000</td>\n",
              "      <td>6.000000</td>\n",
              "      <td>12.000000</td>\n",
              "    </tr>\n",
              "    <tr>\n",
              "      <th>lifetime</th>\n",
              "      <td>4000.0</td>\n",
              "      <td>3.724750</td>\n",
              "      <td>3.749267</td>\n",
              "      <td>0.000000</td>\n",
              "      <td>1.000000</td>\n",
              "      <td>3.000000</td>\n",
              "      <td>5.000000</td>\n",
              "      <td>31.000000</td>\n",
              "    </tr>\n",
              "    <tr>\n",
              "      <th>avg_class_frequency_total</th>\n",
              "      <td>4000.0</td>\n",
              "      <td>1.879020</td>\n",
              "      <td>0.972245</td>\n",
              "      <td>0.000000</td>\n",
              "      <td>1.180875</td>\n",
              "      <td>1.832768</td>\n",
              "      <td>2.536078</td>\n",
              "      <td>6.023668</td>\n",
              "    </tr>\n",
              "    <tr>\n",
              "      <th>avg_class_frequency_current_month</th>\n",
              "      <td>4000.0</td>\n",
              "      <td>1.767052</td>\n",
              "      <td>1.052906</td>\n",
              "      <td>0.000000</td>\n",
              "      <td>0.963003</td>\n",
              "      <td>1.719574</td>\n",
              "      <td>2.510336</td>\n",
              "      <td>6.146783</td>\n",
              "    </tr>\n",
              "    <tr>\n",
              "      <th>churn</th>\n",
              "      <td>4000.0</td>\n",
              "      <td>0.265250</td>\n",
              "      <td>0.441521</td>\n",
              "      <td>0.000000</td>\n",
              "      <td>0.000000</td>\n",
              "      <td>0.000000</td>\n",
              "      <td>1.000000</td>\n",
              "      <td>1.000000</td>\n",
              "    </tr>\n",
              "  </tbody>\n",
              "</table>\n",
              "</div>"
            ],
            "text/plain": [
              "                                    count        mean        std        min        25%         50%         75%         max\n",
              "gender                             4000.0    0.510250   0.499957   0.000000   0.000000    1.000000    1.000000    1.000000\n",
              "near_location                      4000.0    0.845250   0.361711   0.000000   1.000000    1.000000    1.000000    1.000000\n",
              "partner                            4000.0    0.486750   0.499887   0.000000   0.000000    0.000000    1.000000    1.000000\n",
              "promo_friends                      4000.0    0.308500   0.461932   0.000000   0.000000    0.000000    1.000000    1.000000\n",
              "phone                              4000.0    0.903500   0.295313   0.000000   1.000000    1.000000    1.000000    1.000000\n",
              "contract_period                    4000.0    4.681250   4.549706   1.000000   1.000000    1.000000    6.000000   12.000000\n",
              "group_visits                       4000.0    0.412250   0.492301   0.000000   0.000000    0.000000    1.000000    1.000000\n",
              "age                                4000.0   29.184250   3.258367  18.000000  27.000000   29.000000   31.000000   41.000000\n",
              "avg_additional_charges_total       4000.0  146.943728  96.355602   0.148205  68.868830  136.220159  210.949625  552.590740\n",
              "month_to_end_contract              4000.0    4.322750   4.191297   1.000000   1.000000    1.000000    6.000000   12.000000\n",
              "lifetime                           4000.0    3.724750   3.749267   0.000000   1.000000    3.000000    5.000000   31.000000\n",
              "avg_class_frequency_total          4000.0    1.879020   0.972245   0.000000   1.180875    1.832768    2.536078    6.023668\n",
              "avg_class_frequency_current_month  4000.0    1.767052   1.052906   0.000000   0.963003    1.719574    2.510336    6.146783\n",
              "churn                              4000.0    0.265250   0.441521   0.000000   0.000000    0.000000    1.000000    1.000000"
            ]
          },
          "metadata": {},
          "output_type": "display_data"
        }
      ],
      "source": [
        "display(gym_churn.describe().T)"
      ]
    },
    {
      "cell_type": "markdown",
      "metadata": {
        "id": "ukyFXUkRkonS"
      },
      "source": [
        "**Вывод:**\n",
        "- Распределение по полу примерно одинаково.\n",
        "- Большинство клиентов (85%) живет или работает рядом с фитнес-клубом.\n",
        "- Примерно половина клиентов являются сотрудниками партнерских организаций.\n",
        "- 30% клиентов пришли по программе \"Приведи друга\".\n",
        "- Известны мобильные номера 90% клиентов.\n",
        "- Средняя длительность абонементов клиентов - 4.6 месяцев.\n",
        "- Чуть более 40% клиентов посещают групповые занятия.\n",
        "- Средний возраст клиентов 29 лет.\n",
        "- Средние дополнительные расходы на клиента - 147.\n",
        "- Средний срок до окончания договора - 4.3 месяцев.\n",
        "- Среднее время с момента первого обращения в фитнес-центр - 3.7 месяцев.\n",
        "- Средняя частота посещений за все время - 1.87 раз в неделю.\n",
        "- Средняя частота посещений за последний месяц - 1.76 раз в неделю.\n",
        "- Доля оттока - 27%."
      ]
    },
    {
      "cell_type": "code",
      "execution_count": null,
      "metadata": {
        "id": "qUl6WndQkonT",
        "outputId": "23c87465-baf0-4bd8-ab29-e6da097c304c"
      },
      "outputs": [
        {
          "name": "stdout",
          "output_type": "stream",
          "text": [
            "Отток:\n"
          ]
        },
        {
          "data": {
            "text/html": [
              "<div>\n",
              "<style scoped>\n",
              "    .dataframe tbody tr th:only-of-type {\n",
              "        vertical-align: middle;\n",
              "    }\n",
              "\n",
              "    .dataframe tbody tr th {\n",
              "        vertical-align: top;\n",
              "    }\n",
              "\n",
              "    .dataframe thead th {\n",
              "        text-align: right;\n",
              "    }\n",
              "</style>\n",
              "<table border=\"1\" class=\"dataframe\">\n",
              "  <thead>\n",
              "    <tr style=\"text-align: right;\">\n",
              "      <th></th>\n",
              "      <th>count</th>\n",
              "      <th>mean</th>\n",
              "      <th>std</th>\n",
              "      <th>min</th>\n",
              "      <th>25%</th>\n",
              "      <th>50%</th>\n",
              "      <th>75%</th>\n",
              "      <th>max</th>\n",
              "    </tr>\n",
              "  </thead>\n",
              "  <tbody>\n",
              "    <tr>\n",
              "      <th>gender</th>\n",
              "      <td>1061.0</td>\n",
              "      <td>0.510839</td>\n",
              "      <td>0.500118</td>\n",
              "      <td>0.000000</td>\n",
              "      <td>0.000000</td>\n",
              "      <td>1.000000</td>\n",
              "      <td>1.000000</td>\n",
              "      <td>1.000000</td>\n",
              "    </tr>\n",
              "    <tr>\n",
              "      <th>near_location</th>\n",
              "      <td>1061.0</td>\n",
              "      <td>0.768143</td>\n",
              "      <td>0.422217</td>\n",
              "      <td>0.000000</td>\n",
              "      <td>1.000000</td>\n",
              "      <td>1.000000</td>\n",
              "      <td>1.000000</td>\n",
              "      <td>1.000000</td>\n",
              "    </tr>\n",
              "    <tr>\n",
              "      <th>partner</th>\n",
              "      <td>1061.0</td>\n",
              "      <td>0.355325</td>\n",
              "      <td>0.478837</td>\n",
              "      <td>0.000000</td>\n",
              "      <td>0.000000</td>\n",
              "      <td>0.000000</td>\n",
              "      <td>1.000000</td>\n",
              "      <td>1.000000</td>\n",
              "    </tr>\n",
              "    <tr>\n",
              "      <th>promo_friends</th>\n",
              "      <td>1061.0</td>\n",
              "      <td>0.183789</td>\n",
              "      <td>0.387495</td>\n",
              "      <td>0.000000</td>\n",
              "      <td>0.000000</td>\n",
              "      <td>0.000000</td>\n",
              "      <td>0.000000</td>\n",
              "      <td>1.000000</td>\n",
              "    </tr>\n",
              "    <tr>\n",
              "      <th>phone</th>\n",
              "      <td>1061.0</td>\n",
              "      <td>0.902922</td>\n",
              "      <td>0.296204</td>\n",
              "      <td>0.000000</td>\n",
              "      <td>1.000000</td>\n",
              "      <td>1.000000</td>\n",
              "      <td>1.000000</td>\n",
              "      <td>1.000000</td>\n",
              "    </tr>\n",
              "    <tr>\n",
              "      <th>contract_period</th>\n",
              "      <td>1061.0</td>\n",
              "      <td>1.728558</td>\n",
              "      <td>2.132371</td>\n",
              "      <td>1.000000</td>\n",
              "      <td>1.000000</td>\n",
              "      <td>1.000000</td>\n",
              "      <td>1.000000</td>\n",
              "      <td>12.000000</td>\n",
              "    </tr>\n",
              "    <tr>\n",
              "      <th>group_visits</th>\n",
              "      <td>1061.0</td>\n",
              "      <td>0.268615</td>\n",
              "      <td>0.443448</td>\n",
              "      <td>0.000000</td>\n",
              "      <td>0.000000</td>\n",
              "      <td>0.000000</td>\n",
              "      <td>1.000000</td>\n",
              "      <td>1.000000</td>\n",
              "    </tr>\n",
              "    <tr>\n",
              "      <th>age</th>\n",
              "      <td>1061.0</td>\n",
              "      <td>26.989632</td>\n",
              "      <td>2.895163</td>\n",
              "      <td>18.000000</td>\n",
              "      <td>25.000000</td>\n",
              "      <td>27.000000</td>\n",
              "      <td>29.000000</td>\n",
              "      <td>38.000000</td>\n",
              "    </tr>\n",
              "    <tr>\n",
              "      <th>avg_additional_charges_total</th>\n",
              "      <td>1061.0</td>\n",
              "      <td>115.082899</td>\n",
              "      <td>77.696419</td>\n",
              "      <td>0.148205</td>\n",
              "      <td>50.629127</td>\n",
              "      <td>103.814686</td>\n",
              "      <td>165.616858</td>\n",
              "      <td>425.535220</td>\n",
              "    </tr>\n",
              "    <tr>\n",
              "      <th>month_to_end_contract</th>\n",
              "      <td>1061.0</td>\n",
              "      <td>1.662582</td>\n",
              "      <td>1.964593</td>\n",
              "      <td>1.000000</td>\n",
              "      <td>1.000000</td>\n",
              "      <td>1.000000</td>\n",
              "      <td>1.000000</td>\n",
              "      <td>12.000000</td>\n",
              "    </tr>\n",
              "    <tr>\n",
              "      <th>lifetime</th>\n",
              "      <td>1061.0</td>\n",
              "      <td>0.990575</td>\n",
              "      <td>1.110799</td>\n",
              "      <td>0.000000</td>\n",
              "      <td>0.000000</td>\n",
              "      <td>1.000000</td>\n",
              "      <td>1.000000</td>\n",
              "      <td>9.000000</td>\n",
              "    </tr>\n",
              "    <tr>\n",
              "      <th>avg_class_frequency_total</th>\n",
              "      <td>1061.0</td>\n",
              "      <td>1.474995</td>\n",
              "      <td>0.694705</td>\n",
              "      <td>0.000000</td>\n",
              "      <td>1.010771</td>\n",
              "      <td>1.491187</td>\n",
              "      <td>1.956438</td>\n",
              "      <td>3.478646</td>\n",
              "    </tr>\n",
              "    <tr>\n",
              "      <th>avg_class_frequency_current_month</th>\n",
              "      <td>1061.0</td>\n",
              "      <td>1.044546</td>\n",
              "      <td>0.770237</td>\n",
              "      <td>0.000000</td>\n",
              "      <td>0.421337</td>\n",
              "      <td>0.979445</td>\n",
              "      <td>1.588576</td>\n",
              "      <td>3.540271</td>\n",
              "    </tr>\n",
              "    <tr>\n",
              "      <th>churn</th>\n",
              "      <td>1061.0</td>\n",
              "      <td>1.000000</td>\n",
              "      <td>0.000000</td>\n",
              "      <td>1.000000</td>\n",
              "      <td>1.000000</td>\n",
              "      <td>1.000000</td>\n",
              "      <td>1.000000</td>\n",
              "      <td>1.000000</td>\n",
              "    </tr>\n",
              "  </tbody>\n",
              "</table>\n",
              "</div>"
            ],
            "text/plain": [
              "                                    count        mean        std        min        25%         50%         75%         max\n",
              "gender                             1061.0    0.510839   0.500118   0.000000   0.000000    1.000000    1.000000    1.000000\n",
              "near_location                      1061.0    0.768143   0.422217   0.000000   1.000000    1.000000    1.000000    1.000000\n",
              "partner                            1061.0    0.355325   0.478837   0.000000   0.000000    0.000000    1.000000    1.000000\n",
              "promo_friends                      1061.0    0.183789   0.387495   0.000000   0.000000    0.000000    0.000000    1.000000\n",
              "phone                              1061.0    0.902922   0.296204   0.000000   1.000000    1.000000    1.000000    1.000000\n",
              "contract_period                    1061.0    1.728558   2.132371   1.000000   1.000000    1.000000    1.000000   12.000000\n",
              "group_visits                       1061.0    0.268615   0.443448   0.000000   0.000000    0.000000    1.000000    1.000000\n",
              "age                                1061.0   26.989632   2.895163  18.000000  25.000000   27.000000   29.000000   38.000000\n",
              "avg_additional_charges_total       1061.0  115.082899  77.696419   0.148205  50.629127  103.814686  165.616858  425.535220\n",
              "month_to_end_contract              1061.0    1.662582   1.964593   1.000000   1.000000    1.000000    1.000000   12.000000\n",
              "lifetime                           1061.0    0.990575   1.110799   0.000000   0.000000    1.000000    1.000000    9.000000\n",
              "avg_class_frequency_total          1061.0    1.474995   0.694705   0.000000   1.010771    1.491187    1.956438    3.478646\n",
              "avg_class_frequency_current_month  1061.0    1.044546   0.770237   0.000000   0.421337    0.979445    1.588576    3.540271\n",
              "churn                              1061.0    1.000000   0.000000   1.000000   1.000000    1.000000    1.000000    1.000000"
            ]
          },
          "metadata": {},
          "output_type": "display_data"
        },
        {
          "name": "stdout",
          "output_type": "stream",
          "text": [
            "\n",
            "Оставшиеся клиенты:\n"
          ]
        },
        {
          "data": {
            "text/html": [
              "<div>\n",
              "<style scoped>\n",
              "    .dataframe tbody tr th:only-of-type {\n",
              "        vertical-align: middle;\n",
              "    }\n",
              "\n",
              "    .dataframe tbody tr th {\n",
              "        vertical-align: top;\n",
              "    }\n",
              "\n",
              "    .dataframe thead th {\n",
              "        text-align: right;\n",
              "    }\n",
              "</style>\n",
              "<table border=\"1\" class=\"dataframe\">\n",
              "  <thead>\n",
              "    <tr style=\"text-align: right;\">\n",
              "      <th></th>\n",
              "      <th>count</th>\n",
              "      <th>mean</th>\n",
              "      <th>std</th>\n",
              "      <th>min</th>\n",
              "      <th>25%</th>\n",
              "      <th>50%</th>\n",
              "      <th>75%</th>\n",
              "      <th>max</th>\n",
              "    </tr>\n",
              "  </thead>\n",
              "  <tbody>\n",
              "    <tr>\n",
              "      <th>gender</th>\n",
              "      <td>2939.0</td>\n",
              "      <td>0.510037</td>\n",
              "      <td>0.499984</td>\n",
              "      <td>0.000000</td>\n",
              "      <td>0.000000</td>\n",
              "      <td>1.000000</td>\n",
              "      <td>1.000000</td>\n",
              "      <td>1.000000</td>\n",
              "    </tr>\n",
              "    <tr>\n",
              "      <th>near_location</th>\n",
              "      <td>2939.0</td>\n",
              "      <td>0.873086</td>\n",
              "      <td>0.332933</td>\n",
              "      <td>0.000000</td>\n",
              "      <td>1.000000</td>\n",
              "      <td>1.000000</td>\n",
              "      <td>1.000000</td>\n",
              "      <td>1.000000</td>\n",
              "    </tr>\n",
              "    <tr>\n",
              "      <th>partner</th>\n",
              "      <td>2939.0</td>\n",
              "      <td>0.534195</td>\n",
              "      <td>0.498914</td>\n",
              "      <td>0.000000</td>\n",
              "      <td>0.000000</td>\n",
              "      <td>1.000000</td>\n",
              "      <td>1.000000</td>\n",
              "      <td>1.000000</td>\n",
              "    </tr>\n",
              "    <tr>\n",
              "      <th>promo_friends</th>\n",
              "      <td>2939.0</td>\n",
              "      <td>0.353522</td>\n",
              "      <td>0.478144</td>\n",
              "      <td>0.000000</td>\n",
              "      <td>0.000000</td>\n",
              "      <td>0.000000</td>\n",
              "      <td>1.000000</td>\n",
              "      <td>1.000000</td>\n",
              "    </tr>\n",
              "    <tr>\n",
              "      <th>phone</th>\n",
              "      <td>2939.0</td>\n",
              "      <td>0.903709</td>\n",
              "      <td>0.295040</td>\n",
              "      <td>0.000000</td>\n",
              "      <td>1.000000</td>\n",
              "      <td>1.000000</td>\n",
              "      <td>1.000000</td>\n",
              "      <td>1.000000</td>\n",
              "    </tr>\n",
              "    <tr>\n",
              "      <th>contract_period</th>\n",
              "      <td>2939.0</td>\n",
              "      <td>5.747193</td>\n",
              "      <td>4.716942</td>\n",
              "      <td>1.000000</td>\n",
              "      <td>1.000000</td>\n",
              "      <td>6.000000</td>\n",
              "      <td>12.000000</td>\n",
              "      <td>12.000000</td>\n",
              "    </tr>\n",
              "    <tr>\n",
              "      <th>group_visits</th>\n",
              "      <td>2939.0</td>\n",
              "      <td>0.464103</td>\n",
              "      <td>0.498795</td>\n",
              "      <td>0.000000</td>\n",
              "      <td>0.000000</td>\n",
              "      <td>0.000000</td>\n",
              "      <td>1.000000</td>\n",
              "      <td>1.000000</td>\n",
              "    </tr>\n",
              "    <tr>\n",
              "      <th>age</th>\n",
              "      <td>2939.0</td>\n",
              "      <td>29.976523</td>\n",
              "      <td>3.009933</td>\n",
              "      <td>19.000000</td>\n",
              "      <td>28.000000</td>\n",
              "      <td>30.000000</td>\n",
              "      <td>32.000000</td>\n",
              "      <td>41.000000</td>\n",
              "    </tr>\n",
              "    <tr>\n",
              "      <th>avg_additional_charges_total</th>\n",
              "      <td>2939.0</td>\n",
              "      <td>158.445715</td>\n",
              "      <td>99.801599</td>\n",
              "      <td>0.171862</td>\n",
              "      <td>76.920993</td>\n",
              "      <td>149.881171</td>\n",
              "      <td>224.448274</td>\n",
              "      <td>552.590740</td>\n",
              "    </tr>\n",
              "    <tr>\n",
              "      <th>month_to_end_contract</th>\n",
              "      <td>2939.0</td>\n",
              "      <td>5.283089</td>\n",
              "      <td>4.363522</td>\n",
              "      <td>1.000000</td>\n",
              "      <td>1.000000</td>\n",
              "      <td>6.000000</td>\n",
              "      <td>10.000000</td>\n",
              "      <td>12.000000</td>\n",
              "    </tr>\n",
              "    <tr>\n",
              "      <th>lifetime</th>\n",
              "      <td>2939.0</td>\n",
              "      <td>4.711807</td>\n",
              "      <td>3.874780</td>\n",
              "      <td>0.000000</td>\n",
              "      <td>2.000000</td>\n",
              "      <td>4.000000</td>\n",
              "      <td>6.000000</td>\n",
              "      <td>31.000000</td>\n",
              "    </tr>\n",
              "    <tr>\n",
              "      <th>avg_class_frequency_total</th>\n",
              "      <td>2939.0</td>\n",
              "      <td>2.024876</td>\n",
              "      <td>1.016006</td>\n",
              "      <td>0.000000</td>\n",
              "      <td>1.283137</td>\n",
              "      <td>2.043252</td>\n",
              "      <td>2.732944</td>\n",
              "      <td>6.023668</td>\n",
              "    </tr>\n",
              "    <tr>\n",
              "      <th>avg_class_frequency_current_month</th>\n",
              "      <td>2939.0</td>\n",
              "      <td>2.027882</td>\n",
              "      <td>1.018994</td>\n",
              "      <td>0.000000</td>\n",
              "      <td>1.297021</td>\n",
              "      <td>2.046697</td>\n",
              "      <td>2.740648</td>\n",
              "      <td>6.146783</td>\n",
              "    </tr>\n",
              "    <tr>\n",
              "      <th>churn</th>\n",
              "      <td>2939.0</td>\n",
              "      <td>0.000000</td>\n",
              "      <td>0.000000</td>\n",
              "      <td>0.000000</td>\n",
              "      <td>0.000000</td>\n",
              "      <td>0.000000</td>\n",
              "      <td>0.000000</td>\n",
              "      <td>0.000000</td>\n",
              "    </tr>\n",
              "  </tbody>\n",
              "</table>\n",
              "</div>"
            ],
            "text/plain": [
              "                                    count        mean        std        min        25%         50%         75%         max\n",
              "gender                             2939.0    0.510037   0.499984   0.000000   0.000000    1.000000    1.000000    1.000000\n",
              "near_location                      2939.0    0.873086   0.332933   0.000000   1.000000    1.000000    1.000000    1.000000\n",
              "partner                            2939.0    0.534195   0.498914   0.000000   0.000000    1.000000    1.000000    1.000000\n",
              "promo_friends                      2939.0    0.353522   0.478144   0.000000   0.000000    0.000000    1.000000    1.000000\n",
              "phone                              2939.0    0.903709   0.295040   0.000000   1.000000    1.000000    1.000000    1.000000\n",
              "contract_period                    2939.0    5.747193   4.716942   1.000000   1.000000    6.000000   12.000000   12.000000\n",
              "group_visits                       2939.0    0.464103   0.498795   0.000000   0.000000    0.000000    1.000000    1.000000\n",
              "age                                2939.0   29.976523   3.009933  19.000000  28.000000   30.000000   32.000000   41.000000\n",
              "avg_additional_charges_total       2939.0  158.445715  99.801599   0.171862  76.920993  149.881171  224.448274  552.590740\n",
              "month_to_end_contract              2939.0    5.283089   4.363522   1.000000   1.000000    6.000000   10.000000   12.000000\n",
              "lifetime                           2939.0    4.711807   3.874780   0.000000   2.000000    4.000000    6.000000   31.000000\n",
              "avg_class_frequency_total          2939.0    2.024876   1.016006   0.000000   1.283137    2.043252    2.732944    6.023668\n",
              "avg_class_frequency_current_month  2939.0    2.027882   1.018994   0.000000   1.297021    2.046697    2.740648    6.146783\n",
              "churn                              2939.0    0.000000   0.000000   0.000000   0.000000    0.000000    0.000000    0.000000"
            ]
          },
          "metadata": {},
          "output_type": "display_data"
        }
      ],
      "source": [
        "# Посмотрим на средние значения признаков в двух группах — тех, кто ушел в отток и тех, кто остался\n",
        "\n",
        "print('Отток:')\n",
        "display(gym_churn[gym_churn['churn']==1].describe().T)\n",
        "\n",
        "print('\\nОставшиеся клиенты:')\n",
        "display(gym_churn[gym_churn['churn']==0].describe().T)"
      ]
    },
    {
      "cell_type": "markdown",
      "metadata": {
        "id": "e7fq_u42konU"
      },
      "source": [
        "**Вывод на основе отличий признаков у клиентов, попавших в отток и оставшихся:**\n",
        "\n",
        "- Распределение по полу не отличается.\n",
        "- Ближе живущие или работающие клиенты реже попадают в отток, что вполне логично.\n",
        "- Сотрудники компаний-партнеров реже перестают посещать фитнесс-клуб чем остальные клиенты.\n",
        "- Клиенты, пришедшие по акции \"Приведи друга\" в два раза реже уходят в отток.\n",
        "- Наличие мобильного номера клиента не отличается в группах.\n",
        "- Средняя длительность договора полне логично больше у оставшихся пользователей, у большей части клиентов в оттоке срок договора составляет 1 месяц (скорее это говорит о том, что чаще клиенты заключают договор на 1 месяц).\n",
        "- Оставшиеся пользователи чаще ходят на групповые занятия (хотя возможно, что в отток попали те, кто еще не успел начать ходить на них).\n",
        "- У групп есть разница в среднем возрасте клиентов.\n",
        "- Есть небольшое различие в выручке от других услуг фитнес-центра.\n",
        "- Оставшееся время до окончания срока действия договора логично больше у оставшихся клиентов.\n",
        "- У клиентов в оттоке меньше среднее количество посещений в неделю за всё время.\n",
        "- Количество посещений в предыдущий месяц в два раза ниже у клиентов в оттоке у нас наблюдается картина, в которой пол не влияет значения, это клиенты, которые чаще живут не в непосредственной близости к клубу, пришедшие не по партнерской скидочной программе, которые реже посещают групповые занятия, в среднем занимаются около месяца."
      ]
    },
    {
      "cell_type": "markdown",
      "metadata": {
        "id": "_OMJXnTxkonV"
      },
      "source": [
        "### Построим столбчатые гистограммы и распределения признаков для тех, кто ушёл (отток) и тех, кто остался (не попали в отток)"
      ]
    },
    {
      "cell_type": "code",
      "execution_count": null,
      "metadata": {
        "id": "8LASb8ZQkonV"
      },
      "outputs": [],
      "source": [
        "# Разделим выборки на клиентов, ушедших в отток (churn_clients), и клиентов, которые остались (loyal_clients)\n",
        "\n",
        "churn_clients = gym_churn.query('churn == 1')\n",
        "loyal_clients = gym_churn.query('churn == 0')"
      ]
    },
    {
      "cell_type": "code",
      "execution_count": null,
      "metadata": {
        "id": "I-_cgCsbkonW",
        "outputId": "759fb7ed-abc1-41de-cf07-4e9041ac2197"
      },
      "outputs": [
        {
          "data": {
            "image/png": "[encoded data removed]",
            "text/plain": [
              "<Figure size 1080x1080 with 8 Axes>"
            ]
          },
          "metadata": {},
          "output_type": "display_data"
        }
      ],
      "source": [
        "distplot_columns = ['avg_additional_charges_total', 'avg_class_frequency_total', \n",
        "                    'avg_class_frequency_current_month', 'lifetime', 'age', \n",
        "                    'contract_period', 'month_to_end_contract']\n",
        "\n",
        "fig, axes = plt.subplots(nrows=4, ncols=2, figsize=(15,15))\n",
        "axes_list = [item for sublist in axes for item in sublist]\n",
        "fig.tight_layout(pad=5.0)\n",
        "fig.suptitle('Распределение количественных признаков', fontsize=16)\n",
        "\n",
        "for column in distplot_columns: \n",
        "    ax = axes_list.pop(0)\n",
        "    sns.distplot(churn_clients[column],bins=10, ax=ax, kde=False, color='grey', label='churn')\n",
        "    sns.distplot(loyal_clients[column], bins=10, ax=ax, kde=False, color='pink', label='loyal')\n",
        "    ax.set_xlabel(column, fontsize=11)\n",
        "    ax.set_ylabel('Количество записей', fontsize=12)\n",
        "    plt.legend(['churn', 'loyal'])"
      ]
    },
    {
      "cell_type": "code",
      "execution_count": null,
      "metadata": {
        "id": "fXQao17hkonX",
        "outputId": "a94e4a42-61e0-43ee-d1b2-bc65d245255b"
      },
      "outputs": [
        {
          "data": {
            "image/png": "[encoded data removed]",
            "text/plain": [
              "<Figure size 936x1296 with 8 Axes>"
            ]
          },
          "metadata": {},
          "output_type": "display_data"
        }
      ],
      "source": [
        "fig, axes = plt.subplots(nrows=4, ncols=2, figsize=(13,18))\n",
        "axes_list = [item for sublist in axes for item in sublist]\n",
        "fig.tight_layout(pad=5.0)\n",
        "fig.suptitle('Распределение категориальных признаков', fontsize=16)\n",
        "\n",
        "for column in gym_churn.columns:\n",
        "    if column not in distplot_columns:\n",
        "        ax = axes_list.pop(0)\n",
        "        sns.countplot(x = gym_churn[column], hue='churn', data=gym_churn, ax=ax, color='g')\n",
        "        plt.title(column)\n",
        "        ax.set_xticks([0,1])\n",
        "        plt.legend(['churn', 'loyal'])"
      ]
    },
    {
      "cell_type": "markdown",
      "metadata": {
        "id": "a7S1YHw1konZ"
      },
      "source": [
        "<div class=\"alert alert-info\"> Разделила количественные и категориальные признаки. Исправила размещение. </div>"
      ]
    },
    {
      "cell_type": "code",
      "execution_count": null,
      "metadata": {
        "id": "86LfnbJSkona",
        "outputId": "201abae7-bf7b-4dac-8ec3-d1f780427f82"
      },
      "outputs": [
        {
          "data": {
            "image/png": "[encoded data removed]",
            "text/plain": [
              "<Figure size 1080x720 with 7 Axes>"
            ]
          },
          "metadata": {},
          "output_type": "display_data"
        }
      ],
      "source": [
        "# код ревьюера\n",
        "number_row = int(len(distplot_columns)/3)\n",
        "\n",
        "fig, ax = plt.subplots(nrows = number_row + 1, ncols=3, figsize=(15, 10))\n",
        "\n",
        "\n",
        "# вытягиваем\n",
        "ax = ax.flatten()\n",
        "\n",
        "# задаем цикл\n",
        "\n",
        "for i in range(len(distplot_columns)):\n",
        "    \n",
        "#     добавляем kde = True\n",
        "    sns.histplot(data = gym_churn, x = gym_churn[distplot_columns[i]], hue='churn', ax=ax[i], kde = True)\n",
        "\n",
        "    ax[i].set_title(f'{distplot_columns[i]}')\n",
        "    ax[i].set_xlabel('')\n",
        "\n",
        "\n",
        "# удалим 2 последних, ибо пустые  \n",
        "fig.delaxes(ax[-1])\n",
        "fig.delaxes(ax[-2])\n",
        "            \n",
        "\n",
        "\n",
        "# чтобы все надписи влезли    \n",
        "fig.tight_layout()\n",
        "fig.show()\n",
        "\n"
      ]
    },
    {
      "cell_type": "markdown",
      "metadata": {
        "id": "WFCJtPz2konb"
      },
      "source": [
        "- По **полу, близости к фитнес-центру, наличию контактного телефона** обе группы имеют схожее равномерное распределение.\n",
        "\n",
        "\n",
        "- Есть различия в распределении групп между теми, кто является **сотрудником компании-партнёра клуба** и не является. В группе лояльных клиентов число имеющих отношение к компании-партнёра сотрудников явно больше, чем среди тех, кто уходит в отток. Различия в распределении групп по посещению групповых занятий такие же, как и в распределениях по принадлежности к компании-партнёру.\n",
        "\n",
        "\n",
        "- Среди тех, кто остался, по **промо-акции \"Приведи друга\"** клиентов немного больше, но распределения схожи.\n",
        "\n",
        "\n",
        "- Распределение **длительности действующего абонемента** по оставшимся пользователям и ушедшим различается. Лояльных клиентов, приобретающих абонемент на 1 месяц больше всего, меньше их сроком на год, и наименьшее количество клиентов - на 6 месяцев. А для ушедших в отток 1 месяц - самый популярный, затем - 6 месяцев (с очень низким числом абонементов), и практически нет абонементов на 12 месяцев. Различия в распределении групп по сроку до окончания действующего абонемента такие же, как и в распределениях по длительности абонемента.\n",
        "\n",
        "\n",
        "- По **среднему возрасту** обе группы имеют нормальное распределение, но датасет лояльных клиентов немного смещён вправо, а датасет ушедших клиентов - влево.\n",
        "\n",
        "\n",
        "- Распределение **средней выручки** от других услуг фитнес-центра для обоих датасетов смещено влево с большим смещением для ушедших людей. То есть те, кто уходит, практически ничего не тратят на дополнительные услуги в фитнес-центре.\n",
        "\n",
        "\n",
        "- Распределение **времени с момента первого обращения** для обоих групп похоже на распределение Пуассона. Но для ушедших в отток клиентов оно сильно смещено влево, практически не имея значения в более высоких значениях, а для лояльных клиентов принимает более высокие значения.\n",
        "\n",
        "\n",
        "- Распределение для **средней частоты посещений в неделю за время действия абонемента** в обоих группах является нормальным. Для лояльной группы оно немного смещено влево, а для группы уходящих в отток имеется сильное смещение влево. Аналогичные различия между группами наблюдаются и для распределений средней частоты посещений в неделю за месяц."
      ]
    },
    {
      "cell_type": "markdown",
      "metadata": {
        "id": "5zrDf0gfkonc"
      },
      "source": [
        "### Построим матрицу корреляций и визуализируем её"
      ]
    },
    {
      "cell_type": "code",
      "execution_count": null,
      "metadata": {
        "id": "T9IEbqz3kond",
        "outputId": "e6af589a-1e55-4589-9a33-d39117ef507f"
      },
      "outputs": [
        {
          "data": {
            "text/html": [
              "<div>\n",
              "<style scoped>\n",
              "    .dataframe tbody tr th:only-of-type {\n",
              "        vertical-align: middle;\n",
              "    }\n",
              "\n",
              "    .dataframe tbody tr th {\n",
              "        vertical-align: top;\n",
              "    }\n",
              "\n",
              "    .dataframe thead th {\n",
              "        text-align: right;\n",
              "    }\n",
              "</style>\n",
              "<table border=\"1\" class=\"dataframe\">\n",
              "  <thead>\n",
              "    <tr style=\"text-align: right;\">\n",
              "      <th></th>\n",
              "      <th>gender</th>\n",
              "      <th>near_location</th>\n",
              "      <th>partner</th>\n",
              "      <th>promo_friends</th>\n",
              "      <th>phone</th>\n",
              "      <th>contract_period</th>\n",
              "      <th>group_visits</th>\n",
              "      <th>age</th>\n",
              "      <th>avg_additional_charges_total</th>\n",
              "      <th>month_to_end_contract</th>\n",
              "      <th>lifetime</th>\n",
              "      <th>avg_class_frequency_total</th>\n",
              "      <th>avg_class_frequency_current_month</th>\n",
              "      <th>churn</th>\n",
              "    </tr>\n",
              "  </thead>\n",
              "  <tbody>\n",
              "    <tr>\n",
              "      <th>gender</th>\n",
              "      <td>1.000000</td>\n",
              "      <td>0.006699</td>\n",
              "      <td>-0.010463</td>\n",
              "      <td>-0.005033</td>\n",
              "      <td>-0.008542</td>\n",
              "      <td>0.000502</td>\n",
              "      <td>0.017879</td>\n",
              "      <td>0.013807</td>\n",
              "      <td>-0.009334</td>\n",
              "      <td>-0.001281</td>\n",
              "      <td>0.013579</td>\n",
              "      <td>0.014620</td>\n",
              "      <td>0.009156</td>\n",
              "      <td>0.000708</td>\n",
              "    </tr>\n",
              "    <tr>\n",
              "      <th>near_location</th>\n",
              "      <td>0.006699</td>\n",
              "      <td>1.000000</td>\n",
              "      <td>-0.005119</td>\n",
              "      <td>0.210964</td>\n",
              "      <td>-0.015763</td>\n",
              "      <td>0.150233</td>\n",
              "      <td>0.154728</td>\n",
              "      <td>0.058358</td>\n",
              "      <td>0.040761</td>\n",
              "      <td>0.143961</td>\n",
              "      <td>0.070921</td>\n",
              "      <td>0.043127</td>\n",
              "      <td>0.062664</td>\n",
              "      <td>-0.128098</td>\n",
              "    </tr>\n",
              "    <tr>\n",
              "      <th>partner</th>\n",
              "      <td>-0.010463</td>\n",
              "      <td>-0.005119</td>\n",
              "      <td>1.000000</td>\n",
              "      <td>0.451960</td>\n",
              "      <td>0.009970</td>\n",
              "      <td>0.306166</td>\n",
              "      <td>0.022710</td>\n",
              "      <td>0.047480</td>\n",
              "      <td>0.022941</td>\n",
              "      <td>0.294632</td>\n",
              "      <td>0.061229</td>\n",
              "      <td>0.024938</td>\n",
              "      <td>0.045561</td>\n",
              "      <td>-0.157986</td>\n",
              "    </tr>\n",
              "    <tr>\n",
              "      <th>promo_friends</th>\n",
              "      <td>-0.005033</td>\n",
              "      <td>0.210964</td>\n",
              "      <td>0.451960</td>\n",
              "      <td>1.000000</td>\n",
              "      <td>0.001982</td>\n",
              "      <td>0.244552</td>\n",
              "      <td>0.120170</td>\n",
              "      <td>0.050113</td>\n",
              "      <td>0.036898</td>\n",
              "      <td>0.239553</td>\n",
              "      <td>0.072721</td>\n",
              "      <td>0.028063</td>\n",
              "      <td>0.053768</td>\n",
              "      <td>-0.162233</td>\n",
              "    </tr>\n",
              "    <tr>\n",
              "      <th>phone</th>\n",
              "      <td>-0.008542</td>\n",
              "      <td>-0.015763</td>\n",
              "      <td>0.009970</td>\n",
              "      <td>0.001982</td>\n",
              "      <td>1.000000</td>\n",
              "      <td>-0.006893</td>\n",
              "      <td>-0.010099</td>\n",
              "      <td>-0.011403</td>\n",
              "      <td>0.009279</td>\n",
              "      <td>-0.011196</td>\n",
              "      <td>-0.018801</td>\n",
              "      <td>0.008340</td>\n",
              "      <td>0.013375</td>\n",
              "      <td>-0.001177</td>\n",
              "    </tr>\n",
              "    <tr>\n",
              "      <th>contract_period</th>\n",
              "      <td>0.000502</td>\n",
              "      <td>0.150233</td>\n",
              "      <td>0.306166</td>\n",
              "      <td>0.244552</td>\n",
              "      <td>-0.006893</td>\n",
              "      <td>1.000000</td>\n",
              "      <td>0.169991</td>\n",
              "      <td>0.138249</td>\n",
              "      <td>0.111445</td>\n",
              "      <td>0.973064</td>\n",
              "      <td>0.170725</td>\n",
              "      <td>0.096211</td>\n",
              "      <td>0.159407</td>\n",
              "      <td>-0.389984</td>\n",
              "    </tr>\n",
              "    <tr>\n",
              "      <th>group_visits</th>\n",
              "      <td>0.017879</td>\n",
              "      <td>0.154728</td>\n",
              "      <td>0.022710</td>\n",
              "      <td>0.120170</td>\n",
              "      <td>-0.010099</td>\n",
              "      <td>0.169991</td>\n",
              "      <td>1.000000</td>\n",
              "      <td>0.080934</td>\n",
              "      <td>0.032079</td>\n",
              "      <td>0.163703</td>\n",
              "      <td>0.075853</td>\n",
              "      <td>0.056695</td>\n",
              "      <td>0.075923</td>\n",
              "      <td>-0.175325</td>\n",
              "    </tr>\n",
              "    <tr>\n",
              "      <th>age</th>\n",
              "      <td>0.013807</td>\n",
              "      <td>0.058358</td>\n",
              "      <td>0.047480</td>\n",
              "      <td>0.050113</td>\n",
              "      <td>-0.011403</td>\n",
              "      <td>0.138249</td>\n",
              "      <td>0.080934</td>\n",
              "      <td>1.000000</td>\n",
              "      <td>0.080240</td>\n",
              "      <td>0.134511</td>\n",
              "      <td>0.164693</td>\n",
              "      <td>0.119953</td>\n",
              "      <td>0.183095</td>\n",
              "      <td>-0.404735</td>\n",
              "    </tr>\n",
              "    <tr>\n",
              "      <th>avg_additional_charges_total</th>\n",
              "      <td>-0.009334</td>\n",
              "      <td>0.040761</td>\n",
              "      <td>0.022941</td>\n",
              "      <td>0.036898</td>\n",
              "      <td>0.009279</td>\n",
              "      <td>0.111445</td>\n",
              "      <td>0.032079</td>\n",
              "      <td>0.080240</td>\n",
              "      <td>1.000000</td>\n",
              "      <td>0.113958</td>\n",
              "      <td>0.079028</td>\n",
              "      <td>0.044426</td>\n",
              "      <td>0.079570</td>\n",
              "      <td>-0.198697</td>\n",
              "    </tr>\n",
              "    <tr>\n",
              "      <th>month_to_end_contract</th>\n",
              "      <td>-0.001281</td>\n",
              "      <td>0.143961</td>\n",
              "      <td>0.294632</td>\n",
              "      <td>0.239553</td>\n",
              "      <td>-0.011196</td>\n",
              "      <td>0.973064</td>\n",
              "      <td>0.163703</td>\n",
              "      <td>0.134511</td>\n",
              "      <td>0.113958</td>\n",
              "      <td>1.000000</td>\n",
              "      <td>0.161078</td>\n",
              "      <td>0.085387</td>\n",
              "      <td>0.147605</td>\n",
              "      <td>-0.381393</td>\n",
              "    </tr>\n",
              "    <tr>\n",
              "      <th>lifetime</th>\n",
              "      <td>0.013579</td>\n",
              "      <td>0.070921</td>\n",
              "      <td>0.061229</td>\n",
              "      <td>0.072721</td>\n",
              "      <td>-0.018801</td>\n",
              "      <td>0.170725</td>\n",
              "      <td>0.075853</td>\n",
              "      <td>0.164693</td>\n",
              "      <td>0.079028</td>\n",
              "      <td>0.161078</td>\n",
              "      <td>1.000000</td>\n",
              "      <td>0.112338</td>\n",
              "      <td>0.181975</td>\n",
              "      <td>-0.438220</td>\n",
              "    </tr>\n",
              "    <tr>\n",
              "      <th>avg_class_frequency_total</th>\n",
              "      <td>0.014620</td>\n",
              "      <td>0.043127</td>\n",
              "      <td>0.024938</td>\n",
              "      <td>0.028063</td>\n",
              "      <td>0.008340</td>\n",
              "      <td>0.096211</td>\n",
              "      <td>0.056695</td>\n",
              "      <td>0.119953</td>\n",
              "      <td>0.044426</td>\n",
              "      <td>0.085387</td>\n",
              "      <td>0.112338</td>\n",
              "      <td>1.000000</td>\n",
              "      <td>0.952739</td>\n",
              "      <td>-0.249715</td>\n",
              "    </tr>\n",
              "    <tr>\n",
              "      <th>avg_class_frequency_current_month</th>\n",
              "      <td>0.009156</td>\n",
              "      <td>0.062664</td>\n",
              "      <td>0.045561</td>\n",
              "      <td>0.053768</td>\n",
              "      <td>0.013375</td>\n",
              "      <td>0.159407</td>\n",
              "      <td>0.075923</td>\n",
              "      <td>0.183095</td>\n",
              "      <td>0.079570</td>\n",
              "      <td>0.147605</td>\n",
              "      <td>0.181975</td>\n",
              "      <td>0.952739</td>\n",
              "      <td>1.000000</td>\n",
              "      <td>-0.412348</td>\n",
              "    </tr>\n",
              "    <tr>\n",
              "      <th>churn</th>\n",
              "      <td>0.000708</td>\n",
              "      <td>-0.128098</td>\n",
              "      <td>-0.157986</td>\n",
              "      <td>-0.162233</td>\n",
              "      <td>-0.001177</td>\n",
              "      <td>-0.389984</td>\n",
              "      <td>-0.175325</td>\n",
              "      <td>-0.404735</td>\n",
              "      <td>-0.198697</td>\n",
              "      <td>-0.381393</td>\n",
              "      <td>-0.438220</td>\n",
              "      <td>-0.249715</td>\n",
              "      <td>-0.412348</td>\n",
              "      <td>1.000000</td>\n",
              "    </tr>\n",
              "  </tbody>\n",
              "</table>\n",
              "</div>"
            ],
            "text/plain": [
              "                                     gender  near_location   partner  promo_friends     phone  contract_period  group_visits       age  avg_additional_charges_total  month_to_end_contract  lifetime  avg_class_frequency_total  avg_class_frequency_current_month     churn\n",
              "gender                             1.000000       0.006699 -0.010463      -0.005033 -0.008542         0.000502      0.017879  0.013807                     -0.009334              -0.001281  0.013579                   0.014620                           0.009156  0.000708\n",
              "near_location                      0.006699       1.000000 -0.005119       0.210964 -0.015763         0.150233      0.154728  0.058358                      0.040761               0.143961  0.070921                   0.043127                           0.062664 -0.128098\n",
              "partner                           -0.010463      -0.005119  1.000000       0.451960  0.009970         0.306166      0.022710  0.047480                      0.022941               0.294632  0.061229                   0.024938                           0.045561 -0.157986\n",
              "promo_friends                     -0.005033       0.210964  0.451960       1.000000  0.001982         0.244552      0.120170  0.050113                      0.036898               0.239553  0.072721                   0.028063                           0.053768 -0.162233\n",
              "phone                             -0.008542      -0.015763  0.009970       0.001982  1.000000        -0.006893     -0.010099 -0.011403                      0.009279              -0.011196 -0.018801                   0.008340                           0.013375 -0.001177\n",
              "contract_period                    0.000502       0.150233  0.306166       0.244552 -0.006893         1.000000      0.169991  0.138249                      0.111445               0.973064  0.170725                   0.096211                           0.159407 -0.389984\n",
              "group_visits                       0.017879       0.154728  0.022710       0.120170 -0.010099         0.169991      1.000000  0.080934                      0.032079               0.163703  0.075853                   0.056695                           0.075923 -0.175325\n",
              "age                                0.013807       0.058358  0.047480       0.050113 -0.011403         0.138249      0.080934  1.000000                      0.080240               0.134511  0.164693                   0.119953                           0.183095 -0.404735\n",
              "avg_additional_charges_total      -0.009334       0.040761  0.022941       0.036898  0.009279         0.111445      0.032079  0.080240                      1.000000               0.113958  0.079028                   0.044426                           0.079570 -0.198697\n",
              "month_to_end_contract             -0.001281       0.143961  0.294632       0.239553 -0.011196         0.973064      0.163703  0.134511                      0.113958               1.000000  0.161078                   0.085387                           0.147605 -0.381393\n",
              "lifetime                           0.013579       0.070921  0.061229       0.072721 -0.018801         0.170725      0.075853  0.164693                      0.079028               0.161078  1.000000                   0.112338                           0.181975 -0.438220\n",
              "avg_class_frequency_total          0.014620       0.043127  0.024938       0.028063  0.008340         0.096211      0.056695  0.119953                      0.044426               0.085387  0.112338                   1.000000                           0.952739 -0.249715\n",
              "avg_class_frequency_current_month  0.009156       0.062664  0.045561       0.053768  0.013375         0.159407      0.075923  0.183095                      0.079570               0.147605  0.181975                   0.952739                           1.000000 -0.412348\n",
              "churn                              0.000708      -0.128098 -0.157986      -0.162233 -0.001177        -0.389984     -0.175325 -0.404735                     -0.198697              -0.381393 -0.438220                  -0.249715                          -0.412348  1.000000"
            ]
          },
          "metadata": {},
          "output_type": "display_data"
        }
      ],
      "source": [
        "correlation = gym_churn.corr()\n",
        "display(correlation)"
      ]
    },
    {
      "cell_type": "code",
      "execution_count": null,
      "metadata": {
        "id": "K4XOyStMkone",
        "outputId": "d4e02605-d78c-4ab3-f3e8-b8d07a121c3a"
      },
      "outputs": [
        {
          "data": {
            "image/png": "[encoded data removed]",
            "text/plain": [
              "<Figure size 864x720 with 2 Axes>"
            ]
          },
          "metadata": {},
          "output_type": "display_data"
        }
      ],
      "source": [
        "fig, ax = plt.subplots(figsize=(12,10))\n",
        "plt.title('Корреляция между основными показателями по оттоку клиентов для фитнес-центра')\n",
        "mask = np.triu(np.ones_like(correlation, dtype=np.bool))\n",
        "sns.heatmap(correlation, linewidths=.3, annot=True, mask=mask, ax=ax)\n",
        "ax.set_ylim(14, 0);"
      ]
    },
    {
      "cell_type": "markdown",
      "metadata": {
        "id": "Jv-roIjgkonf"
      },
      "source": [
        "**Выводы по корреляции:**\n",
        "\n",
        "- Такие признаки как пол и наличие контактного телефона почти не влияют на конечный показатель оттока. Все остальные показатели имеют обратное влияние: слабое, либо чуть более сильное. Явно влияющих признаков, сильно связанных с результирующим показателем, предварительный анализ не выделил.\n",
        "\n",
        "\n",
        "- Имеется сильная связь между показателями длительности абонемента и количеством месяцев до конца абонемента. Это говорит о том, что в выборке представлены клиенты, которые отобраны на определённом этапе покупки абонемента. Скорее всего, в начале действия абонемента. \n",
        "\n",
        "\n",
        "- Наблюдается сильная связь между средней частотой посщений в неделю с начала пользования услугами и за предыдущий месяц. Это говорит о другой зависимости: скорее всего, клиенты посещают фитнес-центр примерно одинаковое число раз в неделю вне зависимости от того, сколько они пользуются услугами центра.\n",
        "\n",
        "Для того, чтобы такие признаки не доминировали над остальными переменными при обучении, удалим из модели **month_to_end_contract** и **avg_class_frequency_total**:"
      ]
    },
    {
      "cell_type": "code",
      "execution_count": null,
      "metadata": {
        "id": "RMPFHF_Ukong"
      },
      "outputs": [],
      "source": [
        "gym_churn = gym_churn.drop(['month_to_end_contract', 'avg_class_frequency_total'], axis=1)"
      ]
    },
    {
      "cell_type": "markdown",
      "metadata": {
        "id": "NhPlUHrdkoni"
      },
      "source": [
        "**Вывод по исследовательскому анализу:**\n",
        "\n",
        "Явно влияющих признаков, тесно связанных с результирующим показателем, предварительный анализ не выявил."
      ]
    },
    {
      "cell_type": "markdown",
      "metadata": {
        "id": "2Qz_Pqg8konj"
      },
      "source": [
        "## Построение модели прогнозирования оттока клиентов"
      ]
    },
    {
      "cell_type": "markdown",
      "metadata": {
        "id": "FCDF8Gobkonj"
      },
      "source": [
        "### Разобьем данные на обучающую и валидационную выборку"
      ]
    },
    {
      "cell_type": "code",
      "execution_count": null,
      "metadata": {
        "id": "RgwHgAAekonk"
      },
      "outputs": [],
      "source": [
        "# Разделим данные на признаки \"матрица x\" и целевую переменную \"y\"\n",
        "x = gym_churn.drop('churn', axis = 1)\n",
        "y = gym_churn['churn']\n",
        "\n",
        "# Разделим выборку на обучающую и валидационную в соотношении 80:20\n",
        "x_train, x_test, y_train, y_test = train_test_split(x, y, test_size=0.2, random_state=0, stratify=y)\n",
        "\n",
        "# Cтандартизируем данные\n",
        "scaler = StandardScaler()\n",
        "scaler.fit(x_train)\n",
        "x_train_st = scaler.transform(x_train)\n",
        "x_test_st = scaler.transform(x_test)"
      ]
    },
    {
      "cell_type": "markdown",
      "metadata": {
        "id": "Pl7JxF93konl"
      },
      "source": [
        "Мы разделили выборку на обучащую и валидационную в соотношении 80 к 20, то есть на 80% будем обучать модель, а на 20% - проверять."
      ]
    },
    {
      "cell_type": "markdown",
      "metadata": {
        "id": "aZXO6-Lfkonl"
      },
      "source": [
        "### Обучим модель на train-выборке двумя способами: логистической регрессией и случайным лесом"
      ]
    },
    {
      "cell_type": "markdown",
      "metadata": {
        "id": "JPkLEl_Ckonl"
      },
      "source": [
        "- **Логистическая регрессия**"
      ]
    },
    {
      "cell_type": "code",
      "execution_count": null,
      "metadata": {
        "id": "jCg4yxnUkonm"
      },
      "outputs": [],
      "source": [
        "# Зададим алгоритм для модели\n",
        "logreg_model = LogisticRegression(random_state=0)\n",
        "\n",
        "# Обучим модель\n",
        "logreg_model.fit(x_train_st, y_train)\n",
        "\n",
        "# Воспользуемся обученной моделью, чтобы сделать прогнозы\n",
        "logreg_predictions = logreg_model.predict(x_test_st)\n",
        "logreg_probabilities = logreg_model.predict_proba(x_test_st)[:,1]"
      ]
    },
    {
      "cell_type": "markdown",
      "metadata": {
        "id": "zibb9pEYkonm"
      },
      "source": [
        "Построили модель и обучили её алгоритмом случайного леса."
      ]
    },
    {
      "cell_type": "markdown",
      "metadata": {
        "id": "K4ZWi8GHkonn"
      },
      "source": [
        "- **Случайный лес**"
      ]
    },
    {
      "cell_type": "code",
      "execution_count": null,
      "metadata": {
        "id": "t1diMSNmkonn"
      },
      "outputs": [],
      "source": [
        "# Зададим алгоритм для модели\n",
        "randfor_model = RandomForestClassifier(random_state=0)\n",
        "\n",
        "# Обучим модель\n",
        "randfor_model.fit(x_train_st, y_train)\n",
        "\n",
        "# Воспользуемся обученной моделью, чтобы сделать прогнозы\n",
        "randfor_predictions = randfor_model.predict(x_test_st)\n",
        "randfor_probabilities = randfor_model.predict_proba(x_test_st)[:,1]"
      ]
    },
    {
      "cell_type": "markdown",
      "metadata": {
        "id": "w19t-knQkono"
      },
      "source": [
        "Построили модель и обучили её алгоритмом случайного леса.\n",
        "\n",
        "Далее создадим функцию для расчёта метрик: accuracy (доля правильных ответов), precision (точность), recall (полнота), F1_score (агрегирующая метрика) и ROC_AUC (метрика оценки качества классификатора):"
      ]
    },
    {
      "cell_type": "code",
      "execution_count": null,
      "metadata": {
        "id": "cO9bDJSQkono"
      },
      "outputs": [],
      "source": [
        "# Определим функцию, которая будет выводить наши метрики\n",
        "def print_metrics(y_true, y_pred, y_proba, model_name):\n",
        "    print(\"Метрики для модели \" + model_name)\n",
        "    print('\\tAccuracy: {:.2f}'.format(accuracy_score(y_true, y_pred)))\n",
        "    print('\\tPrecision: {:.2f}'.format(precision_score(y_true, y_pred)))\n",
        "    print('\\tRecall: {:.2f}'.format(recall_score(y_true, y_pred)))\n",
        "    print('\\tF1: {:.2f}'.format(f1_score(y_true, y_pred)))\n",
        "    print('\\tROC_AUC: {:.2f}'.format(roc_auc_score(y_true, y_proba)))"
      ]
    },
    {
      "cell_type": "code",
      "execution_count": null,
      "metadata": {
        "id": "JBi1h9KMkonp",
        "outputId": "6be0ffb0-a365-4a5e-9261-cb42def85738"
      },
      "outputs": [
        {
          "name": "stdout",
          "output_type": "stream",
          "text": [
            "Метрики для модели логистической регрессии\n",
            "\tAccuracy: 0.92\n",
            "\tPrecision: 0.85\n",
            "\tRecall: 0.84\n",
            "\tF1: 0.84\n",
            "\tROC_AUC: 0.97\n",
            "\n",
            "Метрики для модели случайного леса\n",
            "\tAccuracy: 0.91\n",
            "\tPrecision: 0.85\n",
            "\tRecall: 0.77\n",
            "\tF1: 0.81\n",
            "\tROC_AUC: 0.96\n"
          ]
        }
      ],
      "source": [
        "# Рассчитаем метрики для модели логистической регрессии\n",
        "print_metrics(y_test, logreg_predictions, logreg_probabilities, 'логистической регрессии')\n",
        "print()\n",
        "# Рассчитаем метрики для модели случайного леса\n",
        "print_metrics(y_test, randfor_predictions, randfor_probabilities, 'случайного леса')"
      ]
    },
    {
      "cell_type": "markdown",
      "metadata": {
        "id": "5EaISD9ikonq"
      },
      "source": [
        "Обе модели достаточно хорошо способны делать прогноз. Однако, модель логистической регрессии подходит больше по всем показателям: доле правильных ответов (accuracy), точности (precision), полноте (recall), агрерующей метрике F1_score и наиболее точной метрике оценки качества классификатора ROC_AUC."
      ]
    },
    {
      "cell_type": "markdown",
      "metadata": {
        "id": "q8toepvqkonr"
      },
      "source": [
        "**Вывод по обучающим моделям:**\n",
        "\n",
        "При построении модели мы разделили выборку на обучащую и валидационную в соотношении 80 к 20, то есть на 80% данных модель была обучена, а на 20% - проверена. После этого были построены и обучены 2 модели: алгоритмом логистической регрессии и алгоритмом случайного леса.\n",
        "\n",
        "Основные метрики полученных моделей следующие. Для модели логистической регрессии: Accuracy = 0.92; Precision = 0.85; Recall = 0.84; F1 = 0.84; ROC_AUC = 0.97. Для модели случайного леса: Accuracy = 0.91; Precision = 0.85; Recall = 0.77; F1 = 0.81; ROC_AUC = 0.96. Таким образом, обе модели достаточно хорошо способны делать прогноз. Однако, модель логистической регрессии подходит больше практически по всем показателям: доле правильных ответов (accuracy), полноте (recall), агрерующей метрике F1 и наиболее точной метрике оценки качества классификатора ROC_AUC. Показатель точности (precision) у обеих моделей одинаковый."
      ]
    },
    {
      "cell_type": "markdown",
      "metadata": {
        "id": "4rnBZmcBkons"
      },
      "source": [
        "## Кластеризация клиентов"
      ]
    },
    {
      "cell_type": "markdown",
      "metadata": {
        "id": "XeQw3Gulkont"
      },
      "source": [
        "### Стандартизация данных"
      ]
    },
    {
      "cell_type": "code",
      "execution_count": null,
      "metadata": {
        "id": "OIjSmzrHkont"
      },
      "outputs": [],
      "source": [
        "# Зададим \"стандартизатор\"\n",
        "scaler = StandardScaler()\n",
        "\n",
        "# Стандартизируем данные\n",
        "x_st = scaler.fit_transform(x)"
      ]
    },
    {
      "cell_type": "markdown",
      "metadata": {
        "id": "HXSR8Wa7konu"
      },
      "source": [
        "### Построим матрицу расстояний на стандартизованной матрице признаков и нарисуем дендрограмму"
      ]
    },
    {
      "cell_type": "code",
      "execution_count": null,
      "metadata": {
        "id": "PXDPFm5Ykonu",
        "outputId": "9a6e383c-c12b-4b4e-e6b9-65d551631c87"
      },
      "outputs": [
        {
          "data": {
            "image/png": "[encoded data removed]",
            "text/plain": [
              "<Figure size 1080x720 with 1 Axes>"
            ]
          },
          "metadata": {},
          "output_type": "display_data"
        }
      ],
      "source": [
        "# Сохраним матрицу расстояний\n",
        "links = linkage(x_st, method = 'ward')\n",
        "\n",
        "# Построим дендрограмму\n",
        "plt.figure(figsize=(15, 10))\n",
        "plt.title('Кластеризация пользователей фитнес-центра')\n",
        "dendrogram(links, orientation='top')\n",
        "plt.show()"
      ]
    },
    {
      "cell_type": "markdown",
      "metadata": {
        "id": "z6twi0tLkonv"
      },
      "source": [
        "По дендрограмме можно предположить наличие четырёх кластеров в данных."
      ]
    },
    {
      "cell_type": "markdown",
      "metadata": {
        "id": "T8b5vP_Ikonw"
      },
      "source": [
        "### Обучим модель кластеризации на основании алгоритма K-Means и прогнозируем кластеры клиентов"
      ]
    },
    {
      "cell_type": "code",
      "execution_count": null,
      "metadata": {
        "id": "QFhYrHQkkonx",
        "outputId": "a7745022-5c31-47eb-aaf6-2a5ff2202636"
      },
      "outputs": [
        {
          "data": {
            "text/html": [
              "<div>\n",
              "<style scoped>\n",
              "    .dataframe tbody tr th:only-of-type {\n",
              "        vertical-align: middle;\n",
              "    }\n",
              "\n",
              "    .dataframe tbody tr th {\n",
              "        vertical-align: top;\n",
              "    }\n",
              "\n",
              "    .dataframe thead th {\n",
              "        text-align: right;\n",
              "    }\n",
              "</style>\n",
              "<table border=\"1\" class=\"dataframe\">\n",
              "  <thead>\n",
              "    <tr style=\"text-align: right;\">\n",
              "      <th></th>\n",
              "      <th>gender</th>\n",
              "      <th>near_location</th>\n",
              "      <th>partner</th>\n",
              "      <th>promo_friends</th>\n",
              "      <th>phone</th>\n",
              "      <th>contract_period</th>\n",
              "      <th>group_visits</th>\n",
              "      <th>age</th>\n",
              "      <th>avg_additional_charges_total</th>\n",
              "      <th>lifetime</th>\n",
              "      <th>avg_class_frequency_current_month</th>\n",
              "      <th>churn</th>\n",
              "    </tr>\n",
              "    <tr>\n",
              "      <th>cluster_km</th>\n",
              "      <th></th>\n",
              "      <th></th>\n",
              "      <th></th>\n",
              "      <th></th>\n",
              "      <th></th>\n",
              "      <th></th>\n",
              "      <th></th>\n",
              "      <th></th>\n",
              "      <th></th>\n",
              "      <th></th>\n",
              "      <th></th>\n",
              "      <th></th>\n",
              "    </tr>\n",
              "  </thead>\n",
              "  <tbody>\n",
              "    <tr>\n",
              "      <th>cluster_1</th>\n",
              "      <td>0.496447</td>\n",
              "      <td>0.995939</td>\n",
              "      <td>0.892386</td>\n",
              "      <td>1.000000</td>\n",
              "      <td>1.0</td>\n",
              "      <td>6.922843</td>\n",
              "      <td>0.524873</td>\n",
              "      <td>29.606091</td>\n",
              "      <td>153.424651</td>\n",
              "      <td>4.283249</td>\n",
              "      <td>1.919520</td>\n",
              "      <td>0.119797</td>\n",
              "    </tr>\n",
              "    <tr>\n",
              "      <th>cluster_2</th>\n",
              "      <td>0.500000</td>\n",
              "      <td>0.000000</td>\n",
              "      <td>0.489247</td>\n",
              "      <td>0.078853</td>\n",
              "      <td>1.0</td>\n",
              "      <td>2.994624</td>\n",
              "      <td>0.232975</td>\n",
              "      <td>28.679211</td>\n",
              "      <td>137.125763</td>\n",
              "      <td>2.974910</td>\n",
              "      <td>1.597146</td>\n",
              "      <td>0.403226</td>\n",
              "    </tr>\n",
              "    <tr>\n",
              "      <th>cluster_3</th>\n",
              "      <td>0.500940</td>\n",
              "      <td>1.000000</td>\n",
              "      <td>0.217105</td>\n",
              "      <td>0.072368</td>\n",
              "      <td>1.0</td>\n",
              "      <td>2.010338</td>\n",
              "      <td>0.277256</td>\n",
              "      <td>27.583647</td>\n",
              "      <td>119.339956</td>\n",
              "      <td>1.922932</td>\n",
              "      <td>1.203319</td>\n",
              "      <td>0.563910</td>\n",
              "    </tr>\n",
              "    <tr>\n",
              "      <th>cluster_4</th>\n",
              "      <td>0.534260</td>\n",
              "      <td>0.996028</td>\n",
              "      <td>0.379345</td>\n",
              "      <td>0.009930</td>\n",
              "      <td>1.0</td>\n",
              "      <td>6.208540</td>\n",
              "      <td>0.538232</td>\n",
              "      <td>30.699106</td>\n",
              "      <td>176.259567</td>\n",
              "      <td>5.415094</td>\n",
              "      <td>2.324220</td>\n",
              "      <td>0.014896</td>\n",
              "    </tr>\n",
              "    <tr>\n",
              "      <th>cluster_5</th>\n",
              "      <td>0.523316</td>\n",
              "      <td>0.862694</td>\n",
              "      <td>0.471503</td>\n",
              "      <td>0.305699</td>\n",
              "      <td>0.0</td>\n",
              "      <td>4.777202</td>\n",
              "      <td>0.427461</td>\n",
              "      <td>29.297927</td>\n",
              "      <td>144.208179</td>\n",
              "      <td>3.940415</td>\n",
              "      <td>1.723967</td>\n",
              "      <td>0.266839</td>\n",
              "    </tr>\n",
              "  </tbody>\n",
              "</table>\n",
              "</div>"
            ],
            "text/plain": [
              "              gender  near_location   partner  promo_friends  phone  contract_period  group_visits        age  avg_additional_charges_total  lifetime  avg_class_frequency_current_month     churn\n",
              "cluster_km                                                                                                                                                                                        \n",
              "cluster_1   0.496447       0.995939  0.892386       1.000000    1.0         6.922843      0.524873  29.606091                    153.424651  4.283249                           1.919520  0.119797\n",
              "cluster_2   0.500000       0.000000  0.489247       0.078853    1.0         2.994624      0.232975  28.679211                    137.125763  2.974910                           1.597146  0.403226\n",
              "cluster_3   0.500940       1.000000  0.217105       0.072368    1.0         2.010338      0.277256  27.583647                    119.339956  1.922932                           1.203319  0.563910\n",
              "cluster_4   0.534260       0.996028  0.379345       0.009930    1.0         6.208540      0.538232  30.699106                    176.259567  5.415094                           2.324220  0.014896\n",
              "cluster_5   0.523316       0.862694  0.471503       0.305699    0.0         4.777202      0.427461  29.297927                    144.208179  3.940415                           1.723967  0.266839"
            ]
          },
          "metadata": {},
          "output_type": "display_data"
        }
      ],
      "source": [
        "# Зададим модель k_means с числом кластеров 5\n",
        "km = KMeans(n_clusters = 5, random_state=0)\n",
        "\n",
        "# Спрогнозируем кластеры для наблюдений\n",
        "labels = km.fit_predict(x_st)\n",
        "\n",
        "# Сохраним метки кластера в поле нашего датасета\n",
        "gym_churn['cluster_km'] = labels\n",
        "\n",
        "# Переименуем названия кластеров\n",
        "gym_churn.loc[gym_churn['cluster_km']==0, 'cluster_km'] = 'cluster_1'\n",
        "gym_churn.loc[gym_churn['cluster_km']==1, 'cluster_km'] = 'cluster_2'\n",
        "gym_churn.loc[gym_churn['cluster_km']==2, 'cluster_km'] = 'cluster_3'\n",
        "gym_churn.loc[gym_churn['cluster_km']==3, 'cluster_km'] = 'cluster_4'\n",
        "gym_churn.loc[gym_churn['cluster_km']==4, 'cluster_km'] = 'cluster_5'\n",
        "\n",
        "# Выведем средние значения признаков для кластеров\n",
        "display(gym_churn.groupby('cluster_km').mean())"
      ]
    },
    {
      "cell_type": "markdown",
      "metadata": {
        "id": "Xbc2DEUlkonz"
      },
      "source": [
        "При взгляде на таблицу чётко отделяемые группы выделить можно по ряду признаков. Однако, для более наглядного разделения требуется построить распределение для каждого признака по кластерам."
      ]
    },
    {
      "cell_type": "markdown",
      "metadata": {
        "id": "uzNNNxwkkon0"
      },
      "source": [
        "### Строим распределения признаков для кластеров"
      ]
    },
    {
      "cell_type": "markdown",
      "metadata": {
        "id": "PT72-Z2jkon0"
      },
      "source": [
        "Для анализа распределения признаков в кластерах построим столбчатые диаграммы для логических и дискретных переменных (пол, близость к фитнес-центру, принадлежность к компании-партнёру, первое посещение по акции \"Приведи друга\", наличие контакта, длительность абонемента, посещение групповых занятий, отток) и боксплоты для непрерывных переменных (возраст, время с момента первого обращения, показатели средней частоты посещений в неделю за месяц, выручка от других услуг)."
      ]
    },
    {
      "cell_type": "code",
      "execution_count": null,
      "metadata": {
        "id": "2Ikv27oOkon0",
        "outputId": "76438d95-3419-4779-88e7-85b2e740b514"
      },
      "outputs": [
        {
          "data": {
            "image/png": "[encoded data removed]",
            "text/plain": [
              "<Figure size 432x288 with 1 Axes>"
            ]
          },
          "metadata": {},
          "output_type": "display_data"
        },
        {
          "data": {
            "image/png": "[encoded data removed]",
            "text/plain": [
              "<Figure size 432x288 with 1 Axes>"
            ]
          },
          "metadata": {},
          "output_type": "display_data"
        },
        {
          "data": {
            "image/png": "[encoded data removed]",
            "text/plain": [
              "<Figure size 432x288 with 1 Axes>"
            ]
          },
          "metadata": {},
          "output_type": "display_data"
        },
        {
          "data": {
            "image/png": "[encoded data removed]",
            "text/plain": [
              "<Figure size 432x288 with 1 Axes>"
            ]
          },
          "metadata": {},
          "output_type": "display_data"
        },
        {
          "data": {
            "image/png": "[encoded data removed]",
            "text/plain": [
              "<Figure size 432x288 with 1 Axes>"
            ]
          },
          "metadata": {},
          "output_type": "display_data"
        },
        {
          "data": {
            "image/png": "[encoded data removed]",
            "text/plain": [
              "<Figure size 432x288 with 1 Axes>"
            ]
          },
          "metadata": {},
          "output_type": "display_data"
        },
        {
          "data": {
            "image/png": "[encoded data removed]",
            "text/plain": [
              "<Figure size 432x288 with 1 Axes>"
            ]
          },
          "metadata": {},
          "output_type": "display_data"
        },
        {
          "data": {
            "image/png": "[encoded data removed]",
            "text/plain": [
              "<Figure size 432x288 with 1 Axes>"
            ]
          },
          "metadata": {},
          "output_type": "display_data"
        }
      ],
      "source": [
        "# Построим график для логических и дискретных величин\n",
        "\n",
        "log_discr_values = ['gender', 'near_location', 'partner', 'promo_friends', 'phone', 'contract_period', 'group_visits', 'churn']\n",
        "\n",
        "fig, ax = plt.subplots()\n",
        "for column in log_discr_values:\n",
        "    plt.title('Распределение признаков ' + column)\n",
        "    sns.countplot(data=gym_churn, x=column, hue='cluster_km')\n",
        "    plt.xlabel(column)\n",
        "    plt.ylabel('Количество')\n",
        "    plt.legend(bbox_to_anchor=(1.3, 1))\n",
        "    plt.show()"
      ]
    },
    {
      "cell_type": "code",
      "execution_count": null,
      "metadata": {
        "id": "FMPDZSIYkon1",
        "outputId": "6c8bbfab-97b9-42ee-cf80-05f83f763a80"
      },
      "outputs": [
        {
          "data": {
            "image/png": "[encoded data removed]",
            "text/plain": [
              "<Figure size 432x288 with 1 Axes>"
            ]
          },
          "metadata": {},
          "output_type": "display_data"
        },
        {
          "data": {
            "image/png": "[encoded data removed]",
            "text/plain": [
              "<Figure size 432x288 with 1 Axes>"
            ]
          },
          "metadata": {},
          "output_type": "display_data"
        },
        {
          "data": {
            "image/png": "[encoded data removed]",
            "text/plain": [
              "<Figure size 432x288 with 1 Axes>"
            ]
          },
          "metadata": {},
          "output_type": "display_data"
        },
        {
          "data": {
            "image/png": "[encoded data removed]",
            "text/plain": [
              "<Figure size 432x288 with 1 Axes>"
            ]
          },
          "metadata": {},
          "output_type": "display_data"
        }
      ],
      "source": [
        "# Построим график для непрерывных величин\n",
        "\n",
        "cont_values = ['age', 'lifetime', 'avg_class_frequency_current_month', 'avg_additional_charges_total']\n",
        "fig, ax = plt.subplots()\n",
        "for column in cont_values:\n",
        "    plt.title('Распределение признака ' + column)\n",
        "    sns.boxplot(x='cluster_km', y=column, data=gym_churn)\n",
        "    plt.xlabel('Кластер')\n",
        "    plt.ylabel('Значение' + column)\n",
        "    plt.show()"
      ]
    },
    {
      "cell_type": "markdown",
      "metadata": {
        "id": "k65SC_aqkon2"
      },
      "source": [
        "**Кластер 1 характеризуется:**\n",
        "- приблизительно равным распределением между мужчинами и женщинами;\n",
        "- клиентами, которые находятся поблизости от фитнес-центра;\n",
        "- клиентами, большинство из которых (около 80%) пришли не от компаний-партнёров;\n",
        "- клиентами, которые пришли не по промо-акции от друзей;\n",
        "- наличием контактных данных;\n",
        "- абонементом на 1, 6 и 12 месяцев со значительным преобладанием абонементов на 1 месяц;\n",
        "- клиентами, около 30% которых посещает групповые занятия;\n",
        "- средним возрастом около 27.5 лет;\n",
        "- низким уровнем дополнительных оплат;\n",
        "- коротким сроком от начала пользования услугами;\n",
        "- посещением около 1 раза в неделю.\n",
        "\n",
        "**Кластер 2 характеризуется:**\n",
        "- приблизительно равным распределением между мужчинами и женщинами;\n",
        "- клиентами, которые находятся поблизости от фитнес-центра;\n",
        "- клиентами, большинство из которых (около 90%) пришло от компаний-партнёров;\n",
        "- клиентами, большинство из которых (около 70%) пришло не по промо-акции от друзей;\n",
        "- наличием контактных данных;\n",
        "- абонементом на 1, 6 и 12 месяцев с примерно равным распределением и небольшим преобладанием 12 месяцев;\n",
        "- клиентами, около половины которых посещает групповые занятия;\n",
        "- средним возрастом около 29.5 лет;\n",
        "- высоким уровнем дополнительных оплат;\n",
        "- средним сроком от начала пользования услугами;\n",
        "- посещением около 2 раз в неделю.\n",
        "\n",
        "**Кластер 3 характеризуется:**\n",
        "- приблизительно равным распределением между мужчинами и женщинами;\n",
        "- клиентами, большинство из которых находится вблизи от фитнес-центра;\n",
        "- примерно равным числом посетителей от компаний-партнёров и обычных посетителей;\n",
        "- клиентами, большинство из которых (около 70%) пришло не по промо-акции от друзей;\n",
        "- отсутствием контактных данных;\n",
        "- абонементом на 1, 6 и 12 месяцев с примерно равным распределением и небольшим преобладанием 1 месяца;\n",
        "- клиентами, около 40% которых посещает групповые занятия;\n",
        "- средним возрастом в 29-29.5 лет;\n",
        "- средним уровнем дополнительных оплат;\n",
        "- средним сроком от начала пользования услугами;\n",
        "- посещением около 1.5-2 раз в неделю.\n",
        "\n",
        "**Кластер 4 характеризуется:**\n",
        "- приблизительно равным распределением между мужчинами и женщинами;\n",
        "- клиентами, живущими или работающими вдали от фитнес-центра;\n",
        "- примерно равным числом посетителей от компаний-партнёров и обычных посетителей;\n",
        "- клиентами, большинство из которых (около 75%) пришло не по промо-акции от друзей;\n",
        "- наличием контактных данных;\n",
        "- абонементом на 1, 6 и 12 месяцев с преобладанием 1 месяца;\n",
        "- клиентами, около 25% которых посещает групповые занятия;\n",
        "- средним возрастом около 28.5 лет;\n",
        "- средним уровнем дополнительных оплат;\n",
        "- небольшим сроком от начала пользования услугами;\n",
        "- посещением около 1.5 раз в неделю.\n",
        "\n",
        "**Кластер 5 характеризуется:**\n",
        "- чуть большим числом людей одного пола, по сравнению с другим;\n",
        "- клиентами, которые находятся вблизи от фитнес-центра;\n",
        "- клиентами, большинство из которых (около 65%) пришли не от компаний-партнёров;\n",
        "- клиентами, которые пришли не по промо-акции от друзей;\n",
        "- наличием контактных данных;\n",
        "- абонементом на 1, 6 и 12 месяцев с примерно равным распределением и чуть меньшим количеством 6 месяцев;\n",
        "- клиентами, около половины которых посещает групповые занятия;\n",
        "- средним возрастом около 30.5 лет;\n",
        "- очень высоким уровнем дополнительных оплат;\n",
        "- длительным сроком от начала пользования услугами;\n",
        "- посещением около 2-2.5 раз в неделю."
      ]
    },
    {
      "cell_type": "markdown",
      "metadata": {
        "id": "AcaAb98fkon3"
      },
      "source": [
        "### Считаем долю оттока для каждого полученного кластера"
      ]
    },
    {
      "cell_type": "code",
      "execution_count": null,
      "metadata": {
        "id": "FCZ7t0fUkon4",
        "outputId": "0a20cf77-fd9c-4cde-f0f1-cbf2d0272b2d"
      },
      "outputs": [
        {
          "data": {
            "text/html": [
              "<div>\n",
              "<style scoped>\n",
              "    .dataframe tbody tr th:only-of-type {\n",
              "        vertical-align: middle;\n",
              "    }\n",
              "\n",
              "    .dataframe tbody tr th {\n",
              "        vertical-align: top;\n",
              "    }\n",
              "\n",
              "    .dataframe thead th {\n",
              "        text-align: right;\n",
              "    }\n",
              "</style>\n",
              "<table border=\"1\" class=\"dataframe\">\n",
              "  <thead>\n",
              "    <tr style=\"text-align: right;\">\n",
              "      <th></th>\n",
              "      <th>cluster_km</th>\n",
              "      <th>churn</th>\n",
              "    </tr>\n",
              "  </thead>\n",
              "  <tbody>\n",
              "    <tr>\n",
              "      <th>0</th>\n",
              "      <td>cluster_3</td>\n",
              "      <td>0.563910</td>\n",
              "    </tr>\n",
              "    <tr>\n",
              "      <th>1</th>\n",
              "      <td>cluster_2</td>\n",
              "      <td>0.403226</td>\n",
              "    </tr>\n",
              "    <tr>\n",
              "      <th>2</th>\n",
              "      <td>cluster_5</td>\n",
              "      <td>0.266839</td>\n",
              "    </tr>\n",
              "    <tr>\n",
              "      <th>3</th>\n",
              "      <td>cluster_1</td>\n",
              "      <td>0.119797</td>\n",
              "    </tr>\n",
              "    <tr>\n",
              "      <th>4</th>\n",
              "      <td>cluster_4</td>\n",
              "      <td>0.014896</td>\n",
              "    </tr>\n",
              "  </tbody>\n",
              "</table>\n",
              "</div>"
            ],
            "text/plain": [
              "  cluster_km     churn\n",
              "0  cluster_3  0.563910\n",
              "1  cluster_2  0.403226\n",
              "2  cluster_5  0.266839\n",
              "3  cluster_1  0.119797\n",
              "4  cluster_4  0.014896"
            ]
          },
          "metadata": {},
          "output_type": "display_data"
        }
      ],
      "source": [
        "# Для каждого полученного кластера посчитаем долю оттока\n",
        "\n",
        "display((gym_churn\n",
        "     .groupby('cluster_km')['churn']\n",
        "     .mean()\n",
        "     .reset_index()\n",
        "     .sort_values(by='churn', ascending=False)\n",
        "     .reset_index(drop=True)))"
      ]
    },
    {
      "cell_type": "markdown",
      "metadata": {
        "id": "sgNOx1h4kon4"
      },
      "source": [
        "Третий кластер больше всего склонен к оттоку: доля составляет 56%. Второй кластер характеризуется долей оттока в 40%, а пятый - около 27%. Первый и четвертый кластеры (доля оттока 12% и 1.5%, соответственно) являются самыми надёжными."
      ]
    },
    {
      "cell_type": "markdown",
      "metadata": {
        "id": "gJb-pVCikon5"
      },
      "source": [
        "## Общий вывод"
      ]
    },
    {
      "cell_type": "markdown",
      "metadata": {
        "id": "o2srG97wkon5"
      },
      "source": [
        "**Анализ данных** позволил сделать следующие выводы:\n",
        "\n",
        "- Около трети клиентов фитнес-центра уходит в отток.\n",
        "- Услугами фитнес-центра пользуются в равной степени мужчины и женщины.\n",
        "- Фитнес-центр посещает больше клиентов, которые живут поблизости. При этом немного лояльнее к фитнес-центру те, кто живёт поблизости, чем те, кто живёт в отдалении.\n",
        "- В фитнес-центре в равной степени представлены клиенты, являющиеся сотрудниками компаний-партнёров, и люди, не имеющие к ним отношение. Но ушедшие в отток клиенты в большей степени не являются сотрудниками компаний-партнёров.\n",
        "- Большинство клиентов фитнес-центра не пришло по промо-акции \"Приведи друга\", но среди лояльных клиентов воспользовавшихся акцией больше, чем среди уходящих в отток.\n",
        "- Практически все клиенты фитнес-центра оставляют контакты для связи - вне зависимости от того, останутся они в фитнес-центре, или уйдут в отток.\n",
        "- Услугами фитнес-центра пользуются клиенты возрастом от 18 до 41 года (со средним возрастом около 29 лет). Причём в отток в дальнейшем уходят клиенты более молодого возраста (около 27 лет).\n",
        "- В фитнес центре есть \"новенькие\" клиенты, которые несколько месяцев пользуются услугами центра, и \"опытные\" клиенты, которые достаточно давно начали посещать фитнес-центр. При этом клиенты, проявляющие уже в первые несколько месяцев лояльность к фитнес-центру, скорее всего, не уйдут в отток в последующие месяцы.\n",
        "- Клиенты предпочитают покупать абонемент на короткий срок, но купившие более длительный абонемент с большей неохотой уйдут в отток, чем те, у кого он действует короткий срок.\n",
        "- Среди клиентов фитнес-центра больше тех, кто не интересуется групповыми занятиями (около 60%). При этом уходящие в отток клиенты практически не заинтересованы в таких занятиях.\n",
        "- В фитнес-центре есть люди, которые купили абонемент, но ни разу не посетили центр, а есть и те, кто приходит 6 раз в неделю. При этом, в среднем, большинство клиентов посещают фитнес около 1-2 раз в неделю.\n",
        "- Затраты на прочие услуги фитнес-центра очень сильно варьируются для клиентов. При этом уходящие в отток клиенты склонны экономить, а среди лояльных клиентов встречаются те, кто готов заплатить очень высокую цену.\n",
        "\n",
        "\n",
        "\n",
        "**Модели оттока прогнозирования клиентов:**\n",
        "- Модель логистической регрессии, и модель случайного леса достаточно хорошо способны делать прогноз. Однако, модель логистической регрессии подходит больше практически по всем показателям: доле правильных ответов (accuracy), полноте (recall), агрерующей метрике F1 и наиболее точной метрике оценки качества классификатора ROC_AUC. Показатель точности (precision) у обеих моделей одинаковый.\n",
        "- По дендрограмме было высказано предположение о наличии четырёх кластеров в данных. Однако, было принято решение для прогноза кластеров клиентов использовать пять кластеров в модели K-Means.\n",
        "\n",
        "\n",
        "**Анализ средних значений и распределений признаков для кластеров** показал, что выделенные кластеры имеют следующие отличительные характеристики:\n",
        "\n",
        "**Кластер 1** - это клиенты, находящиеся поблизости от фитнес-центра, большинство из которых пришло не от компаний-партнёров и не по промо-акции от друзей, с абонементом на 1, 6 и 12 месяцев (со значительным преобладанием первых), для трети из которых групповые занятия важны, с низким уровнем дополнительных оплат, являющиеся \"новыми\" клиентами, посещающие фитнес-центр около 1 раза в неделю. Для них доля оттока близка к 56% - это наиболее склонный к оттоку кластер.\n",
        "\n",
        "**Кластер 2** - это клиенты, находящиеся поблизости от фитнес-центра, большинство из которых пришло от компании-партнёров и не по промо-акции от друзей, с абонементом на 1, 6 и 12 месяцев в примерно равных пропорциях с небольшим преобладанием 12 месяцев, около половины которых посещает групповые занятия, с высоким уровнем дополнительных оплат, некоторое время являющиеся нашими клиентами, посещающие фитнес-центр около 2 раз в неделю. Для них доля оттока близка к 12% - это один из самых надёжных кластеров.\n",
        "\n",
        "**Кластер 3** - это клиенты, большинство из которых находится вблизи от фитнес-центра, пришедшие примерно в равных пропорциях от компаний-партнёров и не от них, большинство из них пришло не по промо-акции от друзей, без контактных данных, с абонементами на 1, 6 и 12 месяцев (с примерно равным распределением и небольшим преобладанием абонементов на 1 месяц), для большинства из которых (60%) групповые занятия не важны, со средним уровнем дополнительных оплат, некоторое время являющиеся нашими клиентами, посещающие фитнес-центр около 1,5-2 раз в неделю. Для них доля оттока близка к 27%.\n",
        "\n",
        "**Кластер 4** - это клиенты, живущие или работающие вдали от фитнес-центра, пришедшие примерно в равных пропорциях от компаний-партнёров и не от них, большинство из них пришло не по промо-акции от друзей, с абонементами на 1, 6 и 12 месяцев (с преобладанием абонементов на 1 месяц), для большинства из которых групповые занятия не важны, со средним уровнем дополнительных оплат, небольшим сроком от начала пользования услугами, посещающие фитнес-центр около 1.5 раз в неделю. Для них доля оттока близка к 40% - это в очень большой степени склонный к оттоку кластер.\n",
        "\n",
        "**Кластер 5** - это клиенты с небольшим преобладанием людей одного пола, по сравнению с другим, которые живут или работают возле фитнес-центра, пришедшие в большинстве своём не от компаний-партнёров и не по промо-акции от друзей, с абонементами на 1, 6 и 12 месяцев (с примерно равным распределением 1 и 12 месяцев, и чуть меньшим количеством 6 месяцев), около половины из которых посещает групповые занятия, с очень высоким уровнем дополнительных оплат, являющиеся нашими постоянными \"давними\" клиентами, посещающие фитнес-центр около 2-2.5 раз в неделю. Для них доля оттока близка к 2% - это самый надёжный кластер."
      ]
    },
    {
      "cell_type": "markdown",
      "metadata": {
        "id": "7Bewx3pTkon6"
      },
      "source": [
        "## Рекомендации"
      ]
    },
    {
      "cell_type": "markdown",
      "metadata": {
        "id": "u6nhEhafkon7"
      },
      "source": [
        "На основе представленных выводов, предложены следующие рекомендации для стратегии взаимодействия с пользователями сети фитнес-центров «Культурист-датасаентист» и их удержания:\n",
        "\n",
        "1. Рекомендуется привлечение в фитнес-центр клиентов из близлежащих спальных районах.\n",
        "\n",
        "2. Рекомендуется отменить проведение акции \"Приведи друга\" и акций для сотрудников компаний-партнёров - поскольку они не способствует \"удержанию\" клиентов, а высвободившиеся деньги направить на другие мероприятия. Например, раздача листовок в близлежащих районах.\n",
        "\n",
        "3. Возможно внедрение и реклама абонементов более длительного срока (9 и 12 месяцев) - поскольку чем дольше времени до окончания абонемента, тем лояльнее клиенты.\n",
        "\n",
        "4. Поскольку категория с длительными абонементами имеет склонность пользоваться дополнительными услугами, для них возможно введение специальных скидок и акций по дополнительным услугам.\n",
        "\n",
        "5. Рекомендуется установить более выгодные цены на длительные абонементы. То есть чем длительнее абонемент, тем ниже стоимость за 1 месяц посещения в сравнении с короткими абонементами. Это может снизить отток клиентов в первые несколько месяев.\n",
        "\n",
        "6. Рекомендуется проводить мониторинг средней частоты посещений фитнес-центра в неделю по клиентам. При обнаружении снижения показателя предлагать клиентам \"бонусы\". Например: бесплатная разовая дополнительная услуга, скидки на продление абонемента, одно бесплатное групповое занятие по новому для него направлению и т.п."
      ]
    }
  ],
  "metadata": {
    "ExecuteTimeLog": [
      {
        "duration": 1316,
        "start_time": "2022-09-22T12:18:52.673Z"
      },
      {
        "duration": 319,
        "start_time": "2022-09-22T12:20:14.518Z"
      },
      {
        "duration": 93,
        "start_time": "2022-09-22T12:21:16.531Z"
      },
      {
        "duration": 42,
        "start_time": "2022-09-22T12:21:33.615Z"
      },
      {
        "duration": 42,
        "start_time": "2022-09-22T12:21:48.746Z"
      },
      {
        "duration": 47,
        "start_time": "2022-09-22T12:22:07.421Z"
      },
      {
        "duration": 14,
        "start_time": "2022-09-22T12:24:14.390Z"
      },
      {
        "duration": 63,
        "start_time": "2022-09-22T12:25:18.189Z"
      },
      {
        "duration": 47,
        "start_time": "2022-09-22T12:26:51.261Z"
      },
      {
        "duration": 6,
        "start_time": "2022-09-22T12:26:56.073Z"
      },
      {
        "duration": 4,
        "start_time": "2022-09-22T12:27:42.365Z"
      },
      {
        "duration": 6,
        "start_time": "2022-09-22T12:28:10.929Z"
      },
      {
        "duration": 14,
        "start_time": "2022-09-22T12:28:53.224Z"
      },
      {
        "duration": 9,
        "start_time": "2022-09-22T12:29:15.326Z"
      },
      {
        "duration": 56,
        "start_time": "2022-09-22T12:37:51.663Z"
      },
      {
        "duration": 40,
        "start_time": "2022-09-22T12:37:59.355Z"
      },
      {
        "duration": 55,
        "start_time": "2022-09-22T12:38:04.027Z"
      },
      {
        "duration": 40,
        "start_time": "2022-09-22T12:38:50.634Z"
      },
      {
        "duration": 4,
        "start_time": "2022-09-22T12:39:02.063Z"
      },
      {
        "duration": 71,
        "start_time": "2022-09-22T12:39:02.070Z"
      },
      {
        "duration": 14,
        "start_time": "2022-09-22T12:39:02.143Z"
      },
      {
        "duration": 68,
        "start_time": "2022-09-22T12:39:02.160Z"
      },
      {
        "duration": 24,
        "start_time": "2022-09-22T12:39:02.229Z"
      },
      {
        "duration": 40,
        "start_time": "2022-09-22T12:39:02.254Z"
      },
      {
        "duration": 58,
        "start_time": "2022-09-22T12:39:02.295Z"
      },
      {
        "duration": 39,
        "start_time": "2022-09-22T12:40:47.831Z"
      },
      {
        "duration": 11,
        "start_time": "2022-09-22T12:41:39.575Z"
      },
      {
        "duration": 3043,
        "start_time": "2022-09-22T12:42:56.931Z"
      },
      {
        "duration": 869,
        "start_time": "2022-09-22T12:44:14.328Z"
      },
      {
        "duration": 1776,
        "start_time": "2022-09-22T14:13:36.700Z"
      },
      {
        "duration": 124,
        "start_time": "2022-09-22T14:13:38.479Z"
      },
      {
        "duration": 17,
        "start_time": "2022-09-22T14:13:38.605Z"
      },
      {
        "duration": 7,
        "start_time": "2022-09-22T14:13:38.624Z"
      },
      {
        "duration": 27,
        "start_time": "2022-09-22T14:13:38.633Z"
      },
      {
        "duration": 31,
        "start_time": "2022-09-22T14:13:38.663Z"
      },
      {
        "duration": 46,
        "start_time": "2022-09-22T14:13:38.697Z"
      },
      {
        "duration": 19,
        "start_time": "2022-09-22T14:13:38.745Z"
      },
      {
        "duration": 3702,
        "start_time": "2022-09-22T14:13:38.766Z"
      },
      {
        "duration": 1097,
        "start_time": "2022-09-22T14:13:42.471Z"
      },
      {
        "duration": 891,
        "start_time": "2022-09-22T14:15:44.602Z"
      },
      {
        "duration": 829,
        "start_time": "2022-09-22T14:16:06.915Z"
      },
      {
        "duration": 903,
        "start_time": "2022-09-22T14:16:23.328Z"
      },
      {
        "duration": 431,
        "start_time": "2022-09-22T14:16:59.271Z"
      },
      {
        "duration": 1605,
        "start_time": "2022-09-22T14:18:56.847Z"
      },
      {
        "duration": 47,
        "start_time": "2022-09-22T14:20:13.124Z"
      },
      {
        "duration": 3626,
        "start_time": "2022-09-22T14:25:12.763Z"
      },
      {
        "duration": 1032,
        "start_time": "2022-09-22T14:29:00.230Z"
      },
      {
        "duration": 10,
        "start_time": "2022-09-22T14:36:04.855Z"
      },
      {
        "duration": 195,
        "start_time": "2022-09-22T14:38:30.071Z"
      },
      {
        "duration": 98,
        "start_time": "2022-09-22T14:39:57.965Z"
      },
      {
        "duration": 137,
        "start_time": "2022-09-22T14:40:15.206Z"
      },
      {
        "duration": 64,
        "start_time": "2022-09-22T14:40:35.991Z"
      },
      {
        "duration": 385,
        "start_time": "2022-09-22T14:41:49.475Z"
      },
      {
        "duration": 1576,
        "start_time": "2022-09-22T14:50:07.835Z"
      },
      {
        "duration": 68,
        "start_time": "2022-09-22T14:50:09.413Z"
      },
      {
        "duration": 16,
        "start_time": "2022-09-22T14:50:09.483Z"
      },
      {
        "duration": 13,
        "start_time": "2022-09-22T14:50:09.501Z"
      },
      {
        "duration": 31,
        "start_time": "2022-09-22T14:50:09.517Z"
      },
      {
        "duration": 41,
        "start_time": "2022-09-22T14:50:09.550Z"
      },
      {
        "duration": 58,
        "start_time": "2022-09-22T14:50:09.592Z"
      },
      {
        "duration": 11,
        "start_time": "2022-09-22T14:50:09.652Z"
      },
      {
        "duration": 3841,
        "start_time": "2022-09-22T14:50:09.665Z"
      },
      {
        "duration": 1068,
        "start_time": "2022-09-22T14:50:13.508Z"
      },
      {
        "duration": 795,
        "start_time": "2022-09-22T14:50:14.578Z"
      },
      {
        "duration": 741,
        "start_time": "2022-09-22T14:50:15.375Z"
      },
      {
        "duration": 442,
        "start_time": "2022-09-22T14:50:16.118Z"
      },
      {
        "duration": 1718,
        "start_time": "2022-09-22T14:50:16.563Z"
      },
      {
        "duration": 12,
        "start_time": "2022-09-22T14:50:18.284Z"
      },
      {
        "duration": 65,
        "start_time": "2022-09-22T14:50:18.299Z"
      },
      {
        "duration": 198,
        "start_time": "2022-09-22T14:50:18.369Z"
      },
      {
        "duration": 532,
        "start_time": "2022-09-22T14:50:18.570Z"
      },
      {
        "duration": 625401,
        "start_time": "2022-09-22T14:50:19.104Z"
      },
      {
        "duration": 12,
        "start_time": "2022-09-22T15:00:44.508Z"
      },
      {
        "duration": 3625,
        "start_time": "2022-09-22T15:00:44.523Z"
      },
      {
        "duration": 11,
        "start_time": "2022-09-22T15:03:43.942Z"
      },
      {
        "duration": 117433,
        "start_time": "2022-09-22T15:05:13.502Z"
      },
      {
        "duration": 1627,
        "start_time": "2022-09-22T15:09:40.333Z"
      },
      {
        "duration": 6,
        "start_time": "2022-09-22T15:11:15.087Z"
      },
      {
        "duration": 13,
        "start_time": "2022-09-22T15:11:40.550Z"
      },
      {
        "duration": 8,
        "start_time": "2022-09-22T15:12:41.313Z"
      },
      {
        "duration": 17,
        "start_time": "2022-09-22T15:13:02.790Z"
      },
      {
        "duration": 1637,
        "start_time": "2022-09-22T15:14:11.743Z"
      },
      {
        "duration": 2172,
        "start_time": "2022-09-22T15:14:51.583Z"
      },
      {
        "duration": 17,
        "start_time": "2022-09-22T15:17:20.546Z"
      },
      {
        "duration": 12,
        "start_time": "2022-09-22T15:17:33.473Z"
      },
      {
        "duration": 1554,
        "start_time": "2022-09-23T10:05:48.956Z"
      },
      {
        "duration": 110,
        "start_time": "2022-09-23T10:05:50.512Z"
      },
      {
        "duration": 15,
        "start_time": "2022-09-23T10:05:50.624Z"
      },
      {
        "duration": 10,
        "start_time": "2022-09-23T10:05:50.641Z"
      },
      {
        "duration": 11,
        "start_time": "2022-09-23T10:05:50.652Z"
      },
      {
        "duration": 9,
        "start_time": "2022-09-23T10:05:50.665Z"
      },
      {
        "duration": 51,
        "start_time": "2022-09-23T10:05:50.675Z"
      },
      {
        "duration": 9,
        "start_time": "2022-09-23T10:05:50.727Z"
      },
      {
        "duration": 2726,
        "start_time": "2022-09-23T10:05:50.738Z"
      },
      {
        "duration": 836,
        "start_time": "2022-09-23T10:05:53.466Z"
      },
      {
        "duration": 800,
        "start_time": "2022-09-23T10:05:54.304Z"
      },
      {
        "duration": 691,
        "start_time": "2022-09-23T10:05:55.106Z"
      },
      {
        "duration": 370,
        "start_time": "2022-09-23T10:05:55.798Z"
      },
      {
        "duration": 1453,
        "start_time": "2022-09-23T10:05:56.170Z"
      },
      {
        "duration": 10,
        "start_time": "2022-09-23T10:05:57.625Z"
      },
      {
        "duration": 176,
        "start_time": "2022-09-23T10:05:57.636Z"
      },
      {
        "duration": 108,
        "start_time": "2022-09-23T10:05:57.815Z"
      },
      {
        "duration": 526,
        "start_time": "2022-09-23T10:05:57.926Z"
      },
      {
        "duration": 9,
        "start_time": "2022-09-23T10:05:58.454Z"
      },
      {
        "duration": 98997,
        "start_time": "2022-09-23T10:05:58.464Z"
      },
      {
        "duration": 1148,
        "start_time": "2022-09-23T10:07:37.462Z"
      },
      {
        "duration": 103,
        "start_time": "2022-09-23T10:07:38.612Z"
      },
      {
        "duration": 893,
        "start_time": "2022-09-23T10:07:38.716Z"
      },
      {
        "duration": 1610,
        "start_time": "2022-09-23T10:07:39.610Z"
      },
      {
        "duration": 9,
        "start_time": "2022-09-23T10:07:41.221Z"
      },
      {
        "duration": 122,
        "start_time": "2022-09-23T10:11:30.410Z"
      },
      {
        "duration": 15,
        "start_time": "2022-09-23T10:14:06.468Z"
      },
      {
        "duration": 14,
        "start_time": "2022-09-23T10:14:10.190Z"
      },
      {
        "duration": 422,
        "start_time": "2022-09-23T10:15:00.112Z"
      },
      {
        "duration": 4,
        "start_time": "2022-09-23T10:16:42.430Z"
      },
      {
        "duration": 18,
        "start_time": "2022-09-23T10:16:56.028Z"
      },
      {
        "duration": 5,
        "start_time": "2022-09-23T10:18:50.369Z"
      },
      {
        "duration": 4,
        "start_time": "2022-09-23T10:18:59.020Z"
      },
      {
        "duration": 15,
        "start_time": "2022-09-23T10:19:05.762Z"
      },
      {
        "duration": 59,
        "start_time": "2022-09-23T10:21:38.404Z"
      },
      {
        "duration": 7,
        "start_time": "2022-09-23T10:28:51.584Z"
      },
      {
        "duration": 96517,
        "start_time": "2022-09-23T10:29:15.971Z"
      },
      {
        "duration": 9,
        "start_time": "2022-09-23T10:37:38.847Z"
      },
      {
        "duration": 97296,
        "start_time": "2022-09-23T10:37:54.729Z"
      },
      {
        "duration": 9,
        "start_time": "2022-09-23T10:40:04.571Z"
      },
      {
        "duration": 1391,
        "start_time": "2022-09-23T10:40:15.275Z"
      },
      {
        "duration": 57,
        "start_time": "2022-09-23T10:40:16.668Z"
      },
      {
        "duration": 13,
        "start_time": "2022-09-23T10:40:16.727Z"
      },
      {
        "duration": 18,
        "start_time": "2022-09-23T10:40:16.742Z"
      },
      {
        "duration": 12,
        "start_time": "2022-09-23T10:40:16.762Z"
      },
      {
        "duration": 15,
        "start_time": "2022-09-23T10:40:16.775Z"
      },
      {
        "duration": 38,
        "start_time": "2022-09-23T10:40:16.791Z"
      },
      {
        "duration": 9,
        "start_time": "2022-09-23T10:40:16.831Z"
      },
      {
        "duration": 2604,
        "start_time": "2022-09-23T10:40:16.841Z"
      },
      {
        "duration": 798,
        "start_time": "2022-09-23T10:40:19.447Z"
      },
      {
        "duration": 661,
        "start_time": "2022-09-23T10:40:20.247Z"
      },
      {
        "duration": 702,
        "start_time": "2022-09-23T10:40:20.910Z"
      },
      {
        "duration": 354,
        "start_time": "2022-09-23T10:40:21.613Z"
      },
      {
        "duration": 1292,
        "start_time": "2022-09-23T10:40:21.969Z"
      },
      {
        "duration": 17,
        "start_time": "2022-09-23T10:40:23.263Z"
      },
      {
        "duration": 135,
        "start_time": "2022-09-23T10:40:23.282Z"
      },
      {
        "duration": 547,
        "start_time": "2022-09-23T10:40:23.419Z"
      },
      {
        "duration": 4,
        "start_time": "2022-09-23T10:40:23.967Z"
      },
      {
        "duration": 16,
        "start_time": "2022-09-23T10:40:23.973Z"
      },
      {
        "duration": 20,
        "start_time": "2022-09-23T10:40:23.991Z"
      },
      {
        "duration": 94842,
        "start_time": "2022-09-23T10:40:24.012Z"
      },
      {
        "duration": 119,
        "start_time": "2022-09-23T10:41:58.855Z"
      },
      {
        "duration": 0,
        "start_time": "2022-09-23T10:41:58.976Z"
      },
      {
        "duration": 0,
        "start_time": "2022-09-23T10:41:58.977Z"
      },
      {
        "duration": 0,
        "start_time": "2022-09-23T10:41:58.978Z"
      },
      {
        "duration": 0,
        "start_time": "2022-09-23T10:41:58.979Z"
      },
      {
        "duration": 1109,
        "start_time": "2022-09-23T10:47:50.707Z"
      },
      {
        "duration": 1214,
        "start_time": "2022-09-23T10:48:03.694Z"
      },
      {
        "duration": 1173,
        "start_time": "2022-09-23T10:48:18.045Z"
      },
      {
        "duration": 1511,
        "start_time": "2022-09-26T10:18:32.523Z"
      },
      {
        "duration": 241,
        "start_time": "2022-09-26T10:19:52.642Z"
      },
      {
        "duration": 45,
        "start_time": "2022-09-26T10:21:15.088Z"
      },
      {
        "duration": 4,
        "start_time": "2022-09-26T10:21:20.594Z"
      },
      {
        "duration": 43,
        "start_time": "2022-09-26T10:21:21.406Z"
      },
      {
        "duration": 4,
        "start_time": "2022-09-26T10:21:44.031Z"
      },
      {
        "duration": 44,
        "start_time": "2022-09-26T10:21:45.639Z"
      },
      {
        "duration": 45,
        "start_time": "2022-09-26T10:22:16.302Z"
      },
      {
        "duration": 52,
        "start_time": "2022-09-26T10:22:23.323Z"
      },
      {
        "duration": 38,
        "start_time": "2022-09-26T10:22:31.049Z"
      },
      {
        "duration": 12,
        "start_time": "2022-09-26T10:25:55.780Z"
      },
      {
        "duration": 37,
        "start_time": "2022-09-26T10:25:56.906Z"
      },
      {
        "duration": 53,
        "start_time": "2022-09-26T10:26:03.463Z"
      },
      {
        "duration": 1221,
        "start_time": "2022-09-26T10:26:36.802Z"
      },
      {
        "duration": 0,
        "start_time": "2022-09-26T10:26:38.025Z"
      },
      {
        "duration": 0,
        "start_time": "2022-09-26T10:26:38.027Z"
      },
      {
        "duration": 0,
        "start_time": "2022-09-26T10:26:38.028Z"
      },
      {
        "duration": 0,
        "start_time": "2022-09-26T10:26:38.029Z"
      },
      {
        "duration": 0,
        "start_time": "2022-09-26T10:26:38.030Z"
      },
      {
        "duration": 0,
        "start_time": "2022-09-26T10:26:38.031Z"
      },
      {
        "duration": 0,
        "start_time": "2022-09-26T10:26:38.032Z"
      },
      {
        "duration": 0,
        "start_time": "2022-09-26T10:26:38.033Z"
      },
      {
        "duration": 1,
        "start_time": "2022-09-26T10:26:38.033Z"
      },
      {
        "duration": 0,
        "start_time": "2022-09-26T10:26:38.036Z"
      },
      {
        "duration": 0,
        "start_time": "2022-09-26T10:26:38.037Z"
      },
      {
        "duration": 0,
        "start_time": "2022-09-26T10:26:38.039Z"
      },
      {
        "duration": 0,
        "start_time": "2022-09-26T10:26:38.041Z"
      },
      {
        "duration": 0,
        "start_time": "2022-09-26T10:26:38.041Z"
      },
      {
        "duration": 0,
        "start_time": "2022-09-26T10:26:38.042Z"
      },
      {
        "duration": 0,
        "start_time": "2022-09-26T10:26:38.043Z"
      },
      {
        "duration": 0,
        "start_time": "2022-09-26T10:26:38.045Z"
      },
      {
        "duration": 0,
        "start_time": "2022-09-26T10:26:38.046Z"
      },
      {
        "duration": 0,
        "start_time": "2022-09-26T10:26:38.048Z"
      },
      {
        "duration": 0,
        "start_time": "2022-09-26T10:26:38.050Z"
      },
      {
        "duration": 0,
        "start_time": "2022-09-26T10:26:38.051Z"
      },
      {
        "duration": 0,
        "start_time": "2022-09-26T10:26:38.052Z"
      },
      {
        "duration": 0,
        "start_time": "2022-09-26T10:26:38.053Z"
      },
      {
        "duration": 0,
        "start_time": "2022-09-26T10:26:38.054Z"
      },
      {
        "duration": 0,
        "start_time": "2022-09-26T10:26:38.056Z"
      },
      {
        "duration": 347,
        "start_time": "2022-09-26T10:27:00.206Z"
      },
      {
        "duration": 64,
        "start_time": "2022-09-26T10:27:02.681Z"
      },
      {
        "duration": 59,
        "start_time": "2022-09-26T10:27:28.427Z"
      },
      {
        "duration": 26,
        "start_time": "2022-09-26T10:29:59.126Z"
      },
      {
        "duration": 19,
        "start_time": "2022-09-26T10:32:56.506Z"
      },
      {
        "duration": 19,
        "start_time": "2022-09-26T10:34:33.191Z"
      },
      {
        "duration": 20,
        "start_time": "2022-09-26T10:35:50.010Z"
      },
      {
        "duration": 20,
        "start_time": "2022-09-26T10:35:58.873Z"
      },
      {
        "duration": 19,
        "start_time": "2022-09-26T10:36:09.429Z"
      },
      {
        "duration": 4,
        "start_time": "2022-09-26T10:46:34.492Z"
      },
      {
        "duration": 26,
        "start_time": "2022-09-26T10:48:59.383Z"
      },
      {
        "duration": 40,
        "start_time": "2022-09-26T10:51:31.450Z"
      },
      {
        "duration": 39,
        "start_time": "2022-09-26T10:51:45.217Z"
      },
      {
        "duration": 41,
        "start_time": "2022-09-26T10:52:15.163Z"
      },
      {
        "duration": 81,
        "start_time": "2022-09-26T10:56:19.034Z"
      },
      {
        "duration": 7,
        "start_time": "2022-09-26T11:00:05.066Z"
      },
      {
        "duration": 3499,
        "start_time": "2022-09-26T11:00:40.202Z"
      },
      {
        "duration": 25,
        "start_time": "2022-09-26T11:01:47.972Z"
      },
      {
        "duration": 20,
        "start_time": "2022-09-26T11:01:59.651Z"
      },
      {
        "duration": 1011,
        "start_time": "2022-09-26T11:02:36.800Z"
      },
      {
        "duration": 3468,
        "start_time": "2022-09-26T11:03:00.961Z"
      },
      {
        "duration": 4,
        "start_time": "2022-09-26T11:06:07.668Z"
      },
      {
        "duration": 13,
        "start_time": "2022-09-26T11:09:58.099Z"
      },
      {
        "duration": 4,
        "start_time": "2022-09-26T11:10:27.329Z"
      },
      {
        "duration": 25,
        "start_time": "2022-09-26T11:10:29.593Z"
      },
      {
        "duration": 15,
        "start_time": "2022-09-26T11:10:37.595Z"
      },
      {
        "duration": 15,
        "start_time": "2022-09-26T11:10:39.805Z"
      },
      {
        "duration": 312,
        "start_time": "2022-09-26T11:10:41.876Z"
      },
      {
        "duration": 4,
        "start_time": "2022-09-26T11:10:43.180Z"
      },
      {
        "duration": 17,
        "start_time": "2022-09-26T11:10:50.339Z"
      },
      {
        "duration": 6,
        "start_time": "2022-09-26T11:12:39.673Z"
      },
      {
        "duration": 15,
        "start_time": "2022-09-26T11:12:51.228Z"
      },
      {
        "duration": 7,
        "start_time": "2022-09-26T11:12:56.947Z"
      },
      {
        "duration": 14,
        "start_time": "2022-09-26T11:14:30.173Z"
      },
      {
        "duration": 1391,
        "start_time": "2022-09-26T11:15:25.701Z"
      },
      {
        "duration": 62,
        "start_time": "2022-09-26T11:15:27.094Z"
      },
      {
        "duration": 30,
        "start_time": "2022-09-26T11:15:27.158Z"
      },
      {
        "duration": 48,
        "start_time": "2022-09-26T11:15:27.191Z"
      },
      {
        "duration": 109,
        "start_time": "2022-09-26T11:15:27.241Z"
      },
      {
        "duration": 10,
        "start_time": "2022-09-26T11:15:27.352Z"
      },
      {
        "duration": 3812,
        "start_time": "2022-09-26T11:15:27.364Z"
      },
      {
        "duration": 28,
        "start_time": "2022-09-26T11:15:31.178Z"
      },
      {
        "duration": 928,
        "start_time": "2022-09-26T11:15:31.207Z"
      },
      {
        "duration": 3,
        "start_time": "2022-09-26T11:15:32.138Z"
      },
      {
        "duration": 42,
        "start_time": "2022-09-26T11:15:32.143Z"
      },
      {
        "duration": 32,
        "start_time": "2022-09-26T11:15:32.187Z"
      },
      {
        "duration": 413,
        "start_time": "2022-09-26T11:15:32.308Z"
      },
      {
        "duration": 4,
        "start_time": "2022-09-26T11:15:32.724Z"
      },
      {
        "duration": 46,
        "start_time": "2022-09-26T11:15:32.730Z"
      },
      {
        "duration": 23,
        "start_time": "2022-09-26T11:15:32.777Z"
      },
      {
        "duration": 102565,
        "start_time": "2022-09-26T11:15:32.801Z"
      },
      {
        "duration": 1220,
        "start_time": "2022-09-26T11:17:15.367Z"
      },
      {
        "duration": 0,
        "start_time": "2022-09-26T11:17:16.588Z"
      },
      {
        "duration": 0,
        "start_time": "2022-09-26T11:17:16.589Z"
      },
      {
        "duration": 0,
        "start_time": "2022-09-26T11:17:16.605Z"
      },
      {
        "duration": 0,
        "start_time": "2022-09-26T11:17:16.606Z"
      },
      {
        "duration": 1384,
        "start_time": "2022-09-26T11:25:59.779Z"
      },
      {
        "duration": 57,
        "start_time": "2022-09-26T11:26:01.165Z"
      },
      {
        "duration": 29,
        "start_time": "2022-09-26T11:26:01.224Z"
      },
      {
        "duration": 61,
        "start_time": "2022-09-26T11:26:01.255Z"
      },
      {
        "duration": 97,
        "start_time": "2022-09-26T11:26:01.318Z"
      },
      {
        "duration": 8,
        "start_time": "2022-09-26T11:26:01.417Z"
      },
      {
        "duration": 3402,
        "start_time": "2022-09-26T11:26:01.426Z"
      },
      {
        "duration": 21,
        "start_time": "2022-09-26T11:26:04.830Z"
      },
      {
        "duration": 931,
        "start_time": "2022-09-26T11:26:04.852Z"
      },
      {
        "duration": 4,
        "start_time": "2022-09-26T11:26:05.786Z"
      },
      {
        "duration": 18,
        "start_time": "2022-09-26T11:26:05.791Z"
      },
      {
        "duration": 13,
        "start_time": "2022-09-26T11:26:05.810Z"
      },
      {
        "duration": 405,
        "start_time": "2022-09-26T11:26:05.906Z"
      },
      {
        "duration": 3,
        "start_time": "2022-09-26T11:26:06.313Z"
      },
      {
        "duration": 22,
        "start_time": "2022-09-26T11:26:06.318Z"
      },
      {
        "duration": 7,
        "start_time": "2022-09-26T11:26:06.341Z"
      },
      {
        "duration": 103501,
        "start_time": "2022-09-26T11:26:06.350Z"
      },
      {
        "duration": 1138,
        "start_time": "2022-09-26T11:27:49.853Z"
      },
      {
        "duration": 0,
        "start_time": "2022-09-26T11:27:50.992Z"
      },
      {
        "duration": 0,
        "start_time": "2022-09-26T11:27:50.993Z"
      },
      {
        "duration": 0,
        "start_time": "2022-09-26T11:27:50.994Z"
      },
      {
        "duration": 1135,
        "start_time": "2022-09-26T11:32:30.571Z"
      },
      {
        "duration": 1282,
        "start_time": "2022-09-26T11:32:42.832Z"
      },
      {
        "duration": 57,
        "start_time": "2022-09-26T11:32:44.116Z"
      },
      {
        "duration": 25,
        "start_time": "2022-09-26T11:32:44.175Z"
      },
      {
        "duration": 38,
        "start_time": "2022-09-26T11:32:44.201Z"
      },
      {
        "duration": 91,
        "start_time": "2022-09-26T11:32:44.240Z"
      },
      {
        "duration": 6,
        "start_time": "2022-09-26T11:32:44.333Z"
      },
      {
        "duration": 3490,
        "start_time": "2022-09-26T11:32:44.341Z"
      },
      {
        "duration": 18,
        "start_time": "2022-09-26T11:32:47.833Z"
      },
      {
        "duration": 924,
        "start_time": "2022-09-26T11:32:47.852Z"
      },
      {
        "duration": 4,
        "start_time": "2022-09-26T11:32:48.778Z"
      },
      {
        "duration": 22,
        "start_time": "2022-09-26T11:32:48.783Z"
      },
      {
        "duration": 103,
        "start_time": "2022-09-26T11:32:48.806Z"
      },
      {
        "duration": 491,
        "start_time": "2022-09-26T11:32:48.911Z"
      },
      {
        "duration": 3,
        "start_time": "2022-09-26T11:32:49.404Z"
      },
      {
        "duration": 28,
        "start_time": "2022-09-26T11:32:49.408Z"
      },
      {
        "duration": 7,
        "start_time": "2022-09-26T11:32:49.437Z"
      },
      {
        "duration": 100536,
        "start_time": "2022-09-26T11:32:49.446Z"
      },
      {
        "duration": 1126,
        "start_time": "2022-09-26T11:34:29.983Z"
      },
      {
        "duration": 1275,
        "start_time": "2022-09-26T11:34:31.110Z"
      },
      {
        "duration": 910,
        "start_time": "2022-09-26T11:34:32.386Z"
      },
      {
        "duration": 14,
        "start_time": "2022-09-26T11:34:33.297Z"
      },
      {
        "duration": 11,
        "start_time": "2022-09-26T13:07:21.109Z"
      },
      {
        "duration": 609,
        "start_time": "2022-09-26T14:23:32.189Z"
      },
      {
        "duration": 4,
        "start_time": "2022-09-26T14:27:03.913Z"
      },
      {
        "duration": 1350,
        "start_time": "2022-09-26T14:27:12.992Z"
      },
      {
        "duration": 135,
        "start_time": "2022-09-26T14:27:14.344Z"
      },
      {
        "duration": 0,
        "start_time": "2022-09-26T14:27:14.480Z"
      },
      {
        "duration": 0,
        "start_time": "2022-09-26T14:27:14.481Z"
      },
      {
        "duration": 0,
        "start_time": "2022-09-26T14:27:14.483Z"
      },
      {
        "duration": 0,
        "start_time": "2022-09-26T14:27:14.483Z"
      },
      {
        "duration": 0,
        "start_time": "2022-09-26T14:27:14.484Z"
      },
      {
        "duration": 0,
        "start_time": "2022-09-26T14:27:14.485Z"
      },
      {
        "duration": 0,
        "start_time": "2022-09-26T14:27:14.486Z"
      },
      {
        "duration": 0,
        "start_time": "2022-09-26T14:27:14.487Z"
      },
      {
        "duration": 0,
        "start_time": "2022-09-26T14:27:14.487Z"
      },
      {
        "duration": 0,
        "start_time": "2022-09-26T14:27:14.488Z"
      },
      {
        "duration": 0,
        "start_time": "2022-09-26T14:27:14.489Z"
      },
      {
        "duration": 0,
        "start_time": "2022-09-26T14:27:14.490Z"
      },
      {
        "duration": 0,
        "start_time": "2022-09-26T14:27:14.491Z"
      },
      {
        "duration": 0,
        "start_time": "2022-09-26T14:27:14.492Z"
      },
      {
        "duration": 0,
        "start_time": "2022-09-26T14:27:14.493Z"
      },
      {
        "duration": 0,
        "start_time": "2022-09-26T14:27:14.505Z"
      },
      {
        "duration": 0,
        "start_time": "2022-09-26T14:27:14.506Z"
      },
      {
        "duration": 0,
        "start_time": "2022-09-26T14:27:14.507Z"
      },
      {
        "duration": 0,
        "start_time": "2022-09-26T14:27:14.507Z"
      },
      {
        "duration": 5,
        "start_time": "2022-09-26T14:31:25.952Z"
      },
      {
        "duration": 45,
        "start_time": "2022-09-26T14:31:26.967Z"
      },
      {
        "duration": 4,
        "start_time": "2022-09-26T14:34:33.550Z"
      },
      {
        "duration": 44,
        "start_time": "2022-09-26T14:34:34.385Z"
      },
      {
        "duration": 5,
        "start_time": "2022-09-26T14:35:21.559Z"
      },
      {
        "duration": 46,
        "start_time": "2022-09-26T14:35:22.716Z"
      },
      {
        "duration": 1645,
        "start_time": "2022-09-26T14:35:37.603Z"
      },
      {
        "duration": 134,
        "start_time": "2022-09-26T14:35:39.250Z"
      },
      {
        "duration": 0,
        "start_time": "2022-09-26T14:35:39.386Z"
      },
      {
        "duration": 0,
        "start_time": "2022-09-26T14:35:39.388Z"
      },
      {
        "duration": 0,
        "start_time": "2022-09-26T14:35:39.389Z"
      },
      {
        "duration": 0,
        "start_time": "2022-09-26T14:35:39.390Z"
      },
      {
        "duration": 0,
        "start_time": "2022-09-26T14:35:39.391Z"
      },
      {
        "duration": 0,
        "start_time": "2022-09-26T14:35:39.392Z"
      },
      {
        "duration": 0,
        "start_time": "2022-09-26T14:35:39.393Z"
      },
      {
        "duration": 10,
        "start_time": "2022-09-26T14:35:39.394Z"
      },
      {
        "duration": 0,
        "start_time": "2022-09-26T14:35:39.405Z"
      },
      {
        "duration": 0,
        "start_time": "2022-09-26T14:35:39.406Z"
      },
      {
        "duration": 0,
        "start_time": "2022-09-26T14:35:39.407Z"
      },
      {
        "duration": 0,
        "start_time": "2022-09-26T14:35:39.408Z"
      },
      {
        "duration": 0,
        "start_time": "2022-09-26T14:35:39.408Z"
      },
      {
        "duration": 0,
        "start_time": "2022-09-26T14:35:39.409Z"
      },
      {
        "duration": 0,
        "start_time": "2022-09-26T14:35:39.410Z"
      },
      {
        "duration": 0,
        "start_time": "2022-09-26T14:35:39.411Z"
      },
      {
        "duration": 0,
        "start_time": "2022-09-26T14:35:39.412Z"
      },
      {
        "duration": 0,
        "start_time": "2022-09-26T14:35:39.413Z"
      },
      {
        "duration": 0,
        "start_time": "2022-09-26T14:35:39.414Z"
      },
      {
        "duration": 4,
        "start_time": "2022-09-26T14:36:26.607Z"
      },
      {
        "duration": 55,
        "start_time": "2022-09-26T14:36:27.340Z"
      },
      {
        "duration": 11,
        "start_time": "2022-09-26T14:36:49.465Z"
      },
      {
        "duration": 50,
        "start_time": "2022-09-26T14:36:50.206Z"
      },
      {
        "duration": 1083,
        "start_time": "2022-09-26T14:37:05.730Z"
      },
      {
        "duration": 0,
        "start_time": "2022-09-26T14:37:06.815Z"
      },
      {
        "duration": 0,
        "start_time": "2022-09-26T14:37:06.816Z"
      },
      {
        "duration": 0,
        "start_time": "2022-09-26T14:37:06.817Z"
      },
      {
        "duration": 0,
        "start_time": "2022-09-26T14:37:06.818Z"
      },
      {
        "duration": 0,
        "start_time": "2022-09-26T14:37:06.819Z"
      },
      {
        "duration": 0,
        "start_time": "2022-09-26T14:37:06.820Z"
      },
      {
        "duration": 0,
        "start_time": "2022-09-26T14:37:06.821Z"
      },
      {
        "duration": 0,
        "start_time": "2022-09-26T14:37:06.821Z"
      },
      {
        "duration": 0,
        "start_time": "2022-09-26T14:37:06.822Z"
      },
      {
        "duration": 0,
        "start_time": "2022-09-26T14:37:06.823Z"
      },
      {
        "duration": 0,
        "start_time": "2022-09-26T14:37:06.824Z"
      },
      {
        "duration": 0,
        "start_time": "2022-09-26T14:37:06.825Z"
      },
      {
        "duration": 0,
        "start_time": "2022-09-26T14:37:06.827Z"
      },
      {
        "duration": 0,
        "start_time": "2022-09-26T14:37:06.828Z"
      },
      {
        "duration": 0,
        "start_time": "2022-09-26T14:37:06.829Z"
      },
      {
        "duration": 0,
        "start_time": "2022-09-26T14:37:06.830Z"
      },
      {
        "duration": 0,
        "start_time": "2022-09-26T14:37:06.831Z"
      },
      {
        "duration": 0,
        "start_time": "2022-09-26T14:37:06.832Z"
      },
      {
        "duration": 0,
        "start_time": "2022-09-26T14:37:06.833Z"
      },
      {
        "duration": 0,
        "start_time": "2022-09-26T14:37:06.833Z"
      },
      {
        "duration": 327,
        "start_time": "2022-09-26T14:37:19.049Z"
      },
      {
        "duration": 62,
        "start_time": "2022-09-26T14:37:20.488Z"
      },
      {
        "duration": 5,
        "start_time": "2022-09-26T14:38:18.891Z"
      },
      {
        "duration": 1489,
        "start_time": "2022-09-26T14:38:28.852Z"
      },
      {
        "duration": 63,
        "start_time": "2022-09-26T14:38:30.344Z"
      },
      {
        "duration": 36,
        "start_time": "2022-09-26T14:38:30.409Z"
      },
      {
        "duration": 63,
        "start_time": "2022-09-26T14:38:30.447Z"
      },
      {
        "duration": 77,
        "start_time": "2022-09-26T14:38:30.512Z"
      },
      {
        "duration": 19,
        "start_time": "2022-09-26T14:38:30.591Z"
      },
      {
        "duration": 3855,
        "start_time": "2022-09-26T14:38:30.613Z"
      },
      {
        "duration": 21,
        "start_time": "2022-09-26T14:38:34.469Z"
      },
      {
        "duration": 1047,
        "start_time": "2022-09-26T14:38:34.492Z"
      },
      {
        "duration": 4,
        "start_time": "2022-09-26T14:38:35.543Z"
      },
      {
        "duration": 27,
        "start_time": "2022-09-26T14:38:35.549Z"
      },
      {
        "duration": 443,
        "start_time": "2022-09-26T14:38:35.578Z"
      },
      {
        "duration": 519,
        "start_time": "2022-09-26T14:38:36.023Z"
      },
      {
        "duration": 4,
        "start_time": "2022-09-26T14:38:36.544Z"
      },
      {
        "duration": 20,
        "start_time": "2022-09-26T14:38:36.549Z"
      },
      {
        "duration": 7,
        "start_time": "2022-09-26T14:38:36.570Z"
      },
      {
        "duration": 106405,
        "start_time": "2022-09-26T14:38:36.578Z"
      },
      {
        "duration": 923,
        "start_time": "2022-09-26T14:40:22.984Z"
      },
      {
        "duration": 1329,
        "start_time": "2022-09-26T14:40:23.909Z"
      },
      {
        "duration": 965,
        "start_time": "2022-09-26T14:40:25.240Z"
      },
      {
        "duration": 13,
        "start_time": "2022-09-26T14:40:26.207Z"
      },
      {
        "duration": 721,
        "start_time": "2022-09-26T14:48:57.056Z"
      },
      {
        "duration": 1425,
        "start_time": "2022-09-26T14:49:35.740Z"
      },
      {
        "duration": 664,
        "start_time": "2022-09-26T14:50:08.038Z"
      },
      {
        "duration": 1484,
        "start_time": "2022-09-26T14:50:15.503Z"
      },
      {
        "duration": 699,
        "start_time": "2022-09-26T14:50:19.611Z"
      },
      {
        "duration": 4384,
        "start_time": "2022-09-26T14:54:03.106Z"
      },
      {
        "duration": 1445,
        "start_time": "2022-09-26T15:36:49.116Z"
      },
      {
        "duration": 69,
        "start_time": "2022-09-26T15:36:50.563Z"
      },
      {
        "duration": 27,
        "start_time": "2022-09-26T15:36:50.633Z"
      },
      {
        "duration": 51,
        "start_time": "2022-09-26T15:36:50.661Z"
      },
      {
        "duration": 73,
        "start_time": "2022-09-26T15:36:50.714Z"
      },
      {
        "duration": 29,
        "start_time": "2022-09-26T15:36:50.788Z"
      },
      {
        "duration": 3475,
        "start_time": "2022-09-26T15:36:50.819Z"
      },
      {
        "duration": 22,
        "start_time": "2022-09-26T15:36:54.296Z"
      },
      {
        "duration": 927,
        "start_time": "2022-09-26T15:36:54.320Z"
      },
      {
        "duration": 4,
        "start_time": "2022-09-26T15:36:55.250Z"
      },
      {
        "duration": 14,
        "start_time": "2022-09-26T15:36:55.255Z"
      },
      {
        "duration": 46,
        "start_time": "2022-09-26T15:36:55.271Z"
      },
      {
        "duration": 420,
        "start_time": "2022-09-26T15:36:55.406Z"
      },
      {
        "duration": 4,
        "start_time": "2022-09-26T15:36:55.828Z"
      },
      {
        "duration": 25,
        "start_time": "2022-09-26T15:36:55.833Z"
      },
      {
        "duration": 6,
        "start_time": "2022-09-26T15:36:55.860Z"
      },
      {
        "duration": 102824,
        "start_time": "2022-09-26T15:36:55.868Z"
      },
      {
        "duration": 1121,
        "start_time": "2022-09-26T15:38:38.693Z"
      },
      {
        "duration": 1294,
        "start_time": "2022-09-26T15:38:39.817Z"
      },
      {
        "duration": 923,
        "start_time": "2022-09-26T15:38:41.113Z"
      },
      {
        "duration": 10,
        "start_time": "2022-09-26T15:38:42.037Z"
      },
      {
        "duration": 1791,
        "start_time": "2022-09-26T16:57:42.703Z"
      },
      {
        "duration": 67,
        "start_time": "2022-09-26T16:57:44.497Z"
      },
      {
        "duration": 34,
        "start_time": "2022-09-26T16:57:44.566Z"
      },
      {
        "duration": 74,
        "start_time": "2022-09-26T16:57:44.602Z"
      },
      {
        "duration": 104,
        "start_time": "2022-09-26T16:57:44.677Z"
      },
      {
        "duration": 9,
        "start_time": "2022-09-26T16:57:44.783Z"
      },
      {
        "duration": 4114,
        "start_time": "2022-09-26T16:57:44.794Z"
      },
      {
        "duration": 27,
        "start_time": "2022-09-26T16:57:48.910Z"
      },
      {
        "duration": 1150,
        "start_time": "2022-09-26T16:57:48.939Z"
      },
      {
        "duration": 6,
        "start_time": "2022-09-26T16:57:50.094Z"
      },
      {
        "duration": 19,
        "start_time": "2022-09-26T16:57:50.102Z"
      },
      {
        "duration": 25,
        "start_time": "2022-09-26T16:57:50.123Z"
      },
      {
        "duration": 576,
        "start_time": "2022-09-26T16:57:50.150Z"
      },
      {
        "duration": 6,
        "start_time": "2022-09-26T16:57:50.728Z"
      },
      {
        "duration": 31,
        "start_time": "2022-09-26T16:57:50.735Z"
      },
      {
        "duration": 10,
        "start_time": "2022-09-26T16:57:50.769Z"
      },
      {
        "duration": 117958,
        "start_time": "2022-09-26T16:57:50.781Z"
      },
      {
        "duration": 1601,
        "start_time": "2022-09-26T16:59:48.741Z"
      },
      {
        "duration": 1443,
        "start_time": "2022-09-26T16:59:50.344Z"
      },
      {
        "duration": 1053,
        "start_time": "2022-09-26T16:59:51.789Z"
      },
      {
        "duration": 12,
        "start_time": "2022-09-26T16:59:52.844Z"
      },
      {
        "duration": 1520,
        "start_time": "2022-09-28T18:51:23.403Z"
      },
      {
        "duration": 103,
        "start_time": "2022-09-28T18:51:24.925Z"
      },
      {
        "duration": 29,
        "start_time": "2022-09-28T18:51:25.030Z"
      },
      {
        "duration": 46,
        "start_time": "2022-09-28T18:51:25.060Z"
      },
      {
        "duration": 101,
        "start_time": "2022-09-28T18:51:25.107Z"
      },
      {
        "duration": 9,
        "start_time": "2022-09-28T18:51:25.210Z"
      },
      {
        "duration": 3820,
        "start_time": "2022-09-28T18:51:25.221Z"
      },
      {
        "duration": 23,
        "start_time": "2022-09-28T18:51:29.043Z"
      },
      {
        "duration": 1060,
        "start_time": "2022-09-28T18:51:29.077Z"
      },
      {
        "duration": 5,
        "start_time": "2022-09-28T18:51:30.140Z"
      },
      {
        "duration": 51,
        "start_time": "2022-09-28T18:51:30.146Z"
      },
      {
        "duration": 190,
        "start_time": "2022-09-28T18:51:30.198Z"
      },
      {
        "duration": 541,
        "start_time": "2022-09-28T18:51:30.391Z"
      },
      {
        "duration": 4,
        "start_time": "2022-09-28T18:51:30.933Z"
      },
      {
        "duration": 39,
        "start_time": "2022-09-28T18:51:30.939Z"
      },
      {
        "duration": 34,
        "start_time": "2022-09-28T18:51:30.980Z"
      },
      {
        "duration": 110596,
        "start_time": "2022-09-28T18:51:31.016Z"
      },
      {
        "duration": 1276,
        "start_time": "2022-09-28T18:53:21.614Z"
      },
      {
        "duration": 1341,
        "start_time": "2022-09-28T18:53:22.892Z"
      },
      {
        "duration": 975,
        "start_time": "2022-09-28T18:53:24.235Z"
      },
      {
        "duration": 15,
        "start_time": "2022-09-28T18:53:25.212Z"
      },
      {
        "duration": 5128,
        "start_time": "2022-09-28T19:28:54.926Z"
      },
      {
        "duration": 4326,
        "start_time": "2022-09-28T19:30:13.273Z"
      },
      {
        "duration": 1233,
        "start_time": "2022-09-28T19:30:48.084Z"
      },
      {
        "duration": 5,
        "start_time": "2022-09-28T19:30:53.567Z"
      },
      {
        "duration": 69,
        "start_time": "2022-09-28T19:30:53.574Z"
      },
      {
        "duration": 39,
        "start_time": "2022-09-28T19:30:53.645Z"
      },
      {
        "duration": 41,
        "start_time": "2022-09-28T19:30:53.686Z"
      },
      {
        "duration": 94,
        "start_time": "2022-09-28T19:30:53.730Z"
      },
      {
        "duration": 10,
        "start_time": "2022-09-28T19:30:53.826Z"
      },
      {
        "duration": 1326,
        "start_time": "2022-09-28T19:30:53.838Z"
      },
      {
        "duration": 0,
        "start_time": "2022-09-28T19:30:55.167Z"
      },
      {
        "duration": 0,
        "start_time": "2022-09-28T19:30:55.169Z"
      },
      {
        "duration": 0,
        "start_time": "2022-09-28T19:30:55.170Z"
      },
      {
        "duration": 0,
        "start_time": "2022-09-28T19:30:55.170Z"
      },
      {
        "duration": 0,
        "start_time": "2022-09-28T19:30:55.180Z"
      },
      {
        "duration": 0,
        "start_time": "2022-09-28T19:30:55.181Z"
      },
      {
        "duration": 0,
        "start_time": "2022-09-28T19:30:55.183Z"
      },
      {
        "duration": 0,
        "start_time": "2022-09-28T19:30:55.185Z"
      },
      {
        "duration": 0,
        "start_time": "2022-09-28T19:30:55.186Z"
      },
      {
        "duration": 0,
        "start_time": "2022-09-28T19:30:55.187Z"
      },
      {
        "duration": 0,
        "start_time": "2022-09-28T19:30:55.188Z"
      },
      {
        "duration": 0,
        "start_time": "2022-09-28T19:30:55.190Z"
      },
      {
        "duration": 0,
        "start_time": "2022-09-28T19:30:55.191Z"
      },
      {
        "duration": 0,
        "start_time": "2022-09-28T19:30:55.192Z"
      },
      {
        "duration": 4973,
        "start_time": "2022-09-28T19:37:32.964Z"
      },
      {
        "duration": 3898,
        "start_time": "2022-09-28T19:37:54.841Z"
      },
      {
        "duration": 4890,
        "start_time": "2022-09-28T19:38:13.953Z"
      },
      {
        "duration": 5149,
        "start_time": "2022-09-28T19:38:40.584Z"
      },
      {
        "duration": 5179,
        "start_time": "2022-09-28T19:39:16.931Z"
      },
      {
        "duration": 5278,
        "start_time": "2022-09-28T19:39:36.446Z"
      },
      {
        "duration": 5106,
        "start_time": "2022-09-28T19:41:28.717Z"
      },
      {
        "duration": 5234,
        "start_time": "2022-09-28T19:41:54.357Z"
      },
      {
        "duration": 5929,
        "start_time": "2022-09-28T19:42:45.521Z"
      },
      {
        "duration": 5361,
        "start_time": "2022-09-28T19:43:04.974Z"
      },
      {
        "duration": 1246,
        "start_time": "2022-09-28T19:49:46.518Z"
      },
      {
        "duration": 58,
        "start_time": "2022-09-28T19:50:05.367Z"
      },
      {
        "duration": 1537,
        "start_time": "2022-09-28T19:50:17.886Z"
      },
      {
        "duration": 3984,
        "start_time": "2022-09-28T19:52:24.827Z"
      },
      {
        "duration": 4163,
        "start_time": "2022-09-28T19:53:39.222Z"
      },
      {
        "duration": 3802,
        "start_time": "2022-09-28T19:53:49.347Z"
      },
      {
        "duration": 4253,
        "start_time": "2022-09-28T19:54:53.169Z"
      },
      {
        "duration": 4504,
        "start_time": "2022-09-28T19:55:14.486Z"
      },
      {
        "duration": 4093,
        "start_time": "2022-09-28T19:56:06.517Z"
      },
      {
        "duration": 11,
        "start_time": "2022-09-28T19:57:37.230Z"
      },
      {
        "duration": 2136,
        "start_time": "2022-09-28T19:57:46.066Z"
      },
      {
        "duration": 1279,
        "start_time": "2022-09-28T19:58:54.034Z"
      },
      {
        "duration": 1300,
        "start_time": "2022-09-28T20:04:18.141Z"
      },
      {
        "duration": 65,
        "start_time": "2022-09-28T20:04:19.443Z"
      },
      {
        "duration": 29,
        "start_time": "2022-09-28T20:04:19.509Z"
      },
      {
        "duration": 62,
        "start_time": "2022-09-28T20:04:19.540Z"
      },
      {
        "duration": 92,
        "start_time": "2022-09-28T20:04:19.604Z"
      },
      {
        "duration": 8,
        "start_time": "2022-09-28T20:04:19.697Z"
      },
      {
        "duration": 3686,
        "start_time": "2022-09-28T20:04:19.707Z"
      },
      {
        "duration": 21,
        "start_time": "2022-09-28T20:04:23.395Z"
      },
      {
        "duration": 991,
        "start_time": "2022-09-28T20:04:23.417Z"
      },
      {
        "duration": 4,
        "start_time": "2022-09-28T20:04:24.411Z"
      },
      {
        "duration": 14,
        "start_time": "2022-09-28T20:04:24.416Z"
      },
      {
        "duration": 50,
        "start_time": "2022-09-28T20:04:24.431Z"
      },
      {
        "duration": 513,
        "start_time": "2022-09-28T20:04:24.483Z"
      },
      {
        "duration": 4,
        "start_time": "2022-09-28T20:04:24.998Z"
      },
      {
        "duration": 20,
        "start_time": "2022-09-28T20:04:25.003Z"
      },
      {
        "duration": 7,
        "start_time": "2022-09-28T20:04:25.024Z"
      },
      {
        "duration": 108079,
        "start_time": "2022-09-28T20:04:25.033Z"
      },
      {
        "duration": 1377,
        "start_time": "2022-09-28T20:06:13.114Z"
      },
      {
        "duration": 1394,
        "start_time": "2022-09-28T20:06:14.493Z"
      },
      {
        "duration": 935,
        "start_time": "2022-09-28T20:06:15.889Z"
      },
      {
        "duration": 9,
        "start_time": "2022-09-28T20:06:16.826Z"
      },
      {
        "duration": 134,
        "start_time": "2022-09-28T20:11:48.616Z"
      },
      {
        "duration": 46077,
        "start_time": "2022-09-28T20:11:57.792Z"
      },
      {
        "duration": 49,
        "start_time": "2022-09-29T16:29:05.145Z"
      },
      {
        "duration": 1709,
        "start_time": "2022-09-29T16:29:32.785Z"
      },
      {
        "duration": 159,
        "start_time": "2022-09-29T16:29:34.498Z"
      },
      {
        "duration": 30,
        "start_time": "2022-09-29T16:29:34.658Z"
      },
      {
        "duration": 52,
        "start_time": "2022-09-29T16:29:34.690Z"
      },
      {
        "duration": 98,
        "start_time": "2022-09-29T16:29:34.744Z"
      },
      {
        "duration": 105,
        "start_time": "2022-09-29T16:29:34.844Z"
      },
      {
        "duration": 0,
        "start_time": "2022-09-29T16:29:34.951Z"
      },
      {
        "duration": 0,
        "start_time": "2022-09-29T16:29:34.953Z"
      },
      {
        "duration": 0,
        "start_time": "2022-09-29T16:29:34.954Z"
      },
      {
        "duration": 0,
        "start_time": "2022-09-29T16:29:34.955Z"
      },
      {
        "duration": 0,
        "start_time": "2022-09-29T16:29:34.956Z"
      },
      {
        "duration": 0,
        "start_time": "2022-09-29T16:29:34.957Z"
      },
      {
        "duration": 0,
        "start_time": "2022-09-29T16:29:34.958Z"
      },
      {
        "duration": 0,
        "start_time": "2022-09-29T16:29:34.959Z"
      },
      {
        "duration": 0,
        "start_time": "2022-09-29T16:29:34.960Z"
      },
      {
        "duration": 0,
        "start_time": "2022-09-29T16:29:34.961Z"
      },
      {
        "duration": 0,
        "start_time": "2022-09-29T16:29:34.961Z"
      },
      {
        "duration": 0,
        "start_time": "2022-09-29T16:29:34.962Z"
      },
      {
        "duration": 0,
        "start_time": "2022-09-29T16:29:34.963Z"
      },
      {
        "duration": 0,
        "start_time": "2022-09-29T16:29:34.989Z"
      },
      {
        "duration": 1558,
        "start_time": "2022-09-29T16:34:27.456Z"
      },
      {
        "duration": 66,
        "start_time": "2022-09-29T16:34:29.016Z"
      },
      {
        "duration": 43,
        "start_time": "2022-09-29T16:34:29.084Z"
      },
      {
        "duration": 75,
        "start_time": "2022-09-29T16:34:29.129Z"
      },
      {
        "duration": 101,
        "start_time": "2022-09-29T16:34:29.206Z"
      },
      {
        "duration": 631011,
        "start_time": "2022-09-29T16:34:29.309Z"
      },
      {
        "duration": 23,
        "start_time": "2022-09-29T16:45:00.322Z"
      },
      {
        "duration": 1240,
        "start_time": "2022-09-29T16:45:00.346Z"
      },
      {
        "duration": 15,
        "start_time": "2022-09-29T16:45:01.588Z"
      },
      {
        "duration": 42,
        "start_time": "2022-09-29T16:45:01.607Z"
      },
      {
        "duration": 67,
        "start_time": "2022-09-29T16:45:01.651Z"
      },
      {
        "duration": 541,
        "start_time": "2022-09-29T16:45:01.795Z"
      },
      {
        "duration": 4,
        "start_time": "2022-09-29T16:45:02.338Z"
      },
      {
        "duration": 53,
        "start_time": "2022-09-29T16:45:02.343Z"
      },
      {
        "duration": 10,
        "start_time": "2022-09-29T16:45:02.401Z"
      },
      {
        "duration": 0,
        "start_time": "2022-09-29T16:47:18.818Z"
      },
      {
        "duration": 0,
        "start_time": "2022-09-29T16:47:18.819Z"
      },
      {
        "duration": 0,
        "start_time": "2022-09-29T16:47:18.821Z"
      },
      {
        "duration": 0,
        "start_time": "2022-09-29T16:47:18.821Z"
      },
      {
        "duration": 0,
        "start_time": "2022-09-29T16:47:18.822Z"
      },
      {
        "duration": 0,
        "start_time": "2022-09-29T16:47:18.823Z"
      },
      {
        "duration": 0,
        "start_time": "2022-09-29T16:47:18.824Z"
      },
      {
        "duration": 0,
        "start_time": "2022-09-29T16:47:18.825Z"
      },
      {
        "duration": 0,
        "start_time": "2022-09-29T16:47:18.826Z"
      },
      {
        "duration": 0,
        "start_time": "2022-09-29T16:47:18.827Z"
      },
      {
        "duration": 0,
        "start_time": "2022-09-29T16:47:18.828Z"
      },
      {
        "duration": 0,
        "start_time": "2022-09-29T16:47:18.830Z"
      },
      {
        "duration": 0,
        "start_time": "2022-09-29T16:47:18.831Z"
      },
      {
        "duration": 0,
        "start_time": "2022-09-29T16:47:18.832Z"
      },
      {
        "duration": 0,
        "start_time": "2022-09-29T16:47:18.833Z"
      },
      {
        "duration": 0,
        "start_time": "2022-09-29T16:47:18.833Z"
      },
      {
        "duration": 0,
        "start_time": "2022-09-29T16:47:18.835Z"
      },
      {
        "duration": 0,
        "start_time": "2022-09-29T16:47:18.836Z"
      },
      {
        "duration": 0,
        "start_time": "2022-09-29T16:47:18.837Z"
      },
      {
        "duration": 0,
        "start_time": "2022-09-29T16:47:18.838Z"
      },
      {
        "duration": 0,
        "start_time": "2022-09-29T16:47:18.839Z"
      },
      {
        "duration": 1741,
        "start_time": "2022-09-29T16:48:10.020Z"
      },
      {
        "duration": 77,
        "start_time": "2022-09-29T16:48:11.763Z"
      },
      {
        "duration": 65,
        "start_time": "2022-09-29T16:48:11.841Z"
      },
      {
        "duration": 53,
        "start_time": "2022-09-29T16:48:11.908Z"
      },
      {
        "duration": 150,
        "start_time": "2022-09-29T16:48:11.964Z"
      },
      {
        "duration": 12,
        "start_time": "2022-09-29T16:48:12.116Z"
      },
      {
        "duration": 155008,
        "start_time": "2022-09-29T16:48:12.130Z"
      },
      {
        "duration": 22,
        "start_time": "2022-09-29T16:50:47.140Z"
      },
      {
        "duration": 1222,
        "start_time": "2022-09-29T16:50:47.163Z"
      },
      {
        "duration": 13,
        "start_time": "2022-09-29T16:50:48.387Z"
      },
      {
        "duration": 22,
        "start_time": "2022-09-29T16:50:48.402Z"
      },
      {
        "duration": 383,
        "start_time": "2022-09-29T16:50:48.426Z"
      },
      {
        "duration": 604,
        "start_time": "2022-09-29T16:50:48.811Z"
      },
      {
        "duration": 4,
        "start_time": "2022-09-29T16:50:49.418Z"
      },
      {
        "duration": 21,
        "start_time": "2022-09-29T16:50:49.424Z"
      },
      {
        "duration": 9,
        "start_time": "2022-09-29T16:50:49.446Z"
      },
      {
        "duration": 128602,
        "start_time": "2022-09-29T16:50:49.456Z"
      },
      {
        "duration": 1350,
        "start_time": "2022-09-29T16:52:58.059Z"
      },
      {
        "duration": 1617,
        "start_time": "2022-09-29T16:52:59.411Z"
      },
      {
        "duration": 843,
        "start_time": "2022-09-29T16:53:01.031Z"
      },
      {
        "duration": 25,
        "start_time": "2022-09-29T16:53:01.877Z"
      },
      {
        "duration": 12676,
        "start_time": "2022-09-29T16:54:48.853Z"
      },
      {
        "duration": 5341,
        "start_time": "2022-09-29T16:55:14.001Z"
      },
      {
        "duration": 8334,
        "start_time": "2022-09-29T16:57:31.579Z"
      },
      {
        "duration": 8063,
        "start_time": "2022-09-29T16:58:06.017Z"
      },
      {
        "duration": 11,
        "start_time": "2022-09-29T16:58:26.743Z"
      },
      {
        "duration": 8094,
        "start_time": "2022-09-29T16:58:42.544Z"
      },
      {
        "duration": 18,
        "start_time": "2022-09-29T16:59:17.454Z"
      },
      {
        "duration": 9795,
        "start_time": "2022-09-29T16:59:36.140Z"
      },
      {
        "duration": 21,
        "start_time": "2022-09-29T16:59:51.583Z"
      },
      {
        "duration": 108,
        "start_time": "2022-09-29T16:59:51.606Z"
      },
      {
        "duration": 44,
        "start_time": "2022-09-29T16:59:51.716Z"
      },
      {
        "duration": 72,
        "start_time": "2022-09-29T16:59:51.762Z"
      },
      {
        "duration": 127,
        "start_time": "2022-09-29T16:59:51.836Z"
      },
      {
        "duration": 10,
        "start_time": "2022-09-29T16:59:51.965Z"
      },
      {
        "duration": 4873,
        "start_time": "2022-09-29T16:59:51.977Z"
      },
      {
        "duration": 9324,
        "start_time": "2022-09-29T16:59:56.852Z"
      },
      {
        "duration": 30,
        "start_time": "2022-09-29T17:00:06.179Z"
      },
      {
        "duration": 1245,
        "start_time": "2022-09-29T17:00:06.211Z"
      },
      {
        "duration": 4,
        "start_time": "2022-09-29T17:00:07.458Z"
      },
      {
        "duration": 36,
        "start_time": "2022-09-29T17:00:07.464Z"
      },
      {
        "duration": 1692,
        "start_time": "2022-09-29T17:00:07.503Z"
      },
      {
        "duration": 528,
        "start_time": "2022-09-29T17:00:09.215Z"
      },
      {
        "duration": 5,
        "start_time": "2022-09-29T17:00:09.745Z"
      },
      {
        "duration": 34,
        "start_time": "2022-09-29T17:00:09.752Z"
      },
      {
        "duration": 19,
        "start_time": "2022-09-29T17:00:09.788Z"
      },
      {
        "duration": 0,
        "start_time": "2022-09-29T17:02:26.417Z"
      },
      {
        "duration": 0,
        "start_time": "2022-09-29T17:02:26.419Z"
      },
      {
        "duration": 0,
        "start_time": "2022-09-29T17:02:26.421Z"
      },
      {
        "duration": 0,
        "start_time": "2022-09-29T17:02:26.422Z"
      },
      {
        "duration": 0,
        "start_time": "2022-09-29T17:02:26.423Z"
      },
      {
        "duration": 0,
        "start_time": "2022-09-29T17:02:26.424Z"
      },
      {
        "duration": 0,
        "start_time": "2022-09-29T17:02:26.425Z"
      },
      {
        "duration": 0,
        "start_time": "2022-09-29T17:02:26.426Z"
      },
      {
        "duration": 0,
        "start_time": "2022-09-29T17:02:26.427Z"
      },
      {
        "duration": 0,
        "start_time": "2022-09-29T17:02:26.428Z"
      },
      {
        "duration": 0,
        "start_time": "2022-09-29T17:02:26.429Z"
      },
      {
        "duration": 0,
        "start_time": "2022-09-29T17:02:26.429Z"
      },
      {
        "duration": 0,
        "start_time": "2022-09-29T17:02:26.430Z"
      },
      {
        "duration": 0,
        "start_time": "2022-09-29T17:02:26.431Z"
      },
      {
        "duration": 0,
        "start_time": "2022-09-29T17:02:26.432Z"
      },
      {
        "duration": 0,
        "start_time": "2022-09-29T17:02:26.433Z"
      },
      {
        "duration": 0,
        "start_time": "2022-09-29T17:02:26.435Z"
      },
      {
        "duration": 0,
        "start_time": "2022-09-29T17:02:26.435Z"
      },
      {
        "duration": 0,
        "start_time": "2022-09-29T17:02:26.437Z"
      },
      {
        "duration": 0,
        "start_time": "2022-09-29T17:02:26.438Z"
      },
      {
        "duration": 0,
        "start_time": "2022-09-29T17:02:26.439Z"
      },
      {
        "duration": 0,
        "start_time": "2022-09-29T17:02:26.440Z"
      },
      {
        "duration": 1624,
        "start_time": "2022-09-29T17:03:29.749Z"
      },
      {
        "duration": 98,
        "start_time": "2022-09-29T17:03:31.376Z"
      },
      {
        "duration": 45,
        "start_time": "2022-09-29T17:03:31.477Z"
      },
      {
        "duration": 47,
        "start_time": "2022-09-29T17:03:31.524Z"
      },
      {
        "duration": 108,
        "start_time": "2022-09-29T17:03:31.573Z"
      },
      {
        "duration": 17,
        "start_time": "2022-09-29T17:03:31.683Z"
      },
      {
        "duration": 4904,
        "start_time": "2022-09-29T17:03:31.702Z"
      },
      {
        "duration": 1607,
        "start_time": "2022-09-29T17:03:36.608Z"
      },
      {
        "duration": 0,
        "start_time": "2022-09-29T17:03:38.218Z"
      },
      {
        "duration": 0,
        "start_time": "2022-09-29T17:03:38.220Z"
      },
      {
        "duration": 0,
        "start_time": "2022-09-29T17:03:38.221Z"
      },
      {
        "duration": 0,
        "start_time": "2022-09-29T17:03:38.224Z"
      },
      {
        "duration": 0,
        "start_time": "2022-09-29T17:03:38.226Z"
      },
      {
        "duration": 0,
        "start_time": "2022-09-29T17:03:38.228Z"
      },
      {
        "duration": 0,
        "start_time": "2022-09-29T17:03:38.229Z"
      },
      {
        "duration": 0,
        "start_time": "2022-09-29T17:03:38.231Z"
      },
      {
        "duration": 0,
        "start_time": "2022-09-29T17:03:38.233Z"
      },
      {
        "duration": 0,
        "start_time": "2022-09-29T17:03:38.235Z"
      },
      {
        "duration": 0,
        "start_time": "2022-09-29T17:03:38.236Z"
      },
      {
        "duration": 0,
        "start_time": "2022-09-29T17:03:38.237Z"
      },
      {
        "duration": 0,
        "start_time": "2022-09-29T17:03:38.239Z"
      },
      {
        "duration": 0,
        "start_time": "2022-09-29T17:03:38.241Z"
      },
      {
        "duration": 9633,
        "start_time": "2022-09-29T17:04:11.775Z"
      },
      {
        "duration": 8964,
        "start_time": "2022-09-29T17:05:18.839Z"
      },
      {
        "duration": 2739,
        "start_time": "2022-09-29T17:09:06.002Z"
      },
      {
        "duration": 75,
        "start_time": "2022-09-29T17:11:37.460Z"
      },
      {
        "duration": 2630,
        "start_time": "2022-09-29T17:13:05.647Z"
      },
      {
        "duration": 1674,
        "start_time": "2022-09-29T17:13:13.474Z"
      },
      {
        "duration": 2718,
        "start_time": "2022-09-29T17:14:16.171Z"
      },
      {
        "duration": 1725,
        "start_time": "2022-09-29T17:14:33.650Z"
      },
      {
        "duration": 1536,
        "start_time": "2022-09-29T17:18:54.795Z"
      },
      {
        "duration": 71,
        "start_time": "2022-09-29T17:18:56.333Z"
      },
      {
        "duration": 34,
        "start_time": "2022-09-29T17:18:56.406Z"
      },
      {
        "duration": 67,
        "start_time": "2022-09-29T17:18:56.442Z"
      },
      {
        "duration": 114,
        "start_time": "2022-09-29T17:18:56.511Z"
      },
      {
        "duration": 10,
        "start_time": "2022-09-29T17:18:56.626Z"
      },
      {
        "duration": 2386,
        "start_time": "2022-09-29T17:18:56.637Z"
      },
      {
        "duration": 1641,
        "start_time": "2022-09-29T17:18:59.026Z"
      },
      {
        "duration": 40,
        "start_time": "2022-09-29T17:19:00.669Z"
      },
      {
        "duration": 1149,
        "start_time": "2022-09-29T17:19:00.712Z"
      },
      {
        "duration": 5,
        "start_time": "2022-09-29T17:19:01.863Z"
      },
      {
        "duration": 42,
        "start_time": "2022-09-29T17:19:01.870Z"
      },
      {
        "duration": 81,
        "start_time": "2022-09-29T17:19:01.916Z"
      },
      {
        "duration": 593,
        "start_time": "2022-09-29T17:19:02.000Z"
      },
      {
        "duration": 4,
        "start_time": "2022-09-29T17:19:02.596Z"
      },
      {
        "duration": 38,
        "start_time": "2022-09-29T17:19:02.601Z"
      },
      {
        "duration": 10,
        "start_time": "2022-09-29T17:19:02.642Z"
      },
      {
        "duration": 122344,
        "start_time": "2022-09-29T17:19:02.653Z"
      },
      {
        "duration": 1194,
        "start_time": "2022-09-29T17:21:04.998Z"
      },
      {
        "duration": 1581,
        "start_time": "2022-09-29T17:21:06.194Z"
      },
      {
        "duration": 790,
        "start_time": "2022-09-29T17:21:07.777Z"
      },
      {
        "duration": 21,
        "start_time": "2022-09-29T17:21:08.570Z"
      },
      {
        "duration": 2537,
        "start_time": "2022-09-29T17:21:08.594Z"
      },
      {
        "duration": 9586,
        "start_time": "2022-09-29T17:21:30.799Z"
      },
      {
        "duration": 8406,
        "start_time": "2022-09-29T17:21:49.656Z"
      },
      {
        "duration": 8837,
        "start_time": "2022-09-29T17:22:06.676Z"
      },
      {
        "duration": 2186,
        "start_time": "2022-09-29T17:22:18.041Z"
      },
      {
        "duration": 2486,
        "start_time": "2022-09-29T17:22:32.799Z"
      },
      {
        "duration": 7276,
        "start_time": "2022-09-29T17:22:43.285Z"
      },
      {
        "duration": 2460,
        "start_time": "2022-09-29T17:23:03.769Z"
      },
      {
        "duration": 1859,
        "start_time": "2022-09-29T17:25:10.501Z"
      },
      {
        "duration": 9,
        "start_time": "2022-09-29T17:25:29.595Z"
      },
      {
        "duration": 102,
        "start_time": "2022-09-29T17:25:29.607Z"
      },
      {
        "duration": 48,
        "start_time": "2022-09-29T17:25:29.712Z"
      },
      {
        "duration": 62,
        "start_time": "2022-09-29T17:25:29.788Z"
      },
      {
        "duration": 141,
        "start_time": "2022-09-29T17:25:29.853Z"
      },
      {
        "duration": 12,
        "start_time": "2022-09-29T17:25:29.996Z"
      },
      {
        "duration": 2887,
        "start_time": "2022-09-29T17:25:30.009Z"
      },
      {
        "duration": 1596,
        "start_time": "2022-09-29T17:25:32.898Z"
      },
      {
        "duration": 24,
        "start_time": "2022-09-29T17:25:34.496Z"
      },
      {
        "duration": 1133,
        "start_time": "2022-09-29T17:25:34.522Z"
      },
      {
        "duration": 5,
        "start_time": "2022-09-29T17:25:35.658Z"
      },
      {
        "duration": 31,
        "start_time": "2022-09-29T17:25:35.665Z"
      },
      {
        "duration": 91,
        "start_time": "2022-09-29T17:25:35.698Z"
      },
      {
        "duration": 463,
        "start_time": "2022-09-29T17:25:35.792Z"
      },
      {
        "duration": 4,
        "start_time": "2022-09-29T17:25:36.257Z"
      },
      {
        "duration": 31,
        "start_time": "2022-09-29T17:25:36.263Z"
      },
      {
        "duration": 8,
        "start_time": "2022-09-29T17:25:36.296Z"
      },
      {
        "duration": 1539,
        "start_time": "2022-09-29T17:26:09.707Z"
      },
      {
        "duration": 65,
        "start_time": "2022-09-29T17:26:11.248Z"
      },
      {
        "duration": 39,
        "start_time": "2022-09-29T17:26:11.315Z"
      },
      {
        "duration": 92,
        "start_time": "2022-09-29T17:26:11.357Z"
      },
      {
        "duration": 113,
        "start_time": "2022-09-29T17:26:11.451Z"
      },
      {
        "duration": 25,
        "start_time": "2022-09-29T17:26:11.566Z"
      },
      {
        "duration": 2579,
        "start_time": "2022-09-29T17:26:11.594Z"
      },
      {
        "duration": 1576,
        "start_time": "2022-09-29T17:26:14.175Z"
      },
      {
        "duration": 39,
        "start_time": "2022-09-29T17:26:15.753Z"
      },
      {
        "duration": 1134,
        "start_time": "2022-09-29T17:26:15.795Z"
      },
      {
        "duration": 5,
        "start_time": "2022-09-29T17:26:16.931Z"
      },
      {
        "duration": 27,
        "start_time": "2022-09-29T17:26:16.938Z"
      },
      {
        "duration": 32,
        "start_time": "2022-09-29T17:26:16.968Z"
      },
      {
        "duration": 554,
        "start_time": "2022-09-29T17:26:17.005Z"
      },
      {
        "duration": 5,
        "start_time": "2022-09-29T17:26:17.561Z"
      },
      {
        "duration": 26,
        "start_time": "2022-09-29T17:26:17.568Z"
      },
      {
        "duration": 11,
        "start_time": "2022-09-29T17:26:17.596Z"
      },
      {
        "duration": 120742,
        "start_time": "2022-09-29T17:26:17.609Z"
      },
      {
        "duration": 1247,
        "start_time": "2022-09-29T17:28:18.353Z"
      },
      {
        "duration": 1574,
        "start_time": "2022-09-29T17:28:19.602Z"
      },
      {
        "duration": 881,
        "start_time": "2022-09-29T17:28:21.177Z"
      },
      {
        "duration": 30,
        "start_time": "2022-09-29T17:28:22.060Z"
      },
      {
        "duration": 2091,
        "start_time": "2022-09-29T17:28:55.098Z"
      },
      {
        "duration": 6,
        "start_time": "2022-09-29T17:29:19.879Z"
      },
      {
        "duration": 80,
        "start_time": "2022-09-29T17:29:19.887Z"
      },
      {
        "duration": 35,
        "start_time": "2022-09-29T17:29:19.969Z"
      },
      {
        "duration": 61,
        "start_time": "2022-09-29T17:29:20.007Z"
      },
      {
        "duration": 144,
        "start_time": "2022-09-29T17:29:20.070Z"
      },
      {
        "duration": 10,
        "start_time": "2022-09-29T17:29:20.216Z"
      },
      {
        "duration": 2548,
        "start_time": "2022-09-29T17:29:20.228Z"
      },
      {
        "duration": 1612,
        "start_time": "2022-09-29T17:29:22.778Z"
      },
      {
        "duration": 30,
        "start_time": "2022-09-29T17:29:24.393Z"
      },
      {
        "duration": 1109,
        "start_time": "2022-09-29T17:29:24.425Z"
      },
      {
        "duration": 5,
        "start_time": "2022-09-29T17:29:25.536Z"
      },
      {
        "duration": 28,
        "start_time": "2022-09-29T17:29:25.542Z"
      },
      {
        "duration": 29,
        "start_time": "2022-09-29T17:29:25.572Z"
      },
      {
        "duration": 555,
        "start_time": "2022-09-29T17:29:25.604Z"
      },
      {
        "duration": 4,
        "start_time": "2022-09-29T17:29:26.161Z"
      },
      {
        "duration": 30,
        "start_time": "2022-09-29T17:29:26.167Z"
      },
      {
        "duration": 10,
        "start_time": "2022-09-29T17:29:26.199Z"
      },
      {
        "duration": 1540,
        "start_time": "2022-09-29T17:29:48.509Z"
      },
      {
        "duration": 72,
        "start_time": "2022-09-29T17:29:50.051Z"
      },
      {
        "duration": 35,
        "start_time": "2022-09-29T17:29:50.126Z"
      },
      {
        "duration": 68,
        "start_time": "2022-09-29T17:29:50.164Z"
      },
      {
        "duration": 113,
        "start_time": "2022-09-29T17:29:50.234Z"
      },
      {
        "duration": 9,
        "start_time": "2022-09-29T17:29:50.349Z"
      },
      {
        "duration": 2429,
        "start_time": "2022-09-29T17:29:50.360Z"
      },
      {
        "duration": 1592,
        "start_time": "2022-09-29T17:29:52.790Z"
      },
      {
        "duration": 23,
        "start_time": "2022-09-29T17:29:54.389Z"
      },
      {
        "duration": 1087,
        "start_time": "2022-09-29T17:29:54.414Z"
      },
      {
        "duration": 4,
        "start_time": "2022-09-29T17:29:55.503Z"
      },
      {
        "duration": 27,
        "start_time": "2022-09-29T17:29:55.508Z"
      },
      {
        "duration": 54,
        "start_time": "2022-09-29T17:29:55.537Z"
      },
      {
        "duration": 460,
        "start_time": "2022-09-29T17:29:55.593Z"
      },
      {
        "duration": 4,
        "start_time": "2022-09-29T17:29:56.055Z"
      },
      {
        "duration": 28,
        "start_time": "2022-09-29T17:29:56.061Z"
      },
      {
        "duration": 8,
        "start_time": "2022-09-29T17:29:56.091Z"
      },
      {
        "duration": 123839,
        "start_time": "2022-09-29T17:29:56.100Z"
      },
      {
        "duration": 1581,
        "start_time": "2022-09-29T17:31:59.941Z"
      },
      {
        "duration": 1751,
        "start_time": "2022-09-29T17:32:01.523Z"
      },
      {
        "duration": 815,
        "start_time": "2022-09-29T17:32:03.276Z"
      },
      {
        "duration": 12,
        "start_time": "2022-09-29T17:32:04.093Z"
      },
      {
        "duration": 9626,
        "start_time": "2022-09-29T17:34:53.422Z"
      },
      {
        "duration": 2544,
        "start_time": "2022-09-29T17:35:36.480Z"
      },
      {
        "duration": 6917,
        "start_time": "2022-09-29T17:38:40.877Z"
      },
      {
        "duration": 3000,
        "start_time": "2022-09-29T17:38:53.437Z"
      },
      {
        "duration": 3734,
        "start_time": "2022-09-29T17:39:03.277Z"
      },
      {
        "duration": 2535,
        "start_time": "2022-09-29T17:39:50.983Z"
      },
      {
        "duration": 2803,
        "start_time": "2022-09-29T17:41:23.794Z"
      },
      {
        "duration": 148,
        "start_time": "2022-09-29T17:43:12.807Z"
      },
      {
        "duration": 3556,
        "start_time": "2022-09-29T17:43:24.721Z"
      },
      {
        "duration": 2500,
        "start_time": "2022-09-29T17:43:40.509Z"
      },
      {
        "duration": 2197,
        "start_time": "2022-09-29T17:48:02.857Z"
      },
      {
        "duration": 1851,
        "start_time": "2022-09-29T17:48:13.383Z"
      },
      {
        "duration": 1961,
        "start_time": "2022-09-29T17:48:30.265Z"
      },
      {
        "duration": 1938,
        "start_time": "2022-09-29T17:48:40.746Z"
      },
      {
        "duration": 1854,
        "start_time": "2022-09-29T17:48:49.476Z"
      },
      {
        "duration": 2645,
        "start_time": "2022-09-29T17:54:53.397Z"
      },
      {
        "duration": 1940,
        "start_time": "2022-09-29T17:58:05.106Z"
      },
      {
        "duration": 2044,
        "start_time": "2022-09-29T18:01:22.707Z"
      },
      {
        "duration": 2415,
        "start_time": "2022-09-29T18:01:47.927Z"
      },
      {
        "duration": 2099,
        "start_time": "2022-09-29T18:02:35.144Z"
      },
      {
        "duration": 2245,
        "start_time": "2022-09-29T18:04:15.458Z"
      },
      {
        "duration": 1936,
        "start_time": "2022-09-29T18:04:39.011Z"
      },
      {
        "duration": 1202,
        "start_time": "2022-09-29T18:11:17.507Z"
      },
      {
        "duration": 1152,
        "start_time": "2022-09-29T18:11:36.810Z"
      },
      {
        "duration": 863,
        "start_time": "2022-09-29T18:12:07.092Z"
      },
      {
        "duration": 1398,
        "start_time": "2022-09-29T18:12:24.241Z"
      },
      {
        "duration": 2378,
        "start_time": "2022-09-29T18:14:26.963Z"
      },
      {
        "duration": 2251,
        "start_time": "2022-09-29T18:14:53.348Z"
      },
      {
        "duration": 2369,
        "start_time": "2022-09-29T18:15:35.762Z"
      },
      {
        "duration": 2471,
        "start_time": "2022-09-29T18:15:48.707Z"
      },
      {
        "duration": 1114,
        "start_time": "2022-09-29T18:16:22.620Z"
      },
      {
        "duration": 2310,
        "start_time": "2022-09-29T18:19:29.002Z"
      },
      {
        "duration": 2494,
        "start_time": "2022-09-29T18:20:00.188Z"
      },
      {
        "duration": 2020,
        "start_time": "2022-09-29T18:21:20.283Z"
      },
      {
        "duration": 2003,
        "start_time": "2022-09-29T18:21:57.046Z"
      },
      {
        "duration": 1990,
        "start_time": "2022-09-29T18:22:12.864Z"
      },
      {
        "duration": 1897,
        "start_time": "2022-09-29T18:23:01.638Z"
      },
      {
        "duration": 1100,
        "start_time": "2022-09-29T18:24:01.900Z"
      },
      {
        "duration": 1850,
        "start_time": "2022-09-29T18:24:15.038Z"
      },
      {
        "duration": 1489,
        "start_time": "2022-09-29T18:24:30.972Z"
      },
      {
        "duration": 1490,
        "start_time": "2022-09-29T18:25:10.933Z"
      },
      {
        "duration": 1293,
        "start_time": "2022-09-29T18:25:22.589Z"
      },
      {
        "duration": 1605,
        "start_time": "2022-09-29T18:25:38.402Z"
      },
      {
        "duration": 1081,
        "start_time": "2022-09-29T18:26:49.480Z"
      },
      {
        "duration": 1089,
        "start_time": "2022-09-29T18:27:05.078Z"
      },
      {
        "duration": 1685,
        "start_time": "2022-09-29T18:28:45.880Z"
      },
      {
        "duration": 1746,
        "start_time": "2022-09-29T18:29:37.270Z"
      },
      {
        "duration": 1923,
        "start_time": "2022-09-29T18:30:08.404Z"
      },
      {
        "duration": 1763,
        "start_time": "2022-09-29T18:30:49.504Z"
      },
      {
        "duration": 2019,
        "start_time": "2022-09-29T18:32:07.815Z"
      },
      {
        "duration": 1245,
        "start_time": "2022-09-29T18:35:19.570Z"
      },
      {
        "duration": 1220,
        "start_time": "2022-09-29T18:35:35.208Z"
      },
      {
        "duration": 1427,
        "start_time": "2022-09-29T18:35:53.317Z"
      },
      {
        "duration": 1162,
        "start_time": "2022-09-29T18:36:25.720Z"
      },
      {
        "duration": 1286,
        "start_time": "2022-09-29T18:36:40.913Z"
      },
      {
        "duration": 1358,
        "start_time": "2022-09-29T18:37:11.626Z"
      },
      {
        "duration": 1427,
        "start_time": "2022-09-29T18:38:45.586Z"
      },
      {
        "duration": 1341,
        "start_time": "2022-09-29T18:39:06.214Z"
      },
      {
        "duration": 1501,
        "start_time": "2022-09-29T18:39:20.720Z"
      },
      {
        "duration": 1515,
        "start_time": "2022-09-29T18:39:31.774Z"
      },
      {
        "duration": 1403,
        "start_time": "2022-09-29T18:40:18.835Z"
      },
      {
        "duration": 1763,
        "start_time": "2022-09-29T18:40:27.475Z"
      },
      {
        "duration": 1326,
        "start_time": "2022-09-29T18:40:45.490Z"
      },
      {
        "duration": 1322,
        "start_time": "2022-09-29T18:40:58.612Z"
      },
      {
        "duration": 1831,
        "start_time": "2022-09-29T18:41:10.865Z"
      },
      {
        "duration": 1689,
        "start_time": "2022-09-29T18:41:20.338Z"
      },
      {
        "duration": 1434,
        "start_time": "2022-09-29T18:41:42.315Z"
      },
      {
        "duration": 1621,
        "start_time": "2022-09-29T18:42:05.224Z"
      },
      {
        "duration": 1591,
        "start_time": "2022-09-29T18:42:20.676Z"
      },
      {
        "duration": 1611,
        "start_time": "2022-09-29T18:42:31.037Z"
      },
      {
        "duration": 1488,
        "start_time": "2022-09-29T18:42:48.758Z"
      },
      {
        "duration": 1451,
        "start_time": "2022-09-29T18:43:00.007Z"
      },
      {
        "duration": 2048,
        "start_time": "2022-09-29T18:47:30.406Z"
      },
      {
        "duration": 2723,
        "start_time": "2022-09-29T18:47:54.798Z"
      },
      {
        "duration": 1695,
        "start_time": "2022-09-29T18:48:51.132Z"
      },
      {
        "duration": 1606,
        "start_time": "2022-09-29T18:53:19.357Z"
      },
      {
        "duration": 68,
        "start_time": "2022-09-29T18:53:20.965Z"
      },
      {
        "duration": 56,
        "start_time": "2022-09-29T18:53:21.035Z"
      },
      {
        "duration": 59,
        "start_time": "2022-09-29T18:53:21.093Z"
      },
      {
        "duration": 102,
        "start_time": "2022-09-29T18:53:21.154Z"
      },
      {
        "duration": 8,
        "start_time": "2022-09-29T18:53:21.258Z"
      },
      {
        "duration": 1982,
        "start_time": "2022-09-29T18:53:21.267Z"
      },
      {
        "duration": 1401,
        "start_time": "2022-09-29T18:53:23.251Z"
      },
      {
        "duration": 24,
        "start_time": "2022-09-29T18:53:24.654Z"
      },
      {
        "duration": 1192,
        "start_time": "2022-09-29T18:53:24.690Z"
      },
      {
        "duration": 13,
        "start_time": "2022-09-29T18:53:25.889Z"
      },
      {
        "duration": 21,
        "start_time": "2022-09-29T18:53:25.904Z"
      },
      {
        "duration": 72,
        "start_time": "2022-09-29T18:53:25.927Z"
      },
      {
        "duration": 559,
        "start_time": "2022-09-29T18:53:26.001Z"
      },
      {
        "duration": 5,
        "start_time": "2022-09-29T18:53:26.561Z"
      },
      {
        "duration": 37,
        "start_time": "2022-09-29T18:53:26.567Z"
      },
      {
        "duration": 10,
        "start_time": "2022-09-29T18:53:26.606Z"
      },
      {
        "duration": 130158,
        "start_time": "2022-09-29T18:53:26.618Z"
      },
      {
        "duration": 1433,
        "start_time": "2022-09-29T18:55:36.778Z"
      },
      {
        "duration": 1676,
        "start_time": "2022-09-29T18:55:38.213Z"
      },
      {
        "duration": 930,
        "start_time": "2022-09-29T18:55:39.892Z"
      },
      {
        "duration": 14,
        "start_time": "2022-09-29T18:55:40.825Z"
      },
      {
        "duration": 3030,
        "start_time": "2022-09-30T05:28:43.253Z"
      },
      {
        "duration": 106,
        "start_time": "2022-09-30T05:28:46.286Z"
      },
      {
        "duration": 89,
        "start_time": "2022-09-30T05:28:46.394Z"
      },
      {
        "duration": 108,
        "start_time": "2022-09-30T05:28:46.485Z"
      },
      {
        "duration": 259,
        "start_time": "2022-09-30T05:28:46.595Z"
      },
      {
        "duration": 9,
        "start_time": "2022-09-30T05:28:46.856Z"
      },
      {
        "duration": 3717,
        "start_time": "2022-09-30T05:28:46.867Z"
      },
      {
        "duration": 2705,
        "start_time": "2022-09-30T05:28:50.586Z"
      },
      {
        "duration": 82,
        "start_time": "2022-09-30T05:28:53.293Z"
      },
      {
        "duration": 2187,
        "start_time": "2022-09-30T05:28:53.378Z"
      },
      {
        "duration": 4,
        "start_time": "2022-09-30T05:28:55.567Z"
      },
      {
        "duration": 81,
        "start_time": "2022-09-30T05:28:55.573Z"
      },
      {
        "duration": 105,
        "start_time": "2022-09-30T05:28:55.656Z"
      },
      {
        "duration": 922,
        "start_time": "2022-09-30T05:28:55.763Z"
      },
      {
        "duration": 4,
        "start_time": "2022-09-30T05:28:56.688Z"
      },
      {
        "duration": 74,
        "start_time": "2022-09-30T05:28:56.694Z"
      },
      {
        "duration": 8,
        "start_time": "2022-09-30T05:28:56.769Z"
      },
      {
        "duration": 260710,
        "start_time": "2022-09-30T05:28:56.779Z"
      },
      {
        "duration": 1486,
        "start_time": "2022-09-30T05:33:17.491Z"
      },
      {
        "duration": 3485,
        "start_time": "2022-09-30T05:33:18.980Z"
      },
      {
        "duration": 1713,
        "start_time": "2022-09-30T05:33:22.470Z"
      },
      {
        "duration": 74,
        "start_time": "2022-09-30T05:33:24.185Z"
      },
      {
        "duration": 412,
        "start_time": "2022-09-30T05:33:24.267Z"
      },
      {
        "duration": 60,
        "start_time": "2022-09-30T05:33:56.311Z"
      },
      {
        "duration": 2851,
        "start_time": "2022-09-30T05:34:01.048Z"
      },
      {
        "duration": 2419,
        "start_time": "2022-09-30T05:34:07.642Z"
      },
      {
        "duration": 3761,
        "start_time": "2022-09-30T05:34:31.412Z"
      },
      {
        "duration": 3140,
        "start_time": "2022-09-30T05:34:51.953Z"
      },
      {
        "duration": 178,
        "start_time": "2022-09-30T05:34:55.096Z"
      },
      {
        "duration": 102,
        "start_time": "2022-09-30T05:34:55.275Z"
      },
      {
        "duration": 103,
        "start_time": "2022-09-30T05:34:55.379Z"
      },
      {
        "duration": 206,
        "start_time": "2022-09-30T05:34:55.484Z"
      },
      {
        "duration": 64,
        "start_time": "2022-09-30T05:34:55.692Z"
      },
      {
        "duration": 3736,
        "start_time": "2022-09-30T05:34:55.758Z"
      },
      {
        "duration": 2745,
        "start_time": "2022-09-30T05:34:59.556Z"
      },
      {
        "duration": 6728,
        "start_time": "2022-09-30T05:35:02.358Z"
      },
      {
        "duration": 81,
        "start_time": "2022-09-30T05:35:09.088Z"
      },
      {
        "duration": 2296,
        "start_time": "2022-09-30T05:35:09.171Z"
      },
      {
        "duration": 6,
        "start_time": "2022-09-30T05:35:11.469Z"
      },
      {
        "duration": 79,
        "start_time": "2022-09-30T05:35:11.477Z"
      },
      {
        "duration": 491,
        "start_time": "2022-09-30T05:35:11.563Z"
      },
      {
        "duration": 913,
        "start_time": "2022-09-30T05:35:12.056Z"
      },
      {
        "duration": 4,
        "start_time": "2022-09-30T05:35:12.973Z"
      },
      {
        "duration": 87,
        "start_time": "2022-09-30T05:35:12.979Z"
      },
      {
        "duration": 11,
        "start_time": "2022-09-30T05:35:13.068Z"
      },
      {
        "duration": 271214,
        "start_time": "2022-09-30T05:35:13.081Z"
      },
      {
        "duration": 1316,
        "start_time": "2022-09-30T05:39:44.355Z"
      },
      {
        "duration": 3304,
        "start_time": "2022-09-30T05:39:45.673Z"
      },
      {
        "duration": 1620,
        "start_time": "2022-09-30T05:39:48.979Z"
      },
      {
        "duration": 67,
        "start_time": "2022-09-30T05:39:50.600Z"
      },
      {
        "duration": 1647,
        "start_time": "2022-12-02T09:22:13.078Z"
      },
      {
        "duration": 120,
        "start_time": "2022-12-02T09:22:14.729Z"
      },
      {
        "duration": 35,
        "start_time": "2022-12-02T09:22:14.851Z"
      },
      {
        "duration": 75,
        "start_time": "2022-12-02T09:22:14.888Z"
      },
      {
        "duration": 115,
        "start_time": "2022-12-02T09:22:14.964Z"
      },
      {
        "duration": 9,
        "start_time": "2022-12-02T09:22:15.080Z"
      },
      {
        "duration": 1906,
        "start_time": "2022-12-02T09:22:15.091Z"
      },
      {
        "duration": 1368,
        "start_time": "2022-12-02T09:22:16.999Z"
      },
      {
        "duration": 2817,
        "start_time": "2022-12-02T09:22:18.369Z"
      },
      {
        "duration": 46,
        "start_time": "2022-12-02T09:22:21.188Z"
      },
      {
        "duration": 1118,
        "start_time": "2022-12-02T09:22:21.235Z"
      },
      {
        "duration": 4,
        "start_time": "2022-12-02T09:22:22.355Z"
      },
      {
        "duration": 24,
        "start_time": "2022-12-02T09:22:22.360Z"
      },
      {
        "duration": 142,
        "start_time": "2022-12-02T09:22:22.386Z"
      },
      {
        "duration": 568,
        "start_time": "2022-12-02T09:22:22.530Z"
      },
      {
        "duration": 4,
        "start_time": "2022-12-02T09:22:23.099Z"
      },
      {
        "duration": 30,
        "start_time": "2022-12-02T09:22:23.105Z"
      },
      {
        "duration": 22,
        "start_time": "2022-12-02T09:22:23.137Z"
      },
      {
        "duration": 123650,
        "start_time": "2022-12-02T09:22:23.161Z"
      },
      {
        "duration": 1337,
        "start_time": "2022-12-02T09:24:26.813Z"
      },
      {
        "duration": 1505,
        "start_time": "2022-12-02T09:24:28.152Z"
      },
      {
        "duration": 746,
        "start_time": "2022-12-02T09:24:29.658Z"
      },
      {
        "duration": 27,
        "start_time": "2022-12-02T09:24:30.405Z"
      }
    ],
    "kernelspec": {
      "display_name": "Python 3 (ipykernel)",
      "language": "python",
      "name": "python3"
    },
    "language_info": {
      "codemirror_mode": {
        "name": "ipython",
        "version": 3
      },
      "file_extension": ".py",
      "mimetype": "text/x-python",
      "name": "python",
      "nbconvert_exporter": "python",
      "pygments_lexer": "ipython3",
      "version": "3.9.5"
    },
    "toc": {
      "base_numbering": 1,
      "nav_menu": {},
      "number_sections": true,
      "sideBar": true,
      "skip_h1_title": true,
      "title_cell": "Содержание",
      "title_sidebar": "Contents",
      "toc_cell": true,
      "toc_position": {},
      "toc_section_display": true,
      "toc_window_display": false
    },
    "colab": {
      "provenance": []
    }
  },
  "nbformat": 4,
  "nbformat_minor": 0
}